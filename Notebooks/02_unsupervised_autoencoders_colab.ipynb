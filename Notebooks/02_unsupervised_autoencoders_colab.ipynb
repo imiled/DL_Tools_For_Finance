{
  "nbformat": 4,
  "nbformat_minor": 0,
  "metadata": {
    "colab": {
      "name": "02_unsupervised_autoencoders-colab.ipynb",
      "provenance": [],
      "collapsed_sections": []
    },
    "kernelspec": {
      "name": "python3",
      "display_name": "Python 3"
    },
    "accelerator": "GPU"
  },
  "cells": [
    {
      "cell_type": "markdown",
      "metadata": {
        "id": "gSjSC6HSAfle",
        "colab_type": "text"
      },
      "source": [
        "A highly fine tuned autoencoder model should be able to reconstruct the same input which was passed in the first layer. In this kernel, I will walk you through the working of autoencoders and their implementation. Autoencoders are widly used with the image data and some of their use cases are:\n",
        "\n",
        "* Dimentionality Reduction\n",
        "* Image Compression\n",
        "* Image Denoising\n",
        "* Image Generation\n",
        "* Feature Extraction"
      ]
    },
    {
      "cell_type": "markdown",
      "metadata": {
        "id": "00WgiDpaB63e",
        "colab_type": "text"
      },
      "source": [
        "Remember the typical Keras workflow looks:\n",
        "\n",
        "1.  Define your training data: input tensors and target tensors.\n",
        "2.  Define a network of layers (or model ) that maps your inputs to your targets.\n",
        "3.  Configure the learning process by choosing a loss function, an optimizer, and some metrics to monitor.\n",
        "4.  Iterate on your training data by calling the fit() method of your model.\n"
      ]
    },
    {
      "cell_type": "markdown",
      "metadata": {
        "id": "efJbTUGjBvdO",
        "colab_type": "text"
      },
      "source": [
        "Load the libraries "
      ]
    },
    {
      "cell_type": "code",
      "metadata": {
        "id": "nK3sScIfBpzD",
        "colab_type": "code",
        "colab": {
          "base_uri": "https://localhost:8080/",
          "height": 80
        },
        "outputId": "463a33ad-255a-4570-9fec-cbbe88f5302a"
      },
      "source": [
        "from keras.layers import Dense, Input, Conv2D, LSTM, MaxPool2D, UpSampling2D\n",
        "from sklearn.model_selection import train_test_split\n",
        "from keras.callbacks import EarlyStopping\n",
        "from keras.utils import to_categorical\n",
        "from numpy import argmax, array_equal\n",
        "import matplotlib.pyplot as plt\n",
        "from keras.models import Model\n",
        "from imgaug import augmenters\n",
        "from random import randint\n",
        "import pandas as pd\n",
        "import numpy as np"
      ],
      "execution_count": 3,
      "outputs": [
        {
          "output_type": "stream",
          "text": [
            "Using TensorFlow backend.\n"
          ],
          "name": "stderr"
        },
        {
          "output_type": "display_data",
          "data": {
            "text/html": [
              "<p style=\"color: red;\">\n",
              "The default version of TensorFlow in Colab will soon switch to TensorFlow 2.x.<br>\n",
              "We recommend you <a href=\"https://www.tensorflow.org/guide/migrate\" target=\"_blank\">upgrade</a> now \n",
              "or ensure your notebook will continue to use TensorFlow 1.x via the <code>%tensorflow_version 1.x</code> magic:\n",
              "<a href=\"https://colab.research.google.com/notebooks/tensorflow_version.ipynb\" target=\"_blank\">more info</a>.</p>\n"
            ],
            "text/plain": [
              "<IPython.core.display.HTML object>"
            ]
          },
          "metadata": {
            "tags": []
          }
        }
      ]
    },
    {
      "cell_type": "markdown",
      "metadata": {
        "id": "4Cs7ufQKB3lx",
        "colab_type": "text"
      },
      "source": [
        "### Dataset Prepration\n",
        "\n",
        "Load the dataset, separate predictors and target, normalize the inputs.\n",
        "\n",
        "The data used can be found here: \n",
        "https://github.com/zalandoresearch/fashion-mnist"
      ]
    },
    {
      "cell_type": "code",
      "metadata": {
        "id": "oR4Uqwx4ux2A",
        "colab_type": "code",
        "colab": {
          "base_uri": "https://localhost:8080/",
          "height": 153
        },
        "outputId": "7530703c-bde2-458b-f204-50aa5612bb15"
      },
      "source": [
        "from keras.datasets import fashion_mnist\n",
        "\n",
        "(train_x, train_y), (val_x, val_y) = fashion_mnist.load_data()\n",
        "## normalize and reshape the predictors  \n",
        "train_x = train_x / 255\n",
        "val_x = val_x / 255\n",
        "\n",
        "train_x = train_x.reshape(-1, 784)\n",
        "val_x = val_x.reshape(-1, 784)"
      ],
      "execution_count": 4,
      "outputs": [
        {
          "output_type": "stream",
          "text": [
            "Downloading data from http://fashion-mnist.s3-website.eu-central-1.amazonaws.com/train-labels-idx1-ubyte.gz\n",
            "32768/29515 [=================================] - 0s 8us/step\n",
            "Downloading data from http://fashion-mnist.s3-website.eu-central-1.amazonaws.com/train-images-idx3-ubyte.gz\n",
            "26427392/26421880 [==============================] - 4s 0us/step\n",
            "Downloading data from http://fashion-mnist.s3-website.eu-central-1.amazonaws.com/t10k-labels-idx1-ubyte.gz\n",
            "8192/5148 [===============================================] - 0s 0us/step\n",
            "Downloading data from http://fashion-mnist.s3-website.eu-central-1.amazonaws.com/t10k-images-idx3-ubyte.gz\n",
            "4423680/4422102 [==============================] - 2s 0us/step\n"
          ],
          "name": "stdout"
        }
      ]
    },
    {
      "cell_type": "code",
      "metadata": {
        "id": "S8aRVLxtvB3X",
        "colab_type": "code",
        "colab": {
          "base_uri": "https://localhost:8080/",
          "height": 34
        },
        "outputId": "61ec62ea-8157-4263-9db5-578a1ae2ff2d"
      },
      "source": [
        "train_x.shape"
      ],
      "execution_count": 3,
      "outputs": [
        {
          "output_type": "execute_result",
          "data": {
            "text/plain": [
              "(60000, 784)"
            ]
          },
          "metadata": {
            "tags": []
          },
          "execution_count": 3
        }
      ]
    },
    {
      "cell_type": "markdown",
      "metadata": {
        "id": "JLvQAUE2k4d6",
        "colab_type": "text"
      },
      "source": [
        "## Image Reconstruction"
      ]
    },
    {
      "cell_type": "markdown",
      "metadata": {
        "id": "4gIY8u7nFl1K",
        "colab_type": "text"
      },
      "source": [
        "### Create Autoencoder architecture  (using Functional API)\n",
        "\n",
        "In this section, lets create an autoencoder architecture. The encoding part comprises of three layers with 2000, 1200, and 500 nodes. Encoding architecture is connected to latent view space comprising of 10 nodes which is then connected to decoding architecture with 500, 1200, and 2000 nodes. The final layer comprises of exact number of nodes as the input layer."
      ]
    },
    {
      "cell_type": "code",
      "metadata": {
        "id": "1k2wy9nOFq8l",
        "colab_type": "code",
        "colab": {
          "base_uri": "https://localhost:8080/",
          "height": 139
        },
        "outputId": "aab817a9-4430-4330-a15e-47dcaa65dd73"
      },
      "source": [
        "## input layer\n",
        "input_layer = Input(shape=(784,))\n",
        "\n",
        "## encoding architecture\n",
        "encode_layer1 = Dense(1500, activation='relu')(input_layer)\n",
        "encode_layer2 = Dense(1000, activation='relu')(encode_layer1)\n",
        "encode_layer3 = Dense(500, activation='relu')(encode_layer2)\n",
        "\n",
        "## latent view\n",
        "latent_view   = Dense(50, activation='sigmoid', name=\"latent\")(encode_layer3)\n",
        "\n",
        "## decoding architecture\n",
        "decode_layer1 = Dense(500, activation='relu')(latent_view)\n",
        "decode_layer2 = Dense(1000, activation='relu')(decode_layer1)\n",
        "decode_layer3 = Dense(1500, activation='relu')(decode_layer2)\n",
        "\n",
        "## output layer\n",
        "output_layer  = Dense(784)(decode_layer3)\n",
        "\n",
        "model = Model(input_layer, output_layer)"
      ],
      "execution_count": 4,
      "outputs": [
        {
          "output_type": "stream",
          "text": [
            "WARNING:tensorflow:From /usr/local/lib/python3.6/dist-packages/keras/backend/tensorflow_backend.py:66: The name tf.get_default_graph is deprecated. Please use tf.compat.v1.get_default_graph instead.\n",
            "\n",
            "WARNING:tensorflow:From /usr/local/lib/python3.6/dist-packages/keras/backend/tensorflow_backend.py:541: The name tf.placeholder is deprecated. Please use tf.compat.v1.placeholder instead.\n",
            "\n",
            "WARNING:tensorflow:From /usr/local/lib/python3.6/dist-packages/keras/backend/tensorflow_backend.py:4432: The name tf.random_uniform is deprecated. Please use tf.random.uniform instead.\n",
            "\n"
          ],
          "name": "stdout"
        }
      ]
    },
    {
      "cell_type": "markdown",
      "metadata": {
        "id": "ABW4sa04lr4N",
        "colab_type": "text"
      },
      "source": [
        "### Re-create the Autoencoder architecture using the Sequential API\n"
      ]
    },
    {
      "cell_type": "code",
      "metadata": {
        "id": "4VboMJTolzFk",
        "colab_type": "code",
        "colab": {}
      },
      "source": [
        "## Re-create the Autoencoder architecture using the Sequential model API "
      ],
      "execution_count": 0,
      "outputs": []
    },
    {
      "cell_type": "code",
      "metadata": {
        "id": "yat0O1X1WyRY",
        "colab_type": "code",
        "colab": {}
      },
      "source": [
        "a = model.layers[4]"
      ],
      "execution_count": 0,
      "outputs": []
    },
    {
      "cell_type": "code",
      "metadata": {
        "id": "zAnAg7fKZT9N",
        "colab_type": "code",
        "colab": {
          "base_uri": "https://localhost:8080/",
          "height": 34
        },
        "outputId": "42180d0b-2fe1-47ee-ad25-caba404cf687"
      },
      "source": [
        "a.name "
      ],
      "execution_count": 7,
      "outputs": [
        {
          "output_type": "execute_result",
          "data": {
            "text/plain": [
              "'latent'"
            ]
          },
          "metadata": {
            "tags": []
          },
          "execution_count": 7
        }
      ]
    },
    {
      "cell_type": "code",
      "metadata": {
        "id": "1EQLCkBLGUwA",
        "colab_type": "code",
        "colab": {
          "base_uri": "https://localhost:8080/",
          "height": 459
        },
        "outputId": "03ac33b8-8ba2-42ed-d9c0-7be9791c51dc"
      },
      "source": [
        "model.summary()"
      ],
      "execution_count": 8,
      "outputs": [
        {
          "output_type": "stream",
          "text": [
            "Model: \"model_1\"\n",
            "_________________________________________________________________\n",
            "Layer (type)                 Output Shape              Param #   \n",
            "=================================================================\n",
            "input_1 (InputLayer)         (None, 784)               0         \n",
            "_________________________________________________________________\n",
            "dense_1 (Dense)              (None, 1500)              1177500   \n",
            "_________________________________________________________________\n",
            "dense_2 (Dense)              (None, 1000)              1501000   \n",
            "_________________________________________________________________\n",
            "dense_3 (Dense)              (None, 500)               500500    \n",
            "_________________________________________________________________\n",
            "latent (Dense)               (None, 50)                25050     \n",
            "_________________________________________________________________\n",
            "dense_4 (Dense)              (None, 500)               25500     \n",
            "_________________________________________________________________\n",
            "dense_5 (Dense)              (None, 1000)              501000    \n",
            "_________________________________________________________________\n",
            "dense_6 (Dense)              (None, 1500)              1501500   \n",
            "_________________________________________________________________\n",
            "dense_7 (Dense)              (None, 784)               1176784   \n",
            "=================================================================\n",
            "Total params: 6,408,834\n",
            "Trainable params: 6,408,834\n",
            "Non-trainable params: 0\n",
            "_________________________________________________________________\n"
          ],
          "name": "stdout"
        }
      ]
    },
    {
      "cell_type": "code",
      "metadata": {
        "id": "3pOHhMG8HtP6",
        "colab_type": "code",
        "colab": {
          "base_uri": "https://localhost:8080/",
          "height": 34
        },
        "outputId": "c3c7365d-ad6c-442e-d052-3a21b8d5416b"
      },
      "source": [
        "np.shape(train_x)"
      ],
      "execution_count": 9,
      "outputs": [
        {
          "output_type": "execute_result",
          "data": {
            "text/plain": [
              "(60000, 784)"
            ]
          },
          "metadata": {
            "tags": []
          },
          "execution_count": 9
        }
      ]
    },
    {
      "cell_type": "markdown",
      "metadata": {
        "id": "dCvY6IwGIbPa",
        "colab_type": "text"
      },
      "source": [
        "Next, we will train the model with early stopping callback."
      ]
    },
    {
      "cell_type": "code",
      "metadata": {
        "id": "4W-7bc3wJMDJ",
        "colab_type": "code",
        "colab": {}
      },
      "source": [
        "?EarlyStopping"
      ],
      "execution_count": 0,
      "outputs": []
    },
    {
      "cell_type": "code",
      "metadata": {
        "id": "yY9mqsIiIc7D",
        "colab_type": "code",
        "colab": {
          "base_uri": "https://localhost:8080/",
          "height": 1000
        },
        "outputId": "9189b799-2aff-45c5-dbc2-93d9e432830e"
      },
      "source": [
        "model.compile(optimizer='adam', loss='mse')\n",
        "\n",
        "early_stopping = EarlyStopping(monitor='val_loss', min_delta=0, \n",
        "                               patience=10, verbose=1, mode='auto')\n",
        "\n",
        "model.fit(train_x, train_x, epochs=20, batch_size=2048, \n",
        "          validation_data=(val_x, val_x), \n",
        "          callbacks=[early_stopping])"
      ],
      "execution_count": 11,
      "outputs": [
        {
          "output_type": "stream",
          "text": [
            "WARNING:tensorflow:From /usr/local/lib/python3.6/dist-packages/keras/optimizers.py:793: The name tf.train.Optimizer is deprecated. Please use tf.compat.v1.train.Optimizer instead.\n",
            "\n",
            "WARNING:tensorflow:From /usr/local/lib/python3.6/dist-packages/keras/backend/tensorflow_backend.py:1033: The name tf.assign_add is deprecated. Please use tf.compat.v1.assign_add instead.\n",
            "\n",
            "WARNING:tensorflow:From /usr/local/lib/python3.6/dist-packages/keras/backend/tensorflow_backend.py:1020: The name tf.assign is deprecated. Please use tf.compat.v1.assign instead.\n",
            "\n",
            "WARNING:tensorflow:From /usr/local/lib/python3.6/dist-packages/keras/backend/tensorflow_backend.py:3005: The name tf.Session is deprecated. Please use tf.compat.v1.Session instead.\n",
            "\n",
            "Train on 60000 samples, validate on 10000 samples\n",
            "Epoch 1/20\n",
            "WARNING:tensorflow:From /usr/local/lib/python3.6/dist-packages/keras/backend/tensorflow_backend.py:190: The name tf.get_default_session is deprecated. Please use tf.compat.v1.get_default_session instead.\n",
            "\n",
            "WARNING:tensorflow:From /usr/local/lib/python3.6/dist-packages/keras/backend/tensorflow_backend.py:197: The name tf.ConfigProto is deprecated. Please use tf.compat.v1.ConfigProto instead.\n",
            "\n",
            "WARNING:tensorflow:From /usr/local/lib/python3.6/dist-packages/keras/backend/tensorflow_backend.py:207: The name tf.global_variables is deprecated. Please use tf.compat.v1.global_variables instead.\n",
            "\n",
            "WARNING:tensorflow:From /usr/local/lib/python3.6/dist-packages/keras/backend/tensorflow_backend.py:216: The name tf.is_variable_initialized is deprecated. Please use tf.compat.v1.is_variable_initialized instead.\n",
            "\n",
            "WARNING:tensorflow:From /usr/local/lib/python3.6/dist-packages/keras/backend/tensorflow_backend.py:223: The name tf.variables_initializer is deprecated. Please use tf.compat.v1.variables_initializer instead.\n",
            "\n",
            "60000/60000 [==============================] - 44s 740us/step - loss: 0.0831 - val_loss: 0.0534\n",
            "Epoch 2/20\n",
            "60000/60000 [==============================] - 43s 719us/step - loss: 0.0449 - val_loss: 0.0389\n",
            "Epoch 3/20\n",
            "60000/60000 [==============================] - 43s 718us/step - loss: 0.0371 - val_loss: 0.0347\n",
            "Epoch 4/20\n",
            "60000/60000 [==============================] - 43s 715us/step - loss: 0.0326 - val_loss: 0.0292\n",
            "Epoch 5/20\n",
            "60000/60000 [==============================] - 43s 719us/step - loss: 0.0280 - val_loss: 0.0269\n",
            "Epoch 6/20\n",
            "60000/60000 [==============================] - 43s 719us/step - loss: 0.0252 - val_loss: 0.0250\n",
            "Epoch 7/20\n",
            "60000/60000 [==============================] - 43s 717us/step - loss: 0.0239 - val_loss: 0.0236\n",
            "Epoch 8/20\n",
            "60000/60000 [==============================] - 43s 715us/step - loss: 0.0225 - val_loss: 0.0218\n",
            "Epoch 9/20\n",
            "60000/60000 [==============================] - 43s 714us/step - loss: 0.0215 - val_loss: 0.0212\n",
            "Epoch 10/20\n",
            "60000/60000 [==============================] - 43s 713us/step - loss: 0.0202 - val_loss: 0.0205\n",
            "Epoch 11/20\n",
            "60000/60000 [==============================] - 43s 714us/step - loss: 0.0195 - val_loss: 0.0192\n",
            "Epoch 12/20\n",
            "60000/60000 [==============================] - 43s 714us/step - loss: 0.0187 - val_loss: 0.0184\n",
            "Epoch 13/20\n",
            "60000/60000 [==============================] - 43s 715us/step - loss: 0.0180 - val_loss: 0.0176\n",
            "Epoch 14/20\n",
            "60000/60000 [==============================] - 43s 714us/step - loss: 0.0175 - val_loss: 0.0171\n",
            "Epoch 15/20\n",
            "60000/60000 [==============================] - 43s 716us/step - loss: 0.0173 - val_loss: 0.0169\n",
            "Epoch 16/20\n",
            "60000/60000 [==============================] - 43s 717us/step - loss: 0.0163 - val_loss: 0.0166\n",
            "Epoch 17/20\n",
            "60000/60000 [==============================] - 43s 713us/step - loss: 0.0160 - val_loss: 0.0165\n",
            "Epoch 18/20\n",
            "60000/60000 [==============================] - 43s 712us/step - loss: 0.0158 - val_loss: 0.0153\n",
            "Epoch 19/20\n",
            "60000/60000 [==============================] - 43s 715us/step - loss: 0.0152 - val_loss: 0.0149\n",
            "Epoch 20/20\n",
            "60000/60000 [==============================] - 43s 714us/step - loss: 0.0150 - val_loss: 0.0146\n"
          ],
          "name": "stdout"
        },
        {
          "output_type": "execute_result",
          "data": {
            "text/plain": [
              "<keras.callbacks.History at 0x7fef762219b0>"
            ]
          },
          "metadata": {
            "tags": []
          },
          "execution_count": 11
        }
      ]
    },
    {
      "cell_type": "code",
      "metadata": {
        "id": "ureepQM8Jkxx",
        "colab_type": "code",
        "colab": {}
      },
      "source": [
        "preds = model.predict(val_x)"
      ],
      "execution_count": 0,
      "outputs": []
    },
    {
      "cell_type": "markdown",
      "metadata": {
        "id": "2gZ_1AVPQ0kc",
        "colab_type": "text"
      },
      "source": [
        "**Predicted : Autoencoder Output**"
      ]
    },
    {
      "cell_type": "code",
      "metadata": {
        "id": "9nKo4zgnQX9m",
        "colab_type": "code",
        "colab": {
          "base_uri": "https://localhost:8080/",
          "height": 165
        },
        "outputId": "09365a97-f89c-4945-a77e-aa80689e54ce"
      },
      "source": [
        "f, ax = plt.subplots(1,5)\n",
        "f.set_size_inches(12, 6)\n",
        "for i in range(5,10):\n",
        "    ax[i-5].imshow(preds[i].reshape(28, 28))\n",
        "plt.show()"
      ],
      "execution_count": 13,
      "outputs": [
        {
          "output_type": "display_data",
          "data": {
            "image/png": "[encoded data removed]",
            "text/plain": [
              "<Figure size 864x432 with 5 Axes>"
            ]
          },
          "metadata": {
            "tags": []
          }
        }
      ]
    },
    {
      "cell_type": "code",
      "metadata": {
        "id": "Zk6QOZ9JT2Jr",
        "colab_type": "code",
        "colab": {
          "base_uri": "https://localhost:8080/",
          "height": 34
        },
        "outputId": "cb7e0675-aac7-40a8-c69e-755e16efe525"
      },
      "source": [
        "train_y[range(5,10)]"
      ],
      "execution_count": 14,
      "outputs": [
        {
          "output_type": "execute_result",
          "data": {
            "text/plain": [
              "array([2, 7, 2, 5, 5], dtype=uint8)"
            ]
          },
          "metadata": {
            "tags": []
          },
          "execution_count": 14
        }
      ]
    },
    {
      "cell_type": "markdown",
      "metadata": {
        "id": "Cmc2pjnhQ19K",
        "colab_type": "text"
      },
      "source": [
        "**Inputs: Actual Images**"
      ]
    },
    {
      "cell_type": "code",
      "metadata": {
        "id": "QXxbRzeDQll5",
        "colab_type": "code",
        "colab": {
          "base_uri": "https://localhost:8080/",
          "height": 165
        },
        "outputId": "c91caf21-be95-491d-d6df-73104114abef"
      },
      "source": [
        "f, ax = plt.subplots(1,5)\n",
        "f.set_size_inches(12, 6)\n",
        "for i in range(5,10):\n",
        "    ax[i-5].imshow(val_x[i].reshape(28, 28))\n",
        "plt.show()"
      ],
      "execution_count": 15,
      "outputs": [
        {
          "output_type": "display_data",
          "data": {
            "image/png": "[encoded data removed]",
            "text/plain": [
              "<Figure size 864x432 with 5 Axes>"
            ]
          },
          "metadata": {
            "tags": []
          }
        }
      ]
    },
    {
      "cell_type": "markdown",
      "metadata": {
        "id": "Av1tCbePkioN",
        "colab_type": "text"
      },
      "source": [
        "## Classifier on top of an encoding"
      ]
    },
    {
      "cell_type": "code",
      "metadata": {
        "id": "S9IMB6QnULQE",
        "colab_type": "code",
        "colab": {}
      },
      "source": [
        "# Here you get the layer that interests you from model_a, \n",
        "# it is still linked to its input layer, you just need to remember it for later\n",
        "intermediate_from_a = model.get_layer('latent').output"
      ],
      "execution_count": 0,
      "outputs": []
    },
    {
      "cell_type": "code",
      "metadata": {
        "id": "rxRVK9nRaS2H",
        "colab_type": "code",
        "colab": {}
      },
      "source": [
        "intermediate_layer_model = Model(inputs=model.input, \n",
        "                                 outputs=model.get_layer(\"latent\").output)"
      ],
      "execution_count": 0,
      "outputs": []
    },
    {
      "cell_type": "code",
      "metadata": {
        "id": "e7F5koRlaI1a",
        "colab_type": "code",
        "colab": {}
      },
      "source": [
        "latent_val = intermediate_layer_model.predict(val_x)\n",
        "latent_train = intermediate_layer_model.predict(train_x)"
      ],
      "execution_count": 0,
      "outputs": []
    },
    {
      "cell_type": "code",
      "metadata": {
        "id": "WvYWyoQ_dDZW",
        "colab_type": "code",
        "colab": {}
      },
      "source": [
        "import pandas\n",
        "from keras.models import Sequential\n",
        "from keras.layers import Dense\n",
        "from keras.wrappers.scikit_learn import KerasClassifier\n",
        "from keras.utils import np_utils\n",
        "from sklearn.model_selection import cross_val_score\n",
        "from sklearn.model_selection import KFold\n",
        "from sklearn.preprocessing import LabelEncoder\n",
        "from sklearn.pipeline import Pipeline\n",
        "\n",
        "# encode class values as integers\n",
        "encoder = LabelEncoder()\n",
        "encoder.fit(train_y)\n",
        "encoded_train_y = encoder.transform(train_y)\n",
        "# convert integers to dummy variables (i.e. one hot encoded)\n",
        "dummy_train_y = np_utils.to_categorical(encoded_train_y)"
      ],
      "execution_count": 0,
      "outputs": []
    },
    {
      "cell_type": "code",
      "metadata": {
        "id": "H79HcWASdQVw",
        "colab_type": "code",
        "colab": {}
      },
      "source": [
        "encoded_val_y = encoder.transform(val_y)\n",
        "dummy_val_y = np_utils.to_categorical(encoded_val_y)"
      ],
      "execution_count": 0,
      "outputs": []
    },
    {
      "cell_type": "code",
      "metadata": {
        "id": "CmC7Tn6KdjwY",
        "colab_type": "code",
        "colab": {
          "base_uri": "https://localhost:8080/",
          "height": 34
        },
        "outputId": "8e030b07-539d-438e-bcca-b64955606e9b"
      },
      "source": [
        "np.shape(dummy_val_y)[1]"
      ],
      "execution_count": 21,
      "outputs": [
        {
          "output_type": "execute_result",
          "data": {
            "text/plain": [
              "10"
            ]
          },
          "metadata": {
            "tags": []
          },
          "execution_count": 21
        }
      ]
    },
    {
      "cell_type": "code",
      "metadata": {
        "id": "X6HUhjg9mrSz",
        "colab_type": "code",
        "colab": {
          "base_uri": "https://localhost:8080/",
          "height": 34
        },
        "outputId": "8637deee-cfb1-4621-ad94-ebe9905e7cff"
      },
      "source": [
        "np.shape(latent_train)"
      ],
      "execution_count": 22,
      "outputs": [
        {
          "output_type": "execute_result",
          "data": {
            "text/plain": [
              "(60000, 50)"
            ]
          },
          "metadata": {
            "tags": []
          },
          "execution_count": 22
        }
      ]
    },
    {
      "cell_type": "code",
      "metadata": {
        "id": "pVtbfoSAasRR",
        "colab_type": "code",
        "colab": {
          "base_uri": "https://localhost:8080/",
          "height": 1000
        },
        "outputId": "79cb8166-8e99-467c-fb86-a3296f966547"
      },
      "source": [
        "from keras import optimizers, regularizers\n",
        "from keras.models import Sequential\n",
        "\n",
        "model2 = Sequential()\n",
        "input_size = np.shape(latent_view)[1]\n",
        "# add L2 weight regularization to logistic regression\n",
        "regularizer = regularizers.l2(0.01)\n",
        "model2.add(Dense(units=10, activation='sigmoid', \n",
        "                 input_shape=(input_size.value,) , kernel_regularizer=regularizer))\n",
        "\n",
        "# Init rmsprop\n",
        "rmsprop_small = optimizers.RMSprop(lr=0.01)\n",
        "#rmsprop_large = optimizers.RMSprop(lr=0.5)\n",
        "\n",
        "model2.compile(loss='categorical_crossentropy', optimizer=rmsprop_small, metrics=['accuracy'])\n",
        "history_small_lr= model2.fit(latent_train, dummy_train_y, \n",
        "                             epochs=200, batch_size=1024, \n",
        "                             validation_data=(latent_val, dummy_val_y), verbose=1)"
      ],
      "execution_count": 23,
      "outputs": [
        {
          "output_type": "stream",
          "text": [
            "WARNING:tensorflow:From /usr/local/lib/python3.6/dist-packages/keras/backend/tensorflow_backend.py:3576: The name tf.log is deprecated. Please use tf.math.log instead.\n",
            "\n",
            "WARNING:tensorflow:From /usr/local/lib/python3.6/dist-packages/tensorflow_core/python/ops/math_grad.py:1424: where (from tensorflow.python.ops.array_ops) is deprecated and will be removed in a future version.\n",
            "Instructions for updating:\n",
            "Use tf.where in 2.0, which has the same broadcast rule as np.where\n",
            "Train on 60000 samples, validate on 10000 samples\n",
            "Epoch 1/200\n",
            "60000/60000 [==============================] - 0s 7us/step - loss: 1.8019 - acc: 0.6408 - val_loss: 1.6068 - val_acc: 0.7279\n",
            "Epoch 2/200\n",
            "60000/60000 [==============================] - 0s 2us/step - loss: 1.5736 - acc: 0.7237 - val_loss: 1.5849 - val_acc: 0.6883\n",
            "Epoch 3/200\n",
            "60000/60000 [==============================] - 0s 3us/step - loss: 1.5572 - acc: 0.7281 - val_loss: 1.5621 - val_acc: 0.7267\n",
            "Epoch 4/200\n",
            "60000/60000 [==============================] - 0s 3us/step - loss: 1.5466 - acc: 0.7302 - val_loss: 1.5555 - val_acc: 0.7343\n",
            "Epoch 5/200\n",
            "60000/60000 [==============================] - 0s 3us/step - loss: 1.5379 - acc: 0.7283 - val_loss: 1.5463 - val_acc: 0.7223\n",
            "Epoch 6/200\n",
            "60000/60000 [==============================] - 0s 2us/step - loss: 1.5290 - acc: 0.7308 - val_loss: 1.5405 - val_acc: 0.7222\n",
            "Epoch 7/200\n",
            "60000/60000 [==============================] - 0s 3us/step - loss: 1.5217 - acc: 0.7298 - val_loss: 1.5275 - val_acc: 0.7100\n",
            "Epoch 8/200\n",
            "60000/60000 [==============================] - 0s 3us/step - loss: 1.5139 - acc: 0.7310 - val_loss: 1.5262 - val_acc: 0.7173\n",
            "Epoch 9/200\n",
            "60000/60000 [==============================] - 0s 3us/step - loss: 1.5083 - acc: 0.7293 - val_loss: 1.5239 - val_acc: 0.7176\n",
            "Epoch 10/200\n",
            "60000/60000 [==============================] - 0s 3us/step - loss: 1.5015 - acc: 0.7289 - val_loss: 1.5132 - val_acc: 0.6972\n",
            "Epoch 11/200\n",
            "60000/60000 [==============================] - 0s 2us/step - loss: 1.4962 - acc: 0.7294 - val_loss: 1.5018 - val_acc: 0.7283\n",
            "Epoch 12/200\n",
            "60000/60000 [==============================] - 0s 2us/step - loss: 1.4921 - acc: 0.7297 - val_loss: 1.4975 - val_acc: 0.7349\n",
            "Epoch 13/200\n",
            "60000/60000 [==============================] - 0s 3us/step - loss: 1.4881 - acc: 0.7305 - val_loss: 1.4940 - val_acc: 0.7246\n",
            "Epoch 14/200\n",
            "60000/60000 [==============================] - 0s 3us/step - loss: 1.4835 - acc: 0.7317 - val_loss: 1.4912 - val_acc: 0.7314\n",
            "Epoch 15/200\n",
            "60000/60000 [==============================] - 0s 3us/step - loss: 1.4795 - acc: 0.7308 - val_loss: 1.4888 - val_acc: 0.7251\n",
            "Epoch 16/200\n",
            "60000/60000 [==============================] - 0s 3us/step - loss: 1.4757 - acc: 0.7304 - val_loss: 1.4876 - val_acc: 0.7148\n",
            "Epoch 17/200\n",
            "60000/60000 [==============================] - 0s 2us/step - loss: 1.4732 - acc: 0.7299 - val_loss: 1.4819 - val_acc: 0.7363\n",
            "Epoch 18/200\n",
            "60000/60000 [==============================] - 0s 3us/step - loss: 1.4700 - acc: 0.7320 - val_loss: 1.4793 - val_acc: 0.7306\n",
            "Epoch 19/200\n",
            "60000/60000 [==============================] - 0s 2us/step - loss: 1.4680 - acc: 0.7317 - val_loss: 1.4785 - val_acc: 0.7359\n",
            "Epoch 20/200\n",
            "60000/60000 [==============================] - 0s 3us/step - loss: 1.4649 - acc: 0.7322 - val_loss: 1.4773 - val_acc: 0.7228\n",
            "Epoch 21/200\n",
            "60000/60000 [==============================] - 0s 3us/step - loss: 1.4628 - acc: 0.7315 - val_loss: 1.4725 - val_acc: 0.7200\n",
            "Epoch 22/200\n",
            "60000/60000 [==============================] - 0s 3us/step - loss: 1.4603 - acc: 0.7310 - val_loss: 1.4775 - val_acc: 0.7342\n",
            "Epoch 23/200\n",
            "60000/60000 [==============================] - 0s 3us/step - loss: 1.4582 - acc: 0.7321 - val_loss: 1.4779 - val_acc: 0.7101\n",
            "Epoch 24/200\n",
            "60000/60000 [==============================] - 0s 2us/step - loss: 1.4572 - acc: 0.7309 - val_loss: 1.4755 - val_acc: 0.7121\n",
            "Epoch 25/200\n",
            "60000/60000 [==============================] - 0s 3us/step - loss: 1.4548 - acc: 0.7317 - val_loss: 1.4760 - val_acc: 0.7103\n",
            "Epoch 26/200\n",
            "60000/60000 [==============================] - 0s 3us/step - loss: 1.4540 - acc: 0.7309 - val_loss: 1.4744 - val_acc: 0.7093\n",
            "Epoch 27/200\n",
            "60000/60000 [==============================] - 0s 3us/step - loss: 1.4531 - acc: 0.7320 - val_loss: 1.4662 - val_acc: 0.7062\n",
            "Epoch 28/200\n",
            "60000/60000 [==============================] - 0s 2us/step - loss: 1.4506 - acc: 0.7321 - val_loss: 1.4746 - val_acc: 0.6879\n",
            "Epoch 29/200\n",
            "60000/60000 [==============================] - 0s 3us/step - loss: 1.4501 - acc: 0.7312 - val_loss: 1.4545 - val_acc: 0.7377\n",
            "Epoch 30/200\n",
            "60000/60000 [==============================] - 0s 3us/step - loss: 1.4483 - acc: 0.7321 - val_loss: 1.4593 - val_acc: 0.7114\n",
            "Epoch 31/200\n",
            "60000/60000 [==============================] - 0s 2us/step - loss: 1.4477 - acc: 0.7316 - val_loss: 1.4520 - val_acc: 0.7392\n",
            "Epoch 32/200\n",
            "60000/60000 [==============================] - 0s 3us/step - loss: 1.4470 - acc: 0.7328 - val_loss: 1.4634 - val_acc: 0.7123\n",
            "Epoch 33/200\n",
            "60000/60000 [==============================] - 0s 3us/step - loss: 1.4450 - acc: 0.7321 - val_loss: 1.4610 - val_acc: 0.7007\n",
            "Epoch 34/200\n",
            "60000/60000 [==============================] - 0s 3us/step - loss: 1.4450 - acc: 0.7312 - val_loss: 1.4519 - val_acc: 0.7325\n",
            "Epoch 35/200\n",
            "60000/60000 [==============================] - 0s 2us/step - loss: 1.4435 - acc: 0.7329 - val_loss: 1.4555 - val_acc: 0.7295\n",
            "Epoch 36/200\n",
            "60000/60000 [==============================] - 0s 3us/step - loss: 1.4428 - acc: 0.7321 - val_loss: 1.4558 - val_acc: 0.7224\n",
            "Epoch 37/200\n",
            "60000/60000 [==============================] - 0s 3us/step - loss: 1.4419 - acc: 0.7329 - val_loss: 1.4604 - val_acc: 0.6951\n",
            "Epoch 38/200\n",
            "60000/60000 [==============================] - 0s 3us/step - loss: 1.4409 - acc: 0.7312 - val_loss: 1.4690 - val_acc: 0.7003\n",
            "Epoch 39/200\n",
            "60000/60000 [==============================] - 0s 3us/step - loss: 1.4412 - acc: 0.7327 - val_loss: 1.4529 - val_acc: 0.7114\n",
            "Epoch 40/200\n",
            "60000/60000 [==============================] - 0s 3us/step - loss: 1.4399 - acc: 0.7327 - val_loss: 1.4569 - val_acc: 0.7306\n",
            "Epoch 41/200\n",
            "60000/60000 [==============================] - 0s 2us/step - loss: 1.4396 - acc: 0.7325 - val_loss: 1.4461 - val_acc: 0.7283\n",
            "Epoch 42/200\n",
            "60000/60000 [==============================] - 0s 3us/step - loss: 1.4396 - acc: 0.7312 - val_loss: 1.4511 - val_acc: 0.7193\n",
            "Epoch 43/200\n",
            "60000/60000 [==============================] - 0s 3us/step - loss: 1.4394 - acc: 0.7314 - val_loss: 1.4460 - val_acc: 0.7315\n",
            "Epoch 44/200\n",
            "60000/60000 [==============================] - 0s 2us/step - loss: 1.4389 - acc: 0.7336 - val_loss: 1.4485 - val_acc: 0.7183\n",
            "Epoch 45/200\n",
            "60000/60000 [==============================] - 0s 3us/step - loss: 1.4373 - acc: 0.7334 - val_loss: 1.4582 - val_acc: 0.6901\n",
            "Epoch 46/200\n",
            "60000/60000 [==============================] - 0s 3us/step - loss: 1.4374 - acc: 0.7327 - val_loss: 1.4576 - val_acc: 0.7089\n",
            "Epoch 47/200\n",
            "60000/60000 [==============================] - 0s 3us/step - loss: 1.4366 - acc: 0.7323 - val_loss: 1.4443 - val_acc: 0.7341\n",
            "Epoch 48/200\n",
            "60000/60000 [==============================] - 0s 3us/step - loss: 1.4355 - acc: 0.7325 - val_loss: 1.4504 - val_acc: 0.7232\n",
            "Epoch 49/200\n",
            "60000/60000 [==============================] - 0s 3us/step - loss: 1.4360 - acc: 0.7307 - val_loss: 1.4489 - val_acc: 0.7266\n",
            "Epoch 50/200\n",
            "60000/60000 [==============================] - 0s 3us/step - loss: 1.4364 - acc: 0.7332 - val_loss: 1.4442 - val_acc: 0.7352\n",
            "Epoch 51/200\n",
            "60000/60000 [==============================] - 0s 3us/step - loss: 1.4349 - acc: 0.7321 - val_loss: 1.4495 - val_acc: 0.7111\n",
            "Epoch 52/200\n",
            "60000/60000 [==============================] - 0s 3us/step - loss: 1.4346 - acc: 0.7321 - val_loss: 1.4442 - val_acc: 0.7310\n",
            "Epoch 53/200\n",
            "60000/60000 [==============================] - 0s 3us/step - loss: 1.4347 - acc: 0.7330 - val_loss: 1.4626 - val_acc: 0.6910\n",
            "Epoch 54/200\n",
            "60000/60000 [==============================] - 0s 3us/step - loss: 1.4343 - acc: 0.7324 - val_loss: 1.4437 - val_acc: 0.7334\n",
            "Epoch 55/200\n",
            "60000/60000 [==============================] - 0s 3us/step - loss: 1.4334 - acc: 0.7319 - val_loss: 1.4500 - val_acc: 0.7254\n",
            "Epoch 56/200\n",
            "60000/60000 [==============================] - 0s 3us/step - loss: 1.4345 - acc: 0.7318 - val_loss: 1.4516 - val_acc: 0.6987\n",
            "Epoch 57/200\n",
            "60000/60000 [==============================] - 0s 3us/step - loss: 1.4340 - acc: 0.7327 - val_loss: 1.4505 - val_acc: 0.7156\n",
            "Epoch 58/200\n",
            "60000/60000 [==============================] - 0s 3us/step - loss: 1.4331 - acc: 0.7308 - val_loss: 1.4407 - val_acc: 0.7331\n",
            "Epoch 59/200\n",
            "60000/60000 [==============================] - 0s 3us/step - loss: 1.4322 - acc: 0.7326 - val_loss: 1.4453 - val_acc: 0.7427\n",
            "Epoch 60/200\n",
            "60000/60000 [==============================] - 0s 3us/step - loss: 1.4332 - acc: 0.7329 - val_loss: 1.4519 - val_acc: 0.7258\n",
            "Epoch 61/200\n",
            "60000/60000 [==============================] - 0s 3us/step - loss: 1.4327 - acc: 0.7323 - val_loss: 1.4572 - val_acc: 0.6759\n",
            "Epoch 62/200\n",
            "60000/60000 [==============================] - 0s 3us/step - loss: 1.4319 - acc: 0.7327 - val_loss: 1.4464 - val_acc: 0.7311\n",
            "Epoch 63/200\n",
            "60000/60000 [==============================] - 0s 2us/step - loss: 1.4321 - acc: 0.7328 - val_loss: 1.4396 - val_acc: 0.7271\n",
            "Epoch 64/200\n",
            "60000/60000 [==============================] - 0s 2us/step - loss: 1.4320 - acc: 0.7313 - val_loss: 1.4464 - val_acc: 0.7173\n",
            "Epoch 65/200\n",
            "60000/60000 [==============================] - 0s 2us/step - loss: 1.4314 - acc: 0.7331 - val_loss: 1.4463 - val_acc: 0.7216\n",
            "Epoch 66/200\n",
            "60000/60000 [==============================] - 0s 2us/step - loss: 1.4309 - acc: 0.7322 - val_loss: 1.4459 - val_acc: 0.7325\n",
            "Epoch 67/200\n",
            "60000/60000 [==============================] - 0s 2us/step - loss: 1.4314 - acc: 0.7334 - val_loss: 1.4418 - val_acc: 0.7331\n",
            "Epoch 68/200\n",
            "60000/60000 [==============================] - 0s 3us/step - loss: 1.4315 - acc: 0.7313 - val_loss: 1.4522 - val_acc: 0.7106\n",
            "Epoch 69/200\n",
            "60000/60000 [==============================] - 0s 2us/step - loss: 1.4305 - acc: 0.7321 - val_loss: 1.4464 - val_acc: 0.7044\n",
            "Epoch 70/200\n",
            "60000/60000 [==============================] - 0s 2us/step - loss: 1.4306 - acc: 0.7305 - val_loss: 1.4524 - val_acc: 0.7105\n",
            "Epoch 71/200\n",
            "60000/60000 [==============================] - 0s 2us/step - loss: 1.4309 - acc: 0.7319 - val_loss: 1.4463 - val_acc: 0.7270\n",
            "Epoch 72/200\n",
            "60000/60000 [==============================] - 0s 3us/step - loss: 1.4299 - acc: 0.7324 - val_loss: 1.4530 - val_acc: 0.7111\n",
            "Epoch 73/200\n",
            "60000/60000 [==============================] - 0s 3us/step - loss: 1.4303 - acc: 0.7310 - val_loss: 1.4422 - val_acc: 0.7313\n",
            "Epoch 74/200\n",
            "60000/60000 [==============================] - 0s 2us/step - loss: 1.4305 - acc: 0.7319 - val_loss: 1.4458 - val_acc: 0.7156\n",
            "Epoch 75/200\n",
            "60000/60000 [==============================] - 0s 3us/step - loss: 1.4295 - acc: 0.7320 - val_loss: 1.4397 - val_acc: 0.7171\n",
            "Epoch 76/200\n",
            "60000/60000 [==============================] - 0s 3us/step - loss: 1.4300 - acc: 0.7323 - val_loss: 1.4424 - val_acc: 0.7290\n",
            "Epoch 77/200\n",
            "60000/60000 [==============================] - 0s 3us/step - loss: 1.4299 - acc: 0.7325 - val_loss: 1.4453 - val_acc: 0.7326\n",
            "Epoch 78/200\n",
            "60000/60000 [==============================] - 0s 3us/step - loss: 1.4306 - acc: 0.7311 - val_loss: 1.4460 - val_acc: 0.7210\n",
            "Epoch 79/200\n",
            "60000/60000 [==============================] - 0s 2us/step - loss: 1.4293 - acc: 0.7332 - val_loss: 1.4476 - val_acc: 0.7297\n",
            "Epoch 80/200\n",
            "60000/60000 [==============================] - 0s 3us/step - loss: 1.4298 - acc: 0.7331 - val_loss: 1.4427 - val_acc: 0.7243\n",
            "Epoch 81/200\n",
            "60000/60000 [==============================] - 0s 3us/step - loss: 1.4286 - acc: 0.7325 - val_loss: 1.4504 - val_acc: 0.7067\n",
            "Epoch 82/200\n",
            "60000/60000 [==============================] - 0s 2us/step - loss: 1.4288 - acc: 0.7341 - val_loss: 1.4408 - val_acc: 0.7247\n",
            "Epoch 83/200\n",
            "60000/60000 [==============================] - 0s 2us/step - loss: 1.4296 - acc: 0.7305 - val_loss: 1.4471 - val_acc: 0.7276\n",
            "Epoch 84/200\n",
            "60000/60000 [==============================] - 0s 3us/step - loss: 1.4288 - acc: 0.7336 - val_loss: 1.4430 - val_acc: 0.7355\n",
            "Epoch 85/200\n",
            "60000/60000 [==============================] - 0s 3us/step - loss: 1.4283 - acc: 0.7337 - val_loss: 1.4495 - val_acc: 0.6856\n",
            "Epoch 86/200\n",
            "60000/60000 [==============================] - 0s 2us/step - loss: 1.4294 - acc: 0.7315 - val_loss: 1.4346 - val_acc: 0.7407\n",
            "Epoch 87/200\n",
            "60000/60000 [==============================] - 0s 2us/step - loss: 1.4289 - acc: 0.7327 - val_loss: 1.4487 - val_acc: 0.6911\n",
            "Epoch 88/200\n",
            "60000/60000 [==============================] - 0s 3us/step - loss: 1.4293 - acc: 0.7310 - val_loss: 1.4424 - val_acc: 0.7154\n",
            "Epoch 89/200\n",
            "60000/60000 [==============================] - 0s 3us/step - loss: 1.4281 - acc: 0.7331 - val_loss: 1.4335 - val_acc: 0.7433\n",
            "Epoch 90/200\n",
            "60000/60000 [==============================] - 0s 3us/step - loss: 1.4285 - acc: 0.7325 - val_loss: 1.4500 - val_acc: 0.7069\n",
            "Epoch 91/200\n",
            "60000/60000 [==============================] - 0s 3us/step - loss: 1.4289 - acc: 0.7318 - val_loss: 1.4451 - val_acc: 0.7080\n",
            "Epoch 92/200\n",
            "60000/60000 [==============================] - 0s 3us/step - loss: 1.4290 - acc: 0.7326 - val_loss: 1.4418 - val_acc: 0.7303\n",
            "Epoch 93/200\n",
            "60000/60000 [==============================] - 0s 3us/step - loss: 1.4278 - acc: 0.7356 - val_loss: 1.4453 - val_acc: 0.7132\n",
            "Epoch 94/200\n",
            "60000/60000 [==============================] - 0s 3us/step - loss: 1.4279 - acc: 0.7335 - val_loss: 1.4416 - val_acc: 0.7297\n",
            "Epoch 95/200\n",
            "60000/60000 [==============================] - 0s 3us/step - loss: 1.4288 - acc: 0.7312 - val_loss: 1.4408 - val_acc: 0.7159\n",
            "Epoch 96/200\n",
            "60000/60000 [==============================] - 0s 2us/step - loss: 1.4279 - acc: 0.7323 - val_loss: 1.4567 - val_acc: 0.7037\n",
            "Epoch 97/200\n",
            "60000/60000 [==============================] - 0s 3us/step - loss: 1.4275 - acc: 0.7333 - val_loss: 1.4408 - val_acc: 0.7154\n",
            "Epoch 98/200\n",
            "60000/60000 [==============================] - 0s 3us/step - loss: 1.4287 - acc: 0.7305 - val_loss: 1.4440 - val_acc: 0.7235\n",
            "Epoch 99/200\n",
            "60000/60000 [==============================] - 0s 2us/step - loss: 1.4284 - acc: 0.7316 - val_loss: 1.4397 - val_acc: 0.7284\n",
            "Epoch 100/200\n",
            "60000/60000 [==============================] - 0s 3us/step - loss: 1.4282 - acc: 0.7345 - val_loss: 1.4396 - val_acc: 0.7096\n",
            "Epoch 101/200\n",
            "60000/60000 [==============================] - 0s 3us/step - loss: 1.4271 - acc: 0.7326 - val_loss: 1.4372 - val_acc: 0.7169\n",
            "Epoch 102/200\n",
            "60000/60000 [==============================] - 0s 3us/step - loss: 1.4285 - acc: 0.7330 - val_loss: 1.4423 - val_acc: 0.7176\n",
            "Epoch 103/200\n",
            "60000/60000 [==============================] - 0s 3us/step - loss: 1.4272 - acc: 0.7320 - val_loss: 1.4388 - val_acc: 0.7321\n",
            "Epoch 104/200\n",
            "60000/60000 [==============================] - 0s 2us/step - loss: 1.4281 - acc: 0.7333 - val_loss: 1.4417 - val_acc: 0.7348\n",
            "Epoch 105/200\n",
            "60000/60000 [==============================] - 0s 3us/step - loss: 1.4283 - acc: 0.7315 - val_loss: 1.4357 - val_acc: 0.7231\n",
            "Epoch 106/200\n",
            "60000/60000 [==============================] - 0s 3us/step - loss: 1.4270 - acc: 0.7339 - val_loss: 1.4432 - val_acc: 0.7104\n",
            "Epoch 107/200\n",
            "60000/60000 [==============================] - 0s 3us/step - loss: 1.4273 - acc: 0.7320 - val_loss: 1.4391 - val_acc: 0.7280\n",
            "Epoch 108/200\n",
            "60000/60000 [==============================] - 0s 3us/step - loss: 1.4268 - acc: 0.7324 - val_loss: 1.4384 - val_acc: 0.7388\n",
            "Epoch 109/200\n",
            "60000/60000 [==============================] - 0s 3us/step - loss: 1.4271 - acc: 0.7323 - val_loss: 1.4421 - val_acc: 0.7246\n",
            "Epoch 110/200\n",
            "60000/60000 [==============================] - 0s 3us/step - loss: 1.4275 - acc: 0.7326 - val_loss: 1.4490 - val_acc: 0.7263\n",
            "Epoch 111/200\n",
            "60000/60000 [==============================] - 0s 3us/step - loss: 1.4277 - acc: 0.7316 - val_loss: 1.4463 - val_acc: 0.7103\n",
            "Epoch 112/200\n",
            "60000/60000 [==============================] - 0s 3us/step - loss: 1.4273 - acc: 0.7323 - val_loss: 1.4369 - val_acc: 0.7303\n",
            "Epoch 113/200\n",
            "60000/60000 [==============================] - 0s 3us/step - loss: 1.4272 - acc: 0.7324 - val_loss: 1.4424 - val_acc: 0.7287\n",
            "Epoch 114/200\n",
            "60000/60000 [==============================] - 0s 2us/step - loss: 1.4272 - acc: 0.7334 - val_loss: 1.4431 - val_acc: 0.7329\n",
            "Epoch 115/200\n",
            "60000/60000 [==============================] - 0s 2us/step - loss: 1.4262 - acc: 0.7330 - val_loss: 1.4503 - val_acc: 0.6958\n",
            "Epoch 116/200\n",
            "60000/60000 [==============================] - 0s 2us/step - loss: 1.4273 - acc: 0.7307 - val_loss: 1.4355 - val_acc: 0.7246\n",
            "Epoch 117/200\n",
            "60000/60000 [==============================] - 0s 3us/step - loss: 1.4268 - acc: 0.7338 - val_loss: 1.4465 - val_acc: 0.6928\n",
            "Epoch 118/200\n",
            "60000/60000 [==============================] - 0s 3us/step - loss: 1.4274 - acc: 0.7315 - val_loss: 1.4482 - val_acc: 0.7178\n",
            "Epoch 119/200\n",
            "60000/60000 [==============================] - 0s 2us/step - loss: 1.4272 - acc: 0.7309 - val_loss: 1.4456 - val_acc: 0.7131\n",
            "Epoch 120/200\n",
            "60000/60000 [==============================] - 0s 2us/step - loss: 1.4266 - acc: 0.7325 - val_loss: 1.4447 - val_acc: 0.7320\n",
            "Epoch 121/200\n",
            "60000/60000 [==============================] - 0s 3us/step - loss: 1.4267 - acc: 0.7324 - val_loss: 1.4351 - val_acc: 0.7322\n",
            "Epoch 122/200\n",
            "60000/60000 [==============================] - 0s 3us/step - loss: 1.4279 - acc: 0.7315 - val_loss: 1.4483 - val_acc: 0.7106\n",
            "Epoch 123/200\n",
            "60000/60000 [==============================] - 0s 2us/step - loss: 1.4264 - acc: 0.7336 - val_loss: 1.4466 - val_acc: 0.7225\n",
            "Epoch 124/200\n",
            "60000/60000 [==============================] - 0s 3us/step - loss: 1.4262 - acc: 0.7331 - val_loss: 1.4411 - val_acc: 0.7158\n",
            "Epoch 125/200\n",
            "60000/60000 [==============================] - 0s 3us/step - loss: 1.4272 - acc: 0.7316 - val_loss: 1.4365 - val_acc: 0.7300\n",
            "Epoch 126/200\n",
            "60000/60000 [==============================] - 0s 3us/step - loss: 1.4270 - acc: 0.7321 - val_loss: 1.4370 - val_acc: 0.7276\n",
            "Epoch 127/200\n",
            "60000/60000 [==============================] - 0s 2us/step - loss: 1.4265 - acc: 0.7334 - val_loss: 1.4366 - val_acc: 0.7275\n",
            "Epoch 128/200\n",
            "60000/60000 [==============================] - 0s 3us/step - loss: 1.4266 - acc: 0.7326 - val_loss: 1.4451 - val_acc: 0.7193\n",
            "Epoch 129/200\n",
            "60000/60000 [==============================] - 0s 3us/step - loss: 1.4265 - acc: 0.7343 - val_loss: 1.4519 - val_acc: 0.6806\n",
            "Epoch 130/200\n",
            "60000/60000 [==============================] - 0s 3us/step - loss: 1.4269 - acc: 0.7306 - val_loss: 1.4425 - val_acc: 0.7266\n",
            "Epoch 131/200\n",
            "60000/60000 [==============================] - 0s 2us/step - loss: 1.4266 - acc: 0.7325 - val_loss: 1.4383 - val_acc: 0.7221\n",
            "Epoch 132/200\n",
            "60000/60000 [==============================] - 0s 3us/step - loss: 1.4266 - acc: 0.7336 - val_loss: 1.4367 - val_acc: 0.7270\n",
            "Epoch 133/200\n",
            "60000/60000 [==============================] - 0s 3us/step - loss: 1.4259 - acc: 0.7339 - val_loss: 1.4351 - val_acc: 0.7382\n",
            "Epoch 134/200\n",
            "60000/60000 [==============================] - 0s 2us/step - loss: 1.4265 - acc: 0.7326 - val_loss: 1.4430 - val_acc: 0.7283\n",
            "Epoch 135/200\n",
            "60000/60000 [==============================] - 0s 3us/step - loss: 1.4263 - acc: 0.7337 - val_loss: 1.4408 - val_acc: 0.7253\n",
            "Epoch 136/200\n",
            "60000/60000 [==============================] - 0s 2us/step - loss: 1.4257 - acc: 0.7324 - val_loss: 1.4375 - val_acc: 0.7167\n",
            "Epoch 137/200\n",
            "60000/60000 [==============================] - 0s 3us/step - loss: 1.4264 - acc: 0.7320 - val_loss: 1.4329 - val_acc: 0.7255\n",
            "Epoch 138/200\n",
            "60000/60000 [==============================] - 0s 3us/step - loss: 1.4261 - acc: 0.7311 - val_loss: 1.4428 - val_acc: 0.7033\n",
            "Epoch 139/200\n",
            "60000/60000 [==============================] - 0s 2us/step - loss: 1.4265 - acc: 0.7313 - val_loss: 1.4340 - val_acc: 0.7291\n",
            "Epoch 140/200\n",
            "60000/60000 [==============================] - 0s 3us/step - loss: 1.4264 - acc: 0.7313 - val_loss: 1.4356 - val_acc: 0.7254\n",
            "Epoch 141/200\n",
            "60000/60000 [==============================] - 0s 3us/step - loss: 1.4262 - acc: 0.7310 - val_loss: 1.4469 - val_acc: 0.7285\n",
            "Epoch 142/200\n",
            "60000/60000 [==============================] - 0s 3us/step - loss: 1.4269 - acc: 0.7332 - val_loss: 1.4400 - val_acc: 0.7173\n",
            "Epoch 143/200\n",
            "60000/60000 [==============================] - 0s 3us/step - loss: 1.4259 - acc: 0.7336 - val_loss: 1.4355 - val_acc: 0.7239\n",
            "Epoch 144/200\n",
            "60000/60000 [==============================] - 0s 3us/step - loss: 1.4266 - acc: 0.7335 - val_loss: 1.4418 - val_acc: 0.7162\n",
            "Epoch 145/200\n",
            "60000/60000 [==============================] - 0s 3us/step - loss: 1.4260 - acc: 0.7331 - val_loss: 1.4462 - val_acc: 0.6992\n",
            "Epoch 146/200\n",
            "60000/60000 [==============================] - 0s 2us/step - loss: 1.4266 - acc: 0.7317 - val_loss: 1.4416 - val_acc: 0.7260\n",
            "Epoch 147/200\n",
            "60000/60000 [==============================] - 0s 3us/step - loss: 1.4261 - acc: 0.7326 - val_loss: 1.4346 - val_acc: 0.7403\n",
            "Epoch 148/200\n",
            "60000/60000 [==============================] - 0s 3us/step - loss: 1.4258 - acc: 0.7329 - val_loss: 1.4322 - val_acc: 0.7351\n",
            "Epoch 149/200\n",
            "60000/60000 [==============================] - 0s 2us/step - loss: 1.4266 - acc: 0.7320 - val_loss: 1.4314 - val_acc: 0.7294\n",
            "Epoch 150/200\n",
            "60000/60000 [==============================] - 0s 3us/step - loss: 1.4250 - acc: 0.7353 - val_loss: 1.4358 - val_acc: 0.7187\n",
            "Epoch 151/200\n",
            "60000/60000 [==============================] - 0s 3us/step - loss: 1.4270 - acc: 0.7313 - val_loss: 1.4530 - val_acc: 0.6883\n",
            "Epoch 152/200\n",
            "60000/60000 [==============================] - 0s 3us/step - loss: 1.4254 - acc: 0.7331 - val_loss: 1.4404 - val_acc: 0.7218\n",
            "Epoch 153/200\n",
            "60000/60000 [==============================] - 0s 3us/step - loss: 1.4262 - acc: 0.7321 - val_loss: 1.4406 - val_acc: 0.7277\n",
            "Epoch 154/200\n",
            "60000/60000 [==============================] - 0s 3us/step - loss: 1.4256 - acc: 0.7329 - val_loss: 1.4333 - val_acc: 0.7385\n",
            "Epoch 155/200\n",
            "60000/60000 [==============================] - 0s 3us/step - loss: 1.4261 - acc: 0.7316 - val_loss: 1.4347 - val_acc: 0.7307\n",
            "Epoch 156/200\n",
            "60000/60000 [==============================] - 0s 2us/step - loss: 1.4253 - acc: 0.7324 - val_loss: 1.4606 - val_acc: 0.6916\n",
            "Epoch 157/200\n",
            "60000/60000 [==============================] - 0s 3us/step - loss: 1.4260 - acc: 0.7311 - val_loss: 1.4470 - val_acc: 0.7190\n",
            "Epoch 158/200\n",
            "60000/60000 [==============================] - 0s 2us/step - loss: 1.4259 - acc: 0.7329 - val_loss: 1.4376 - val_acc: 0.7161\n",
            "Epoch 159/200\n",
            "60000/60000 [==============================] - 0s 2us/step - loss: 1.4259 - acc: 0.7332 - val_loss: 1.4473 - val_acc: 0.7210\n",
            "Epoch 160/200\n",
            "60000/60000 [==============================] - 0s 2us/step - loss: 1.4257 - acc: 0.7322 - val_loss: 1.4344 - val_acc: 0.7365\n",
            "Epoch 161/200\n",
            "60000/60000 [==============================] - 0s 3us/step - loss: 1.4261 - acc: 0.7328 - val_loss: 1.4386 - val_acc: 0.7315\n",
            "Epoch 162/200\n",
            "60000/60000 [==============================] - 0s 3us/step - loss: 1.4258 - acc: 0.7347 - val_loss: 1.4368 - val_acc: 0.7144\n",
            "Epoch 163/200\n",
            "60000/60000 [==============================] - 0s 3us/step - loss: 1.4261 - acc: 0.7304 - val_loss: 1.4481 - val_acc: 0.7112\n",
            "Epoch 164/200\n",
            "60000/60000 [==============================] - 0s 2us/step - loss: 1.4257 - acc: 0.7336 - val_loss: 1.4351 - val_acc: 0.7262\n",
            "Epoch 165/200\n",
            "60000/60000 [==============================] - 0s 3us/step - loss: 1.4261 - acc: 0.7309 - val_loss: 1.4345 - val_acc: 0.7377\n",
            "Epoch 166/200\n",
            "60000/60000 [==============================] - 0s 2us/step - loss: 1.4255 - acc: 0.7329 - val_loss: 1.4400 - val_acc: 0.7251\n",
            "Epoch 167/200\n",
            "60000/60000 [==============================] - 0s 2us/step - loss: 1.4263 - acc: 0.7318 - val_loss: 1.4437 - val_acc: 0.7244\n",
            "Epoch 168/200\n",
            "60000/60000 [==============================] - 0s 2us/step - loss: 1.4253 - acc: 0.7332 - val_loss: 1.4361 - val_acc: 0.7389\n",
            "Epoch 169/200\n",
            "60000/60000 [==============================] - 0s 2us/step - loss: 1.4257 - acc: 0.7343 - val_loss: 1.4411 - val_acc: 0.7065\n",
            "Epoch 170/200\n",
            "60000/60000 [==============================] - 0s 2us/step - loss: 1.4249 - acc: 0.7343 - val_loss: 1.4390 - val_acc: 0.7038\n",
            "Epoch 171/200\n",
            "60000/60000 [==============================] - 0s 2us/step - loss: 1.4257 - acc: 0.7333 - val_loss: 1.4415 - val_acc: 0.7114\n",
            "Epoch 172/200\n",
            "60000/60000 [==============================] - 0s 2us/step - loss: 1.4256 - acc: 0.7303 - val_loss: 1.4356 - val_acc: 0.7178\n",
            "Epoch 173/200\n",
            "60000/60000 [==============================] - 0s 2us/step - loss: 1.4251 - acc: 0.7322 - val_loss: 1.4474 - val_acc: 0.7228\n",
            "Epoch 174/200\n",
            "60000/60000 [==============================] - 0s 2us/step - loss: 1.4252 - acc: 0.7320 - val_loss: 1.4333 - val_acc: 0.7314\n",
            "Epoch 175/200\n",
            "60000/60000 [==============================] - 0s 2us/step - loss: 1.4256 - acc: 0.7336 - val_loss: 1.4392 - val_acc: 0.7276\n",
            "Epoch 176/200\n",
            "60000/60000 [==============================] - 0s 2us/step - loss: 1.4250 - acc: 0.7341 - val_loss: 1.4425 - val_acc: 0.7104\n",
            "Epoch 177/200\n",
            "60000/60000 [==============================] - 0s 2us/step - loss: 1.4258 - acc: 0.7338 - val_loss: 1.4403 - val_acc: 0.7076\n",
            "Epoch 178/200\n",
            "60000/60000 [==============================] - 0s 2us/step - loss: 1.4250 - acc: 0.7319 - val_loss: 1.4464 - val_acc: 0.7125\n",
            "Epoch 179/200\n",
            "60000/60000 [==============================] - 0s 2us/step - loss: 1.4256 - acc: 0.7325 - val_loss: 1.4311 - val_acc: 0.7373\n",
            "Epoch 180/200\n",
            "60000/60000 [==============================] - 0s 3us/step - loss: 1.4255 - acc: 0.7313 - val_loss: 1.4335 - val_acc: 0.7353\n",
            "Epoch 181/200\n",
            "60000/60000 [==============================] - 0s 2us/step - loss: 1.4258 - acc: 0.7334 - val_loss: 1.4388 - val_acc: 0.7094\n",
            "Epoch 182/200\n",
            "60000/60000 [==============================] - 0s 3us/step - loss: 1.4255 - acc: 0.7347 - val_loss: 1.4353 - val_acc: 0.7349\n",
            "Epoch 183/200\n",
            "60000/60000 [==============================] - 0s 2us/step - loss: 1.4261 - acc: 0.7324 - val_loss: 1.4397 - val_acc: 0.7111\n",
            "Epoch 184/200\n",
            "60000/60000 [==============================] - 0s 2us/step - loss: 1.4253 - acc: 0.7324 - val_loss: 1.4414 - val_acc: 0.7192\n",
            "Epoch 185/200\n",
            "60000/60000 [==============================] - 0s 3us/step - loss: 1.4256 - acc: 0.7314 - val_loss: 1.4538 - val_acc: 0.7119\n",
            "Epoch 186/200\n",
            "60000/60000 [==============================] - 0s 2us/step - loss: 1.4257 - acc: 0.7334 - val_loss: 1.4412 - val_acc: 0.7296\n",
            "Epoch 187/200\n",
            "60000/60000 [==============================] - 0s 3us/step - loss: 1.4251 - acc: 0.7330 - val_loss: 1.4361 - val_acc: 0.7171\n",
            "Epoch 188/200\n",
            "60000/60000 [==============================] - 0s 3us/step - loss: 1.4253 - acc: 0.7309 - val_loss: 1.4381 - val_acc: 0.7174\n",
            "Epoch 189/200\n",
            "60000/60000 [==============================] - 0s 3us/step - loss: 1.4257 - acc: 0.7315 - val_loss: 1.4441 - val_acc: 0.7050\n",
            "Epoch 190/200\n",
            "60000/60000 [==============================] - 0s 3us/step - loss: 1.4257 - acc: 0.7322 - val_loss: 1.4389 - val_acc: 0.7242\n",
            "Epoch 191/200\n",
            "60000/60000 [==============================] - 0s 2us/step - loss: 1.4256 - acc: 0.7307 - val_loss: 1.4388 - val_acc: 0.7249\n",
            "Epoch 192/200\n",
            "60000/60000 [==============================] - 0s 2us/step - loss: 1.4249 - acc: 0.7343 - val_loss: 1.4375 - val_acc: 0.7188\n",
            "Epoch 193/200\n",
            "60000/60000 [==============================] - 0s 3us/step - loss: 1.4250 - acc: 0.7334 - val_loss: 1.4371 - val_acc: 0.7181\n",
            "Epoch 194/200\n",
            "60000/60000 [==============================] - 0s 3us/step - loss: 1.4252 - acc: 0.7328 - val_loss: 1.4330 - val_acc: 0.7264\n",
            "Epoch 195/200\n",
            "60000/60000 [==============================] - 0s 3us/step - loss: 1.4253 - acc: 0.7328 - val_loss: 1.4347 - val_acc: 0.7109\n",
            "Epoch 196/200\n",
            "60000/60000 [==============================] - 0s 3us/step - loss: 1.4247 - acc: 0.7332 - val_loss: 1.4419 - val_acc: 0.7177\n",
            "Epoch 197/200\n",
            "60000/60000 [==============================] - 0s 2us/step - loss: 1.4261 - acc: 0.7309 - val_loss: 1.4365 - val_acc: 0.7193\n",
            "Epoch 198/200\n",
            "60000/60000 [==============================] - 0s 3us/step - loss: 1.4251 - acc: 0.7315 - val_loss: 1.4535 - val_acc: 0.6881\n",
            "Epoch 199/200\n",
            "60000/60000 [==============================] - 0s 3us/step - loss: 1.4254 - acc: 0.7332 - val_loss: 1.4390 - val_acc: 0.7228\n",
            "Epoch 200/200\n",
            "60000/60000 [==============================] - 0s 3us/step - loss: 1.4254 - acc: 0.7326 - val_loss: 1.4338 - val_acc: 0.7412\n"
          ],
          "name": "stdout"
        }
      ]
    },
    {
      "cell_type": "code",
      "metadata": {
        "id": "k1QcFTEtcGsR",
        "colab_type": "code",
        "colab": {}
      },
      "source": [
        "pred_val = model2.predict(latent_val)"
      ],
      "execution_count": 0,
      "outputs": []
    },
    {
      "cell_type": "markdown",
      "metadata": {
        "id": "T4EEifbikTJ9",
        "colab_type": "text"
      },
      "source": [
        "## Noisy images\n",
        "\n",
        "Lets add sample noise - Salt and Pepper"
      ]
    },
    {
      "cell_type": "code",
      "metadata": {
        "id": "ur046pYc1x4U",
        "colab_type": "code",
        "colab": {}
      },
      "source": [
        "## recreate the train_x array and val_x array\n",
        "(train_x, train_y), (val_x, val_y) = fashion_mnist.load_data()\n",
        "\n",
        "## normalize and reshape\n",
        "train_x = train_x/255.\n",
        "val_x = val_x/255.\n",
        "\n",
        "train_x = train_x.reshape(-1, 28, 28, 1)\n",
        "val_x = val_x.reshape(-1, 28, 28, 1)\n"
      ],
      "execution_count": 0,
      "outputs": []
    },
    {
      "cell_type": "code",
      "metadata": {
        "id": "EW-J4qKpkbKr",
        "colab_type": "code",
        "colab": {}
      },
      "source": [
        "noise = augmenters.SaltAndPepper(0.1)\n",
        "seq_object = augmenters.Sequential([noise])\n",
        "\n",
        "train_x_n = seq_object.augment_images(train_x * 255) / 255\n",
        "val_x_n = seq_object.augment_images(val_x * 255) / 255"
      ],
      "execution_count": 0,
      "outputs": []
    },
    {
      "cell_type": "markdown",
      "metadata": {
        "id": "I-bwwcDblHiG",
        "colab_type": "text"
      },
      "source": [
        "Before adding noise"
      ]
    },
    {
      "cell_type": "code",
      "metadata": {
        "id": "QCnIynE9lJ6N",
        "colab_type": "code",
        "colab": {
          "base_uri": "https://localhost:8080/",
          "height": 165
        },
        "outputId": "fdb2804a-2488-473a-c3ee-da48d4f837d1"
      },
      "source": [
        "f, ax = plt.subplots(1,5)\n",
        "f.set_size_inches(12, 6)\n",
        "for i in range(5,10):\n",
        "    ax[i-5].imshow(train_x[i].reshape(28, 28))\n",
        "plt.show()"
      ],
      "execution_count": 7,
      "outputs": [
        {
          "output_type": "display_data",
          "data": {
            "image/png": "[encoded data removed]",
            "text/plain": [
              "<Figure size 864x432 with 5 Axes>"
            ]
          },
          "metadata": {
            "tags": []
          }
        }
      ]
    },
    {
      "cell_type": "markdown",
      "metadata": {
        "id": "PNFhM870lID3",
        "colab_type": "text"
      },
      "source": [
        "After adding noise"
      ]
    },
    {
      "cell_type": "code",
      "metadata": {
        "id": "gQQOP58rlPhG",
        "colab_type": "code",
        "colab": {
          "base_uri": "https://localhost:8080/",
          "height": 165
        },
        "outputId": "f17ce43f-5eda-4001-ba28-9c6a1805f96c"
      },
      "source": [
        "f, ax = plt.subplots(1,5)\n",
        "f.set_size_inches(12, 6)\n",
        "for i in range(5,10):\n",
        "    ax[i-5].imshow(train_x_n[i].reshape(28, 28))\n",
        "plt.show()"
      ],
      "execution_count": 8,
      "outputs": [
        {
          "output_type": "display_data",
          "data": {
            "image/png": "[encoded data removed]",
            "text/plain": [
              "<Figure size 864x432 with 5 Axes>"
            ]
          },
          "metadata": {
            "tags": []
          }
        }
      ]
    },
    {
      "cell_type": "markdown",
      "metadata": {
        "id": "szDOwQE4_2WT",
        "colab_type": "text"
      },
      "source": [
        "## Convolutional Autoencoders\n",
        "\n",
        "Lets now create the model architecture for the autoencoder. Lets understand what type of network needs to be created for this problem.\n",
        "\n",
        "Encoding Architecture:\n",
        "\n",
        "The encoding architure is composed of 3 Convolutional Layers and 3 Max Pooling Layers stacked one by one. Relu is used as the activation function in the convolution layers and padding is kept as \"same\". Role of max pooling layer is to downsample the image dimentions. This layer applies a max filter to non-overlapping subregions of the initial representation.\n",
        "\n",
        "Decoding Architecture:\n",
        "\n",
        "Similarly in decoding architecture, the convolution layers will be used having same dimentions (in reverse manner) as the encoding architecture. But instead of 3 maxpooling layers, we will be adding 3 upsampling layers. Again the activation function will be same (relu), and padding in convolution layers will be same as well. Role of upsampling layer is to upsample the dimentions of a input vector to a higher resolution / dimention. The max pooling operation is non-invertible, however an approximate inverse can be obtained by recording the locations of the maxima within each pooling region. Umsampling layers make use of this property to project the reconstructions from a low dimentional feature space"
      ]
    },
    {
      "cell_type": "code",
      "metadata": {
        "id": "2MSIMUVhAJ54",
        "colab_type": "code",
        "colab": {
          "base_uri": "https://localhost:8080/",
          "height": 241
        },
        "outputId": "d5b7b481-232c-4a09-e75e-0ae3a9149f54"
      },
      "source": [
        "# input layer\n",
        "input_layer = Input(shape=(28, 28, 1))\n",
        "\n",
        "# encoding architecture\n",
        "encoded_layer1 = Conv2D(64, (3, 3), activation='relu', padding='same')(input_layer)\n",
        "encoded_layer1 = MaxPool2D( (2, 2), padding='same')(encoded_layer1)\n",
        "encoded_layer2 = Conv2D(32, (3, 3), activation='relu', padding='same')(encoded_layer1)\n",
        "encoded_layer2 = MaxPool2D( (2, 2), padding='same')(encoded_layer2)\n",
        "encoded_layer3 = Conv2D(16, (3, 3), activation='relu', padding='same')(encoded_layer2)\n",
        "latent_view    = MaxPool2D( (2, 2), padding='same')(encoded_layer3)\n",
        "\n",
        "# decoding architecture\n",
        "decoded_layer1 = Conv2D(16, (3, 3), activation='relu', padding='same')(latent_view)\n",
        "decoded_layer1 = UpSampling2D((2, 2))(decoded_layer1)\n",
        "decoded_layer2 = Conv2D(32, (3, 3), activation='relu', padding='same')(decoded_layer1)\n",
        "decoded_layer2 = UpSampling2D((2, 2))(decoded_layer2)\n",
        "decoded_layer3 = Conv2D(64, (3, 3), activation='relu')(decoded_layer2)\n",
        "decoded_layer3 = UpSampling2D((2, 2))(decoded_layer3)\n",
        "output_layer   = Conv2D(1, (3, 3), padding='same')(decoded_layer3)\n",
        "\n",
        "# compile the model\n",
        "model_2 = Model(input_layer, output_layer)\n",
        "model_2.compile(optimizer='adam', loss='mse')"
      ],
      "execution_count": 9,
      "outputs": [
        {
          "output_type": "stream",
          "text": [
            "WARNING:tensorflow:From /usr/local/lib/python3.6/dist-packages/keras/backend/tensorflow_backend.py:66: The name tf.get_default_graph is deprecated. Please use tf.compat.v1.get_default_graph instead.\n",
            "\n",
            "WARNING:tensorflow:From /usr/local/lib/python3.6/dist-packages/keras/backend/tensorflow_backend.py:541: The name tf.placeholder is deprecated. Please use tf.compat.v1.placeholder instead.\n",
            "\n",
            "WARNING:tensorflow:From /usr/local/lib/python3.6/dist-packages/keras/backend/tensorflow_backend.py:4432: The name tf.random_uniform is deprecated. Please use tf.random.uniform instead.\n",
            "\n",
            "WARNING:tensorflow:From /usr/local/lib/python3.6/dist-packages/keras/backend/tensorflow_backend.py:4267: The name tf.nn.max_pool is deprecated. Please use tf.nn.max_pool2d instead.\n",
            "\n",
            "WARNING:tensorflow:From /usr/local/lib/python3.6/dist-packages/keras/backend/tensorflow_backend.py:2239: The name tf.image.resize_nearest_neighbor is deprecated. Please use tf.compat.v1.image.resize_nearest_neighbor instead.\n",
            "\n",
            "WARNING:tensorflow:From /usr/local/lib/python3.6/dist-packages/keras/optimizers.py:793: The name tf.train.Optimizer is deprecated. Please use tf.compat.v1.train.Optimizer instead.\n",
            "\n"
          ],
          "name": "stdout"
        }
      ]
    },
    {
      "cell_type": "code",
      "metadata": {
        "id": "ueZiXbbtANIJ",
        "colab_type": "code",
        "colab": {
          "base_uri": "https://localhost:8080/",
          "height": 629
        },
        "outputId": "7c74871c-9ded-45cc-80ba-e2fde59adf97"
      },
      "source": [
        "model_2.summary()"
      ],
      "execution_count": 10,
      "outputs": [
        {
          "output_type": "stream",
          "text": [
            "Model: \"model_1\"\n",
            "_________________________________________________________________\n",
            "Layer (type)                 Output Shape              Param #   \n",
            "=================================================================\n",
            "input_1 (InputLayer)         (None, 28, 28, 1)         0         \n",
            "_________________________________________________________________\n",
            "conv2d_1 (Conv2D)            (None, 28, 28, 64)        640       \n",
            "_________________________________________________________________\n",
            "max_pooling2d_1 (MaxPooling2 (None, 14, 14, 64)        0         \n",
            "_________________________________________________________________\n",
            "conv2d_2 (Conv2D)            (None, 14, 14, 32)        18464     \n",
            "_________________________________________________________________\n",
            "max_pooling2d_2 (MaxPooling2 (None, 7, 7, 32)          0         \n",
            "_________________________________________________________________\n",
            "conv2d_3 (Conv2D)            (None, 7, 7, 16)          4624      \n",
            "_________________________________________________________________\n",
            "max_pooling2d_3 (MaxPooling2 (None, 4, 4, 16)          0         \n",
            "_________________________________________________________________\n",
            "conv2d_4 (Conv2D)            (None, 4, 4, 16)          2320      \n",
            "_________________________________________________________________\n",
            "up_sampling2d_1 (UpSampling2 (None, 8, 8, 16)          0         \n",
            "_________________________________________________________________\n",
            "conv2d_5 (Conv2D)            (None, 8, 8, 32)          4640      \n",
            "_________________________________________________________________\n",
            "up_sampling2d_2 (UpSampling2 (None, 16, 16, 32)        0         \n",
            "_________________________________________________________________\n",
            "conv2d_6 (Conv2D)            (None, 14, 14, 64)        18496     \n",
            "_________________________________________________________________\n",
            "up_sampling2d_3 (UpSampling2 (None, 28, 28, 64)        0         \n",
            "_________________________________________________________________\n",
            "conv2d_7 (Conv2D)            (None, 28, 28, 1)         577       \n",
            "=================================================================\n",
            "Total params: 49,761\n",
            "Trainable params: 49,761\n",
            "Non-trainable params: 0\n",
            "_________________________________________________________________\n"
          ],
          "name": "stdout"
        }
      ]
    },
    {
      "cell_type": "code",
      "metadata": {
        "id": "jqznk-MbAQ5e",
        "colab_type": "code",
        "colab": {
          "base_uri": "https://localhost:8080/",
          "height": 666
        },
        "outputId": "f36c1882-e41b-4a6a-c0df-cbea5104b45d"
      },
      "source": [
        "early_stopping = EarlyStopping(monitor='val_loss', min_delta=0, patience=10, verbose=5, mode='auto')\n",
        "history = model_2.fit(train_x_n, train_x, epochs=10, batch_size=2048, validation_data=(val_x_n, val_x), callbacks=[early_stopping])"
      ],
      "execution_count": 11,
      "outputs": [
        {
          "output_type": "stream",
          "text": [
            "WARNING:tensorflow:From /usr/local/lib/python3.6/dist-packages/keras/backend/tensorflow_backend.py:1033: The name tf.assign_add is deprecated. Please use tf.compat.v1.assign_add instead.\n",
            "\n",
            "WARNING:tensorflow:From /usr/local/lib/python3.6/dist-packages/keras/backend/tensorflow_backend.py:1020: The name tf.assign is deprecated. Please use tf.compat.v1.assign instead.\n",
            "\n",
            "WARNING:tensorflow:From /usr/local/lib/python3.6/dist-packages/keras/backend/tensorflow_backend.py:3005: The name tf.Session is deprecated. Please use tf.compat.v1.Session instead.\n",
            "\n",
            "Train on 60000 samples, validate on 10000 samples\n",
            "Epoch 1/10\n",
            "WARNING:tensorflow:From /usr/local/lib/python3.6/dist-packages/keras/backend/tensorflow_backend.py:190: The name tf.get_default_session is deprecated. Please use tf.compat.v1.get_default_session instead.\n",
            "\n",
            "WARNING:tensorflow:From /usr/local/lib/python3.6/dist-packages/keras/backend/tensorflow_backend.py:197: The name tf.ConfigProto is deprecated. Please use tf.compat.v1.ConfigProto instead.\n",
            "\n",
            "WARNING:tensorflow:From /usr/local/lib/python3.6/dist-packages/keras/backend/tensorflow_backend.py:207: The name tf.global_variables is deprecated. Please use tf.compat.v1.global_variables instead.\n",
            "\n",
            "WARNING:tensorflow:From /usr/local/lib/python3.6/dist-packages/keras/backend/tensorflow_backend.py:216: The name tf.is_variable_initialized is deprecated. Please use tf.compat.v1.is_variable_initialized instead.\n",
            "\n",
            "WARNING:tensorflow:From /usr/local/lib/python3.6/dist-packages/keras/backend/tensorflow_backend.py:223: The name tf.variables_initializer is deprecated. Please use tf.compat.v1.variables_initializer instead.\n",
            "\n",
            "60000/60000 [==============================] - 17s 287us/step - loss: 0.0986 - val_loss: 0.0530\n",
            "Epoch 2/10\n",
            "60000/60000 [==============================] - 7s 123us/step - loss: 0.0445 - val_loss: 0.0376\n",
            "Epoch 3/10\n",
            "60000/60000 [==============================] - 7s 123us/step - loss: 0.0334 - val_loss: 0.0293\n",
            "Epoch 4/10\n",
            "60000/60000 [==============================] - 7s 123us/step - loss: 0.0273 - val_loss: 0.0254\n",
            "Epoch 5/10\n",
            "60000/60000 [==============================] - 7s 123us/step - loss: 0.0244 - val_loss: 0.0235\n",
            "Epoch 6/10\n",
            "60000/60000 [==============================] - 7s 124us/step - loss: 0.0228 - val_loss: 0.0221\n",
            "Epoch 7/10\n",
            "60000/60000 [==============================] - 7s 124us/step - loss: 0.0215 - val_loss: 0.0209\n",
            "Epoch 8/10\n",
            "60000/60000 [==============================] - 7s 123us/step - loss: 0.0208 - val_loss: 0.0202\n",
            "Epoch 9/10\n",
            "60000/60000 [==============================] - 7s 124us/step - loss: 0.0199 - val_loss: 0.0196\n",
            "Epoch 10/10\n",
            "60000/60000 [==============================] - 7s 124us/step - loss: 0.0194 - val_loss: 0.0192\n"
          ],
          "name": "stdout"
        }
      ]
    },
    {
      "cell_type": "markdown",
      "metadata": {
        "id": "wsN_kUleAYdX",
        "colab_type": "text"
      },
      "source": [
        "Lets obtain predictions"
      ]
    },
    {
      "cell_type": "code",
      "metadata": {
        "id": "e-H4JSwLAdOA",
        "colab_type": "code",
        "colab": {
          "base_uri": "https://localhost:8080/",
          "height": 237
        },
        "outputId": "40e773e4-36f4-42b5-e0c8-ad81737fe4cc"
      },
      "source": [
        "preds = model_2.predict(val_x_n[:10])\n",
        "f, ax = plt.subplots(1,5)\n",
        "f.set_size_inches(8, 4)\n",
        "for i in range(5,10):\n",
        "    ax[i-5].imshow(val_x_n[i].reshape(28, 28))\n",
        "\n",
        "f, ax = plt.subplots(1,5)\n",
        "f.set_size_inches(8, 4)\n",
        "for i in range(5,10):\n",
        "    ax[i-5].imshow(preds[i].reshape(28, 28))\n",
        "\n",
        "\n",
        "plt.show()"
      ],
      "execution_count": 14,
      "outputs": [
        {
          "output_type": "display_data",
          "data": {
            "image/png": "[encoded data removed]",
            "text/plain": [
              "<Figure size 576x288 with 5 Axes>"
            ]
          },
          "metadata": {
            "tags": []
          }
        },
        {
          "output_type": "display_data",
          "data": {
            "image/png": "[encoded data removed]",
            "text/plain": [
              "<Figure size 576x288 with 5 Axes>"
            ]
          },
          "metadata": {
            "tags": []
          }
        }
      ]
    }
  ]
}