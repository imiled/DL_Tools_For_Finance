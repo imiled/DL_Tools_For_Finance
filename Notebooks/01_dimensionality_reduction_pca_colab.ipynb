{
  "nbformat": 4,
  "nbformat_minor": 0,
  "metadata": {
    "kernelspec": {
      "display_name": "Python 3",
      "language": "python",
      "name": "python3"
    },
    "language_info": {
      "codemirror_mode": {
        "name": "ipython",
        "version": 3
      },
      "file_extension": ".py",
      "mimetype": "text/x-python",
      "name": "python",
      "nbconvert_exporter": "python",
      "pygments_lexer": "ipython3",
      "version": "3.7.1"
    },
    "colab": {
      "name": "01_dimensionality_reduction_pca-colab.ipynb",
      "provenance": [],
      "collapsed_sections": [],
      "toc_visible": true
    }
  },
  "cells": [
    {
      "cell_type": "markdown",
      "metadata": {
        "id": "XkBdqWoptGgR",
        "colab_type": "text"
      },
      "source": [
        "## Feature Selection using PCA\n"
      ]
    },
    {
      "cell_type": "code",
      "metadata": {
        "id": "wPofPQSptGgT",
        "colab_type": "code",
        "colab": {
          "base_uri": "https://localhost:8080/",
          "height": 72
        },
        "outputId": "e9caabdd-897b-40ce-8bd2-455246579044"
      },
      "source": [
        "import pylab\n",
        "import numpy as np\n",
        "import pandas as pd\n",
        "import matplotlib.pyplot as plt\n",
        "\n",
        "from sklearn.model_selection import train_test_split\n",
        "from sklearn.linear_model import LinearRegression\n",
        "from sklearn.metrics import r2_score\n",
        "\n",
        "import statsmodels.api as sm"
      ],
      "execution_count": 1,
      "outputs": [
        {
          "output_type": "stream",
          "text": [
            "/usr/local/lib/python3.6/dist-packages/statsmodels/tools/_testing.py:19: FutureWarning: pandas.util.testing is deprecated. Use the functions in the public API at pandas.testing instead.\n",
            "  import pandas.util.testing as tm\n"
          ],
          "name": "stderr"
        }
      ]
    },
    {
      "cell_type": "code",
      "metadata": {
        "id": "tbYqzxyFtGgW",
        "colab_type": "code",
        "colab": {}
      },
      "source": [
        "from sklearn.datasets import load_boston\n",
        "boston = load_boston()\n",
        "boston_df = pd.DataFrame(boston['data'], columns=boston['feature_names'])\n",
        "boston_df['TARGET'] = boston['target']"
      ],
      "execution_count": 2,
      "outputs": []
    },
    {
      "cell_type": "code",
      "metadata": {
        "id": "3nKWZqdPsBFS",
        "colab_type": "code",
        "colab": {
          "base_uri": "https://localhost:8080/",
          "height": 416
        },
        "outputId": "63e77225-9f94-4c4e-9c29-e2371b963d16"
      },
      "source": [
        "boston_df"
      ],
      "execution_count": 3,
      "outputs": [
        {
          "output_type": "execute_result",
          "data": {
            "text/html": [
              "<div>\n",
              "<style scoped>\n",
              "    .dataframe tbody tr th:only-of-type {\n",
              "        vertical-align: middle;\n",
              "    }\n",
              "\n",
              "    .dataframe tbody tr th {\n",
              "        vertical-align: top;\n",
              "    }\n",
              "\n",
              "    .dataframe thead th {\n",
              "        text-align: right;\n",
              "    }\n",
              "</style>\n",
              "<table border=\"1\" class=\"dataframe\">\n",
              "  <thead>\n",
              "    <tr style=\"text-align: right;\">\n",
              "      <th></th>\n",
              "      <th>CRIM</th>\n",
              "      <th>ZN</th>\n",
              "      <th>INDUS</th>\n",
              "      <th>CHAS</th>\n",
              "      <th>NOX</th>\n",
              "      <th>RM</th>\n",
              "      <th>AGE</th>\n",
              "      <th>DIS</th>\n",
              "      <th>RAD</th>\n",
              "      <th>TAX</th>\n",
              "      <th>PTRATIO</th>\n",
              "      <th>B</th>\n",
              "      <th>LSTAT</th>\n",
              "      <th>TARGET</th>\n",
              "    </tr>\n",
              "  </thead>\n",
              "  <tbody>\n",
              "    <tr>\n",
              "      <th>0</th>\n",
              "      <td>0.00632</td>\n",
              "      <td>18.0</td>\n",
              "      <td>2.31</td>\n",
              "      <td>0.0</td>\n",
              "      <td>0.538</td>\n",
              "      <td>6.575</td>\n",
              "      <td>65.2</td>\n",
              "      <td>4.0900</td>\n",
              "      <td>1.0</td>\n",
              "      <td>296.0</td>\n",
              "      <td>15.3</td>\n",
              "      <td>396.90</td>\n",
              "      <td>4.98</td>\n",
              "      <td>24.0</td>\n",
              "    </tr>\n",
              "    <tr>\n",
              "      <th>1</th>\n",
              "      <td>0.02731</td>\n",
              "      <td>0.0</td>\n",
              "      <td>7.07</td>\n",
              "      <td>0.0</td>\n",
              "      <td>0.469</td>\n",
              "      <td>6.421</td>\n",
              "      <td>78.9</td>\n",
              "      <td>4.9671</td>\n",
              "      <td>2.0</td>\n",
              "      <td>242.0</td>\n",
              "      <td>17.8</td>\n",
              "      <td>396.90</td>\n",
              "      <td>9.14</td>\n",
              "      <td>21.6</td>\n",
              "    </tr>\n",
              "    <tr>\n",
              "      <th>2</th>\n",
              "      <td>0.02729</td>\n",
              "      <td>0.0</td>\n",
              "      <td>7.07</td>\n",
              "      <td>0.0</td>\n",
              "      <td>0.469</td>\n",
              "      <td>7.185</td>\n",
              "      <td>61.1</td>\n",
              "      <td>4.9671</td>\n",
              "      <td>2.0</td>\n",
              "      <td>242.0</td>\n",
              "      <td>17.8</td>\n",
              "      <td>392.83</td>\n",
              "      <td>4.03</td>\n",
              "      <td>34.7</td>\n",
              "    </tr>\n",
              "    <tr>\n",
              "      <th>3</th>\n",
              "      <td>0.03237</td>\n",
              "      <td>0.0</td>\n",
              "      <td>2.18</td>\n",
              "      <td>0.0</td>\n",
              "      <td>0.458</td>\n",
              "      <td>6.998</td>\n",
              "      <td>45.8</td>\n",
              "      <td>6.0622</td>\n",
              "      <td>3.0</td>\n",
              "      <td>222.0</td>\n",
              "      <td>18.7</td>\n",
              "      <td>394.63</td>\n",
              "      <td>2.94</td>\n",
              "      <td>33.4</td>\n",
              "    </tr>\n",
              "    <tr>\n",
              "      <th>4</th>\n",
              "      <td>0.06905</td>\n",
              "      <td>0.0</td>\n",
              "      <td>2.18</td>\n",
              "      <td>0.0</td>\n",
              "      <td>0.458</td>\n",
              "      <td>7.147</td>\n",
              "      <td>54.2</td>\n",
              "      <td>6.0622</td>\n",
              "      <td>3.0</td>\n",
              "      <td>222.0</td>\n",
              "      <td>18.7</td>\n",
              "      <td>396.90</td>\n",
              "      <td>5.33</td>\n",
              "      <td>36.2</td>\n",
              "    </tr>\n",
              "    <tr>\n",
              "      <th>...</th>\n",
              "      <td>...</td>\n",
              "      <td>...</td>\n",
              "      <td>...</td>\n",
              "      <td>...</td>\n",
              "      <td>...</td>\n",
              "      <td>...</td>\n",
              "      <td>...</td>\n",
              "      <td>...</td>\n",
              "      <td>...</td>\n",
              "      <td>...</td>\n",
              "      <td>...</td>\n",
              "      <td>...</td>\n",
              "      <td>...</td>\n",
              "      <td>...</td>\n",
              "    </tr>\n",
              "    <tr>\n",
              "      <th>501</th>\n",
              "      <td>0.06263</td>\n",
              "      <td>0.0</td>\n",
              "      <td>11.93</td>\n",
              "      <td>0.0</td>\n",
              "      <td>0.573</td>\n",
              "      <td>6.593</td>\n",
              "      <td>69.1</td>\n",
              "      <td>2.4786</td>\n",
              "      <td>1.0</td>\n",
              "      <td>273.0</td>\n",
              "      <td>21.0</td>\n",
              "      <td>391.99</td>\n",
              "      <td>9.67</td>\n",
              "      <td>22.4</td>\n",
              "    </tr>\n",
              "    <tr>\n",
              "      <th>502</th>\n",
              "      <td>0.04527</td>\n",
              "      <td>0.0</td>\n",
              "      <td>11.93</td>\n",
              "      <td>0.0</td>\n",
              "      <td>0.573</td>\n",
              "      <td>6.120</td>\n",
              "      <td>76.7</td>\n",
              "      <td>2.2875</td>\n",
              "      <td>1.0</td>\n",
              "      <td>273.0</td>\n",
              "      <td>21.0</td>\n",
              "      <td>396.90</td>\n",
              "      <td>9.08</td>\n",
              "      <td>20.6</td>\n",
              "    </tr>\n",
              "    <tr>\n",
              "      <th>503</th>\n",
              "      <td>0.06076</td>\n",
              "      <td>0.0</td>\n",
              "      <td>11.93</td>\n",
              "      <td>0.0</td>\n",
              "      <td>0.573</td>\n",
              "      <td>6.976</td>\n",
              "      <td>91.0</td>\n",
              "      <td>2.1675</td>\n",
              "      <td>1.0</td>\n",
              "      <td>273.0</td>\n",
              "      <td>21.0</td>\n",
              "      <td>396.90</td>\n",
              "      <td>5.64</td>\n",
              "      <td>23.9</td>\n",
              "    </tr>\n",
              "    <tr>\n",
              "      <th>504</th>\n",
              "      <td>0.10959</td>\n",
              "      <td>0.0</td>\n",
              "      <td>11.93</td>\n",
              "      <td>0.0</td>\n",
              "      <td>0.573</td>\n",
              "      <td>6.794</td>\n",
              "      <td>89.3</td>\n",
              "      <td>2.3889</td>\n",
              "      <td>1.0</td>\n",
              "      <td>273.0</td>\n",
              "      <td>21.0</td>\n",
              "      <td>393.45</td>\n",
              "      <td>6.48</td>\n",
              "      <td>22.0</td>\n",
              "    </tr>\n",
              "    <tr>\n",
              "      <th>505</th>\n",
              "      <td>0.04741</td>\n",
              "      <td>0.0</td>\n",
              "      <td>11.93</td>\n",
              "      <td>0.0</td>\n",
              "      <td>0.573</td>\n",
              "      <td>6.030</td>\n",
              "      <td>80.8</td>\n",
              "      <td>2.5050</td>\n",
              "      <td>1.0</td>\n",
              "      <td>273.0</td>\n",
              "      <td>21.0</td>\n",
              "      <td>396.90</td>\n",
              "      <td>7.88</td>\n",
              "      <td>11.9</td>\n",
              "    </tr>\n",
              "  </tbody>\n",
              "</table>\n",
              "<p>506 rows × 14 columns</p>\n",
              "</div>"
            ],
            "text/plain": [
              "        CRIM    ZN  INDUS  CHAS    NOX  ...    TAX  PTRATIO       B  LSTAT  TARGET\n",
              "0    0.00632  18.0   2.31   0.0  0.538  ...  296.0     15.3  396.90   4.98    24.0\n",
              "1    0.02731   0.0   7.07   0.0  0.469  ...  242.0     17.8  396.90   9.14    21.6\n",
              "2    0.02729   0.0   7.07   0.0  0.469  ...  242.0     17.8  392.83   4.03    34.7\n",
              "3    0.03237   0.0   2.18   0.0  0.458  ...  222.0     18.7  394.63   2.94    33.4\n",
              "4    0.06905   0.0   2.18   0.0  0.458  ...  222.0     18.7  396.90   5.33    36.2\n",
              "..       ...   ...    ...   ...    ...  ...    ...      ...     ...    ...     ...\n",
              "501  0.06263   0.0  11.93   0.0  0.573  ...  273.0     21.0  391.99   9.67    22.4\n",
              "502  0.04527   0.0  11.93   0.0  0.573  ...  273.0     21.0  396.90   9.08    20.6\n",
              "503  0.06076   0.0  11.93   0.0  0.573  ...  273.0     21.0  396.90   5.64    23.9\n",
              "504  0.10959   0.0  11.93   0.0  0.573  ...  273.0     21.0  393.45   6.48    22.0\n",
              "505  0.04741   0.0  11.93   0.0  0.573  ...  273.0     21.0  396.90   7.88    11.9\n",
              "\n",
              "[506 rows x 14 columns]"
            ]
          },
          "metadata": {
            "tags": []
          },
          "execution_count": 3
        }
      ]
    },
    {
      "cell_type": "code",
      "metadata": {
        "id": "_Aw_odoztGga",
        "colab_type": "code",
        "colab": {
          "base_uri": "https://localhost:8080/",
          "height": 242
        },
        "outputId": "f8ba07c8-c157-4224-cae0-19e036b7caf8"
      },
      "source": [
        "FEATURES = list(boston_df.columns[:-1])\n",
        "\n",
        "FEATURES"
      ],
      "execution_count": 4,
      "outputs": [
        {
          "output_type": "execute_result",
          "data": {
            "text/plain": [
              "['CRIM',\n",
              " 'ZN',\n",
              " 'INDUS',\n",
              " 'CHAS',\n",
              " 'NOX',\n",
              " 'RM',\n",
              " 'AGE',\n",
              " 'DIS',\n",
              " 'RAD',\n",
              " 'TAX',\n",
              " 'PTRATIO',\n",
              " 'B',\n",
              " 'LSTAT']"
            ]
          },
          "metadata": {
            "tags": []
          },
          "execution_count": 4
        }
      ]
    },
    {
      "cell_type": "code",
      "metadata": {
        "id": "CCuZjGoatGgc",
        "colab_type": "code",
        "colab": {
          "base_uri": "https://localhost:8080/",
          "height": 34
        },
        "outputId": "7bd8e023-1b3a-42a1-f041-d30f7db03553"
      },
      "source": [
        "len(FEATURES)"
      ],
      "execution_count": 5,
      "outputs": [
        {
          "output_type": "execute_result",
          "data": {
            "text/plain": [
              "13"
            ]
          },
          "metadata": {
            "tags": []
          },
          "execution_count": 5
        }
      ]
    },
    {
      "cell_type": "markdown",
      "metadata": {
        "id": "IyZXK_9NtGge",
        "colab_type": "text"
      },
      "source": [
        "## Apply PCA\n",
        "* PCA: Linear dimensionality reduction using Singular Value Decomposition of the data to project it to a lower dimensional space.\n",
        "* explained_variance_ : The amount of variance explained by each of the selected components.\n",
        "* components_ : Principal axes in feature space, representing the directions of maximum variance in the data.\n",
        "* fit_transform : Fit the model with X and apply the dimensionality reduction on X\n",
        "\n",
        "https://scikit-learn.org/stable/modules/generated/sklearn.decomposition.PCA.html"
      ]
    },
    {
      "cell_type": "code",
      "metadata": {
        "id": "tFabP-40tGgf",
        "colab_type": "code",
        "colab": {}
      },
      "source": [
        "from sklearn.decomposition import PCA\n",
        "\n",
        "def apply_pca(X, n):\n",
        "    \n",
        "    pca = PCA(n_components = n)  \n",
        "    x_new = pca.fit_transform(X)   \n",
        "        \n",
        "    return pca, pd.DataFrame(x_new)"
      ],
      "execution_count": 8,
      "outputs": []
    },
    {
      "cell_type": "code",
      "metadata": {
        "id": "1EDl9CTltGgh",
        "colab_type": "code",
        "colab": {}
      },
      "source": [
        "pca, _ = apply_pca(boston_df[FEATURES], len(FEATURES))"
      ],
      "execution_count": 9,
      "outputs": []
    },
    {
      "cell_type": "code",
      "metadata": {
        "id": "H4xIvADGtGgk",
        "colab_type": "code",
        "colab": {
          "base_uri": "https://localhost:8080/",
          "height": 86
        },
        "outputId": "55c0aba0-cfe2-406c-b5d7-87c5afaf6cf3"
      },
      "source": [
        "print(\"Explained Variance:\", pca.explained_variance_ratio_)"
      ],
      "execution_count": 10,
      "outputs": [
        {
          "output_type": "stream",
          "text": [
            "Explained Variance: [8.05823175e-01 1.63051968e-01 2.13486092e-02 6.95699061e-03\n",
            " 1.29995193e-03 7.27220158e-04 4.19044539e-04 2.48538539e-04\n",
            " 8.53912023e-05 3.08071548e-05 6.65623182e-06 1.56778461e-06\n",
            " 7.96814208e-08]\n"
          ],
          "name": "stdout"
        }
      ]
    },
    {
      "cell_type": "code",
      "metadata": {
        "id": "tyXBnQcbtGgn",
        "colab_type": "code",
        "colab": {
          "base_uri": "https://localhost:8080/",
          "height": 34
        },
        "outputId": "663d5d89-06ae-414c-914a-15120c7d0e34"
      },
      "source": [
        "sum(pca.explained_variance_ratio_)"
      ],
      "execution_count": 11,
      "outputs": [
        {
          "output_type": "execute_result",
          "data": {
            "text/plain": [
              "1.0"
            ]
          },
          "metadata": {
            "tags": []
          },
          "execution_count": 11
        }
      ]
    },
    {
      "cell_type": "code",
      "metadata": {
        "id": "AX8G4JrHtGgq",
        "colab_type": "code",
        "colab": {
          "base_uri": "https://localhost:8080/",
          "height": 497
        },
        "outputId": "0c9cf9e5-af48-40db-acd2-160e62eda0d2"
      },
      "source": [
        "plt.figure(figsize = (12, 8))\n",
        "plt.plot(np.cumsum(pca.explained_variance_ratio_))\n",
        "\n",
        "plt.xlabel('n components')\n",
        "plt.ylabel('cumulative variance');"
      ],
      "execution_count": 12,
      "outputs": [
        {
          "output_type": "display_data",
          "data": {
            "image/png": "[encoded data removed]",
            "text/plain": [
              "<Figure size 864x576 with 1 Axes>"
            ]
          },
          "metadata": {
            "tags": [],
            "needs_background": "light"
          }
        }
      ]
    },
    {
      "cell_type": "markdown",
      "metadata": {
        "id": "P_Alq64ltGgs",
        "colab_type": "text"
      },
      "source": [
        "## Build model"
      ]
    },
    {
      "cell_type": "code",
      "metadata": {
        "id": "2lTuN44MtGgt",
        "colab_type": "code",
        "colab": {}
      },
      "source": [
        "def build_model(regression_fn,                \n",
        "                target, \n",
        "                features, \n",
        "                dataset,\n",
        "                n):\n",
        "    \n",
        "    X = dataset[features]\n",
        "    Y = dataset[target]\n",
        "\n",
        "    _ , X_new = apply_pca(X, n)\n",
        "\n",
        "    x_train, x_test, y_train, y_test = train_test_split(X_new, Y, test_size=0.2)\n",
        "    \n",
        "    model = regression_fn(x_train, y_train)\n",
        "    \n",
        "    y_pred = model.predict(x_test) \n",
        "    \n",
        "    return {\n",
        "            'x_initial' : X,\n",
        "            'x_transform': X_new,\n",
        "            'x_train' : x_train,\n",
        "            'x_test'  : x_test, \n",
        "            'y_train' : y_train,\n",
        "            'y_test'  : y_test,\n",
        "            'y_pred'  : y_pred,\n",
        "            'model'   : model\n",
        "           }     "
      ],
      "execution_count": 13,
      "outputs": []
    },
    {
      "cell_type": "code",
      "metadata": {
        "id": "4OGEJy16tGgz",
        "colab_type": "code",
        "colab": {}
      },
      "source": [
        "def linear_reg(x_train, y_train):\n",
        "    \n",
        "    model = LinearRegression().fit(x_train, y_train)\n",
        "    \n",
        "    return model"
      ],
      "execution_count": 14,
      "outputs": []
    },
    {
      "cell_type": "markdown",
      "metadata": {
        "id": "AMQMr_YItGhQ",
        "colab_type": "text"
      },
      "source": [
        "## Sklearn Model"
      ]
    },
    {
      "cell_type": "code",
      "metadata": {
        "id": "t07FwKo4wMQ3",
        "colab_type": "code",
        "colab": {}
      },
      "source": [
        "model_params = {}"
      ],
      "execution_count": 15,
      "outputs": []
    },
    {
      "cell_type": "code",
      "metadata": {
        "id": "4xnw5qqstGhR",
        "colab_type": "code",
        "colab": {}
      },
      "source": [
        "model_params['sklearn_reg'] = build_model(regression_fn=linear_reg,\n",
        "                                          target='TARGET',\n",
        "                                          features=FEATURES,\n",
        "                                          dataset=boston_df,\n",
        "                                          n=6)"
      ],
      "execution_count": 16,
      "outputs": []
    },
    {
      "cell_type": "code",
      "metadata": {
        "id": "KbCbn9jQtGhW",
        "colab_type": "code",
        "colab": {}
      },
      "source": [
        "model       = model_params['sklearn_reg']['model']\n",
        "x_transform = model_params['sklearn_reg']['x_transform']\n",
        "x_train     = model_params['sklearn_reg']['x_train']\n",
        "x_test      = model_params['sklearn_reg']['x_test']\n",
        "y_train     = model_params['sklearn_reg']['y_train']\n",
        "y_test      = model_params['sklearn_reg']['y_test']\n",
        "y_pred      = model_params['sklearn_reg']['y_pred']"
      ],
      "execution_count": 17,
      "outputs": []
    },
    {
      "cell_type": "code",
      "metadata": {
        "id": "UUACnki3tGhY",
        "colab_type": "code",
        "colab": {
          "base_uri": "https://localhost:8080/",
          "height": 34
        },
        "outputId": "257466c4-1764-4c1a-c697-da859003fd4e"
      },
      "source": [
        "x_transform.shape"
      ],
      "execution_count": 18,
      "outputs": [
        {
          "output_type": "execute_result",
          "data": {
            "text/plain": [
              "(506, 6)"
            ]
          },
          "metadata": {
            "tags": []
          },
          "execution_count": 18
        }
      ]
    },
    {
      "cell_type": "code",
      "metadata": {
        "scrolled": true,
        "id": "hBGR5qrPtGhb",
        "colab_type": "code",
        "colab": {
          "base_uri": "https://localhost:8080/",
          "height": 52
        },
        "outputId": "1add3f91-d801-4c84-ce0c-51cefbc0643d"
      },
      "source": [
        "print('Training score: ', model.score(x_train, y_train))\n",
        "print('Testing score: ', r2_score(y_test, y_pred))"
      ],
      "execution_count": 19,
      "outputs": [
        {
          "output_type": "stream",
          "text": [
            "Training score:  0.5723906470743593\n",
            "Testing score:  0.5954482093743374\n"
          ],
          "name": "stdout"
        }
      ]
    },
    {
      "cell_type": "markdown",
      "metadata": {
        "id": "g-0knfSOol47",
        "colab_type": "text"
      },
      "source": [
        "## Exercise: Demonstrate that a linear autoencoder get the same results as PCA"
      ]
    },
    {
      "cell_type": "markdown",
      "metadata": {
        "id": "QyZXszqOpcMw",
        "colab_type": "text"
      },
      "source": [
        "First, lets load up the Iris data-set and scale it between [0,1]."
      ]
    },
    {
      "cell_type": "code",
      "metadata": {
        "id": "MhyYAF49olMx",
        "colab_type": "code",
        "colab": {}
      },
      "source": [
        "from sklearn.datasets import load_iris\n",
        "from sklearn.preprocessing import MinMaxScaler\n",
        "iris = load_iris()\n",
        "X = iris.data\n",
        "y = iris.target\n",
        "target_names = iris.target_names\n",
        "\n",
        "scaler = MinMaxScaler()\n",
        "scaler.fit(X)\n",
        "X_scaled = scaler.transform(X)"
      ],
      "execution_count": 20,
      "outputs": []
    },
    {
      "cell_type": "markdown",
      "metadata": {
        "id": "j8MeKUf_pojv",
        "colab_type": "text"
      },
      "source": [
        "Plot 2D clusters for this dataset"
      ]
    },
    {
      "cell_type": "code",
      "metadata": {
        "id": "8-rfSBCBpnrL",
        "colab_type": "code",
        "colab": {}
      },
      "source": [
        "def plot_clusters(X, title, vtitle):\n",
        "  plt.figure()\n",
        "  colors = ['red', 'blue', 'green']\n",
        "  lw = 2\n",
        "\n",
        "  for color, i, target_name in zip(colors, [0, 1, 2], target_names):\n",
        "      plt.scatter(X.loc[y == i, 0], X.loc[y == i, 1], color=color, alpha=1., lw=lw,\n",
        "                  label=target_name)\n",
        "  plt.legend(loc='best', shadow=False, scatterpoints=1)\n",
        "  plt.title(title)  \n",
        "  plt.xlabel(vtitle + \"1\")\n",
        "  plt.ylabel(vtitle + \"2\")\n",
        "  plt.show()"
      ],
      "execution_count": 21,
      "outputs": []
    },
    {
      "cell_type": "code",
      "metadata": {
        "id": "KrkTC8pNp8Cf",
        "colab_type": "code",
        "colab": {
          "base_uri": "https://localhost:8080/",
          "height": 294
        },
        "outputId": "5924f051-ec10-4576-f22d-9a4d25739037"
      },
      "source": [
        "_, pca_transformed = apply_pca(X_scaled, 2)\n",
        "plot_clusters(pca_transformed, \"PCA\", \"PC\")  "
      ],
      "execution_count": 22,
      "outputs": [
        {
          "output_type": "display_data",
          "data": {
            "image/png": "[encoded data removed]",
            "text/plain": [
              "<Figure size 432x288 with 1 Axes>"
            ]
          },
          "metadata": {
            "tags": [],
            "needs_background": "light"
          }
        }
      ]
    },
    {
      "cell_type": "markdown",
      "metadata": {
        "id": "wPhYOmhrrLX0",
        "colab_type": "text"
      },
      "source": [
        "Let's build a neural network as a linear Autoencoder that has 3 layers (encoding, hidden and decoding): \n",
        "\n",
        "*   Use a linear activation function for encoding and decoding layers\n",
        "*   The hidden layer should have two neurons\n",
        "\n",
        "Essentially this structure approximates PCA by reducing the data from the original dimension (four features) to two features in the hidden layer (like PC1 and PC2)"
      ]
    },
    {
      "cell_type": "code",
      "metadata": {
        "id": "Btah8_LdrKy6",
        "colab_type": "code",
        "colab": {}
      },
      "source": [
        "from keras.layers import Input, Dense\n",
        "from keras.models import Model\n",
        "from keras import regularizers\n"
      ],
      "execution_count": 23,
      "outputs": []
    },
    {
      "cell_type": "code",
      "metadata": {
        "id": "kndhhcpIq8vI",
        "colab_type": "code",
        "colab": {}
      },
      "source": [
        "# Create an AE and fit it with our data using 3 neurons in the dense layer using keras' functional API\n",
        "def autoencoder_builder(activation='linear', activity_regularizer=None):\n",
        "  input_dim = X_scaled.shape[1]\n",
        "  encoding_dim = 2  \n",
        "  input_img = Input(shape=(input_dim,))\n",
        "  encoded = Dense(encoding_dim, activation=activation, \n",
        "                  activity_regularizer=activity_regularizer)(input_img)\n",
        "  decoded = Dense(input_dim, activation='sigmoid')(encoded)\n",
        "  autoencoder = Model(input_img, decoded)\n",
        "  autoencoder.compile(optimizer='rmsprop', loss='mse')\n",
        "  print(autoencoder.summary())\n",
        "\n",
        "  history = autoencoder.fit(X_scaled, X_scaled,\n",
        "                  epochs=1000,\n",
        "                  batch_size=16,\n",
        "                  shuffle=True,\n",
        "                  verbose = 0)\n",
        "\n",
        "  #plot our loss \n",
        "  plt.plot(history.history['loss'])\n",
        "  plt.title('model train')\n",
        "  plt.ylabel('loss')\n",
        "  plt.xlabel('epoch')\n",
        "  plt.legend('train', loc='upper right')\n",
        "  plt.show()\n",
        "\n",
        "  # use our encoded layer to encode the training input\n",
        "  encoder = Model(input_img, encoded)\n",
        "  encoded_input = Input(shape=(encoding_dim,))\n",
        "  decoder_layer = autoencoder.layers[-1]\n",
        "  decoder = Model(encoded_input, decoder_layer(encoded_input))\n",
        "  encoded_data = encoder.predict(X_scaled)\n",
        "  \n",
        "  return encoded_data"
      ],
      "execution_count": 24,
      "outputs": []
    },
    {
      "cell_type": "code",
      "metadata": {
        "id": "fzyi856yss9l",
        "colab_type": "code",
        "colab": {
          "base_uri": "https://localhost:8080/",
          "height": 833
        },
        "outputId": "edda3e1c-9f03-4495-c691-a3ce8a8b9634"
      },
      "source": [
        "linear_output = autoencoder_builder('linear')\n",
        "plot_clusters(pd.DataFrame(linear_output), 'Linear AE', 'AE')  "
      ],
      "execution_count": 25,
      "outputs": [
        {
          "output_type": "stream",
          "text": [
            "Model: \"functional_1\"\n",
            "_________________________________________________________________\n",
            "Layer (type)                 Output Shape              Param #   \n",
            "=================================================================\n",
            "input_1 (InputLayer)         [(None, 4)]               0         \n",
            "_________________________________________________________________\n",
            "dense (Dense)                (None, 2)                 10        \n",
            "_________________________________________________________________\n",
            "dense_1 (Dense)              (None, 4)                 12        \n",
            "=================================================================\n",
            "Total params: 22\n",
            "Trainable params: 22\n",
            "Non-trainable params: 0\n",
            "_________________________________________________________________\n",
            "None\n"
          ],
          "name": "stdout"
        },
        {
          "output_type": "display_data",
          "data": {
            "image/png": "[encoded data removed]",
            "text/plain": [
              "<Figure size 432x288 with 1 Axes>"
            ]
          },
          "metadata": {
            "tags": [],
            "needs_background": "light"
          }
        },
        {
          "output_type": "display_data",
          "data": {
            "image/png": "[encoded data removed]",
            "text/plain": [
              "<Figure size 432x288 with 1 Axes>"
            ]
          },
          "metadata": {
            "tags": [],
            "needs_background": "light"
          }
        }
      ]
    },
    {
      "cell_type": "code",
      "metadata": {
        "id": "7Oqkq2XH4JVK",
        "colab_type": "code",
        "colab": {
          "base_uri": "https://localhost:8080/",
          "height": 294
        },
        "outputId": "26b0bd38-1dd2-40ad-bb83-8d58a23d3d35"
      },
      "source": [
        "plot_clusters(pd.DataFrame(np.append(-linear_output[:,0].reshape(150,1), \n",
        "                                     linear_output[:,1].reshape(150,1), axis=1)), \n",
        "              'Linear AE', 'AE')  "
      ],
      "execution_count": 26,
      "outputs": [
        {
          "output_type": "display_data",
          "data": {
            "image/png": "[encoded data removed]",
            "text/plain": [
              "<Figure size 432x288 with 1 Axes>"
            ]
          },
          "metadata": {
            "tags": [],
            "needs_background": "light"
          }
        }
      ]
    },
    {
      "cell_type": "code",
      "metadata": {
        "id": "D16D0vkU4uEn",
        "colab_type": "code",
        "colab": {
          "base_uri": "https://localhost:8080/",
          "height": 294
        },
        "outputId": "1a91e1cb-fe10-4d5b-a814-f99be49fe81c"
      },
      "source": [
        "plot_clusters(pca_transformed, \"PCA\", \"PC\") "
      ],
      "execution_count": 27,
      "outputs": [
        {
          "output_type": "display_data",
          "data": {
            "image/png": "[encoded data removed]",
            "text/plain": [
              "<Figure size 432x288 with 1 Axes>"
            ]
          },
          "metadata": {
            "tags": [],
            "needs_background": "light"
          }
        }
      ]
    },
    {
      "cell_type": "code",
      "metadata": {
        "id": "05v-GkbHxfMW",
        "colab_type": "code",
        "colab": {
          "base_uri": "https://localhost:8080/",
          "height": 833
        },
        "outputId": "a8552b91-36e8-4968-ffd1-b6153b749496"
      },
      "source": [
        "sigmoid_output = autoencoder_builder('sigmoid')\n",
        "plot_clusters(pd.DataFrame(sigmoid_output), 'Sigmoid AE', 'AE')  "
      ],
      "execution_count": 28,
      "outputs": [
        {
          "output_type": "stream",
          "text": [
            "Model: \"functional_7\"\n",
            "_________________________________________________________________\n",
            "Layer (type)                 Output Shape              Param #   \n",
            "=================================================================\n",
            "input_3 (InputLayer)         [(None, 4)]               0         \n",
            "_________________________________________________________________\n",
            "dense_2 (Dense)              (None, 2)                 10        \n",
            "_________________________________________________________________\n",
            "dense_3 (Dense)              (None, 4)                 12        \n",
            "=================================================================\n",
            "Total params: 22\n",
            "Trainable params: 22\n",
            "Non-trainable params: 0\n",
            "_________________________________________________________________\n",
            "None\n"
          ],
          "name": "stdout"
        },
        {
          "output_type": "display_data",
          "data": {
            "image/png": "[encoded data removed]",
            "text/plain": [
              "<Figure size 432x288 with 1 Axes>"
            ]
          },
          "metadata": {
            "tags": [],
            "needs_background": "light"
          }
        },
        {
          "output_type": "display_data",
          "data": {
            "image/png": "[encoded data removed]",
            "text/plain": [
              "<Figure size 432x288 with 1 Axes>"
            ]
          },
          "metadata": {
            "tags": [],
            "needs_background": "light"
          }
        }
      ]
    },
    {
      "cell_type": "code",
      "metadata": {
        "id": "lzyihCMjyKmX",
        "colab_type": "code",
        "colab": {
          "base_uri": "https://localhost:8080/",
          "height": 833
        },
        "outputId": "4c87507b-ae96-4b51-e883-748a2406afd3"
      },
      "source": [
        "relu_output = autoencoder_builder('relu')\n",
        "plot_clusters(pd.DataFrame(relu_output), 'Relu AE', 'AE')  "
      ],
      "execution_count": 29,
      "outputs": [
        {
          "output_type": "stream",
          "text": [
            "Model: \"functional_13\"\n",
            "_________________________________________________________________\n",
            "Layer (type)                 Output Shape              Param #   \n",
            "=================================================================\n",
            "input_5 (InputLayer)         [(None, 4)]               0         \n",
            "_________________________________________________________________\n",
            "dense_4 (Dense)              (None, 2)                 10        \n",
            "_________________________________________________________________\n",
            "dense_5 (Dense)              (None, 4)                 12        \n",
            "=================================================================\n",
            "Total params: 22\n",
            "Trainable params: 22\n",
            "Non-trainable params: 0\n",
            "_________________________________________________________________\n",
            "None\n"
          ],
          "name": "stdout"
        },
        {
          "output_type": "display_data",
          "data": {
            "image/png": "[encoded data removed]",
            "text/plain": [
              "<Figure size 432x288 with 1 Axes>"
            ]
          },
          "metadata": {
            "tags": [],
            "needs_background": "light"
          }
        },
        {
          "output_type": "display_data",
          "data": {
            "image/png": "[encoded data removed]",
            "text/plain": [
              "<Figure size 432x288 with 1 Axes>"
            ]
          },
          "metadata": {
            "tags": [],
            "needs_background": "light"
          }
        }
      ]
    },
    {
      "cell_type": "markdown",
      "metadata": {
        "id": "xY3bS6lL5bCd",
        "colab_type": "text"
      },
      "source": [
        "Let's add an activity regularizer: "
      ]
    },
    {
      "cell_type": "code",
      "metadata": {
        "id": "zRIBUwrh5rQr",
        "colab_type": "code",
        "colab": {
          "base_uri": "https://localhost:8080/",
          "height": 833
        },
        "outputId": "96a2d41b-479c-4815-d8d1-9cd750ee24ed"
      },
      "source": [
        "relu_reg_output = autoencoder_builder('relu', \n",
        "                                      activity_regularizer=regularizers.l1(10e-6))\n",
        "plot_clusters(pd.DataFrame(relu_reg_output), 'Relu AE', 'AE')  "
      ],
      "execution_count": 30,
      "outputs": [
        {
          "output_type": "stream",
          "text": [
            "Model: \"functional_19\"\n",
            "_________________________________________________________________\n",
            "Layer (type)                 Output Shape              Param #   \n",
            "=================================================================\n",
            "input_7 (InputLayer)         [(None, 4)]               0         \n",
            "_________________________________________________________________\n",
            "dense_6 (Dense)              (None, 2)                 10        \n",
            "_________________________________________________________________\n",
            "dense_7 (Dense)              (None, 4)                 12        \n",
            "=================================================================\n",
            "Total params: 22\n",
            "Trainable params: 22\n",
            "Non-trainable params: 0\n",
            "_________________________________________________________________\n",
            "None\n"
          ],
          "name": "stdout"
        },
        {
          "output_type": "display_data",
          "data": {
            "image/png": "[encoded data removed]",
            "text/plain": [
              "<Figure size 432x288 with 1 Axes>"
            ]
          },
          "metadata": {
            "tags": [],
            "needs_background": "light"
          }
        },
        {
          "output_type": "display_data",
          "data": {
            "image/png": "[encoded data removed]",
            "text/plain": [
              "<Figure size 432x288 with 1 Axes>"
            ]
          },
          "metadata": {
            "tags": [],
            "needs_background": "light"
          }
        }
      ]
    },
    {
      "cell_type": "markdown",
      "metadata": {
        "id": "v9SNEhjj18nZ",
        "colab_type": "text"
      },
      "source": [
        "With these representation we can run a clustering algorithm to look for differences: \n"
      ]
    },
    {
      "cell_type": "code",
      "metadata": {
        "id": "dOm7pFao18CI",
        "colab_type": "code",
        "colab": {}
      },
      "source": [
        "from sklearn.cluster import KMeans\n",
        "labels_true = y \n",
        "titles = ['PCA', 'Linear AE', 'Sigmoid AE', 'Relu AE']\n",
        "n_clusters_ = 3\n",
        "\n",
        "estimators = [('PCA'    , KMeans(n_clusters=n_clusters_, random_state = 0), \n",
        "               np.array(pca_transformed, dtype=linear_output.dtype)),\n",
        "              ('AE linear' , KMeans(n_clusters=n_clusters_, random_state = 0), \n",
        "               linear_output),\n",
        "              ('AE sigmoid' , KMeans(n_clusters=n_clusters_, random_state = 0), \n",
        "               sigmoid_output),\n",
        "              ('AE relu', KMeans(n_clusters=n_clusters_, random_state = 0), \n",
        "               relu_output)]"
      ],
      "execution_count": 31,
      "outputs": []
    },
    {
      "cell_type": "markdown",
      "metadata": {
        "id": "5GGFdhVj25zL",
        "colab_type": "text"
      },
      "source": [
        "Compare results using homogeneity score: \n",
        "\n",
        "https://scikit-learn.org/stable/modules/generated/sklearn.metrics.homogeneity_score.html"
      ]
    },
    {
      "cell_type": "code",
      "metadata": {
        "id": "LMb3d7ru2m00",
        "colab_type": "code",
        "colab": {
          "base_uri": "https://localhost:8080/",
          "height": 156
        },
        "outputId": "278d181a-68bd-4af3-c8d8-9f774668e52e"
      },
      "source": [
        "from sklearn.metrics import completeness_score\n",
        "\n",
        "for name, est, data in estimators:\n",
        "    X = data\n",
        "    est.fit(X)\n",
        "    labels = est.labels_\n",
        "    print(name)\n",
        "    print(\"Completeness_score: %0.3f\" % completeness_score(labels_true, labels))"
      ],
      "execution_count": 32,
      "outputs": [
        {
          "output_type": "stream",
          "text": [
            "PCA\n",
            "Completeness_score: 0.747\n",
            "AE linear\n",
            "Completeness_score: 0.772\n",
            "AE sigmoid\n",
            "Completeness_score: 0.680\n",
            "AE relu\n",
            "Completeness_score: 0.821\n"
          ],
          "name": "stdout"
        }
      ]
    }
  ]
}