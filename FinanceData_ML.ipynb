{
  "nbformat": 4,
  "nbformat_minor": 0,
  "metadata": {
    "colab": {
      "name": "FinanceData_ML.ipynb",
      "provenance": [],
      "collapsed_sections": [],
      "toc_visible": true,
      "include_colab_link": true
    },
    "kernelspec": {
      "name": "python3",
      "display_name": "Python 3"
    }
  },
  "cells": [
    {
      "cell_type": "markdown",
      "metadata": {
        "id": "view-in-github",
        "colab_type": "text"
      },
      "source": [
        "<a href=\"https://colab.research.google.com/github/imiled/DL_Tools_For_Finance/blob/master/FinanceData_ML.ipynb\" target=\"_parent\"><img src=\"https://colab.research.google.com/assets/colab-badge.svg\" alt=\"Open In Colab\"/></a>"
      ]
    },
    {
      "cell_type": "code",
      "metadata": {
        "id": "M6IQb_OmpAZ9",
        "colab_type": "code",
        "colab": {
          "base_uri": "https://localhost:8080/",
          "height": 342
        },
        "outputId": "88414612-b09a-458c-eea5-429874b8771e"
      },
      "source": [
        "!pip install yfinance"
      ],
      "execution_count": null,
      "outputs": [
        {
          "output_type": "stream",
          "text": [
            "Collecting yfinance\n",
            "  Downloading https://files.pythonhosted.org/packages/c2/31/8b374a12b90def92a4e27d0fc595fc43635f395984e36a075244d98bd265/yfinance-0.1.54.tar.gz\n",
            "Requirement already satisfied: pandas>=0.24 in /usr/local/lib/python3.6/dist-packages (from yfinance) (0.25.3)\n",
            "Requirement already satisfied: numpy>=1.15 in /usr/local/lib/python3.6/dist-packages (from yfinance) (1.17.5)\n",
            "Requirement already satisfied: requests>=2.20 in /usr/local/lib/python3.6/dist-packages (from yfinance) (2.21.0)\n",
            "Requirement already satisfied: multitasking>=0.0.7 in /usr/local/lib/python3.6/dist-packages (from yfinance) (0.0.9)\n",
            "Requirement already satisfied: pytz>=2017.2 in /usr/local/lib/python3.6/dist-packages (from pandas>=0.24->yfinance) (2018.9)\n",
            "Requirement already satisfied: python-dateutil>=2.6.1 in /usr/local/lib/python3.6/dist-packages (from pandas>=0.24->yfinance) (2.6.1)\n",
            "Requirement already satisfied: urllib3<1.25,>=1.21.1 in /usr/local/lib/python3.6/dist-packages (from requests>=2.20->yfinance) (1.24.3)\n",
            "Requirement already satisfied: idna<2.9,>=2.5 in /usr/local/lib/python3.6/dist-packages (from requests>=2.20->yfinance) (2.8)\n",
            "Requirement already satisfied: chardet<3.1.0,>=3.0.2 in /usr/local/lib/python3.6/dist-packages (from requests>=2.20->yfinance) (3.0.4)\n",
            "Requirement already satisfied: certifi>=2017.4.17 in /usr/local/lib/python3.6/dist-packages (from requests>=2.20->yfinance) (2019.11.28)\n",
            "Requirement already satisfied: six>=1.5 in /usr/local/lib/python3.6/dist-packages (from python-dateutil>=2.6.1->pandas>=0.24->yfinance) (1.12.0)\n",
            "Building wheels for collected packages: yfinance\n",
            "  Building wheel for yfinance (setup.py) ... \u001b[?25l\u001b[?25hdone\n",
            "  Created wheel for yfinance: filename=yfinance-0.1.54-py2.py3-none-any.whl size=22409 sha256=0fd773ab4acff6164eb367abf71fff0a74f3f9a3631fcc12edf23aeee7ec33d5\n",
            "  Stored in directory: /root/.cache/pip/wheels/f9/e3/5b/ec24dd2984b12d61e0abf26289746c2436a0e7844f26f2515c\n",
            "Successfully built yfinance\n",
            "Installing collected packages: yfinance\n",
            "Successfully installed yfinance-0.1.54\n"
          ],
          "name": "stdout"
        }
      ]
    },
    {
      "cell_type": "code",
      "metadata": {
        "id": "28rRzBbMo6Fs",
        "colab_type": "code",
        "colab": {
          "base_uri": "https://localhost:8080/",
          "height": 293
        },
        "outputId": "803bd3cf-588b-49ef-95d5-2ea765cb4eac"
      },
      "source": [
        "# Import the yfinance. If you get module not found error the run !pip install yfiannce from your Jupyter notebook\n",
        "import yfinance as yf\n",
        "# Get the data of the stock AAPL\n",
        "data = yf.download('AAPL','2016-01-01','2019-08-01')\n",
        "# Import the plotting library\n",
        "import matplotlib.pyplot as plt\n",
        "%matplotlib inline\n",
        "# Plot the close price of the AAPL\n",
        "data['Adj Close'].plot()\n",
        "plt.show()\n"
      ],
      "execution_count": null,
      "outputs": [
        {
          "output_type": "stream",
          "text": [
            "\r[*********************100%***********************]  1 of 1 completed\n"
          ],
          "name": "stdout"
        },
        {
          "output_type": "display_data",
          "data": {
            "image/png": "[encoded data removed]",
            "text/plain": [
              "<Figure size 432x288 with 1 Axes>"
            ]
          },
          "metadata": {
            "tags": []
          }
        }
      ]
    },
    {
      "cell_type": "code",
      "metadata": {
        "id": "J17vILXopIi0",
        "colab_type": "code",
        "colab": {
          "base_uri": "https://localhost:8080/",
          "height": 375
        },
        "outputId": "78e0c976-0684-44a1-e37a-1ba377d1ccee"
      },
      "source": [
        "!pip install quandl"
      ],
      "execution_count": null,
      "outputs": [
        {
          "output_type": "stream",
          "text": [
            "Collecting quandl\n",
            "  Downloading https://files.pythonhosted.org/packages/07/ab/8cd479fba8a9b197a43a0d55dd534b066fb8e5a0a04b5c0384cbc5d663aa/Quandl-3.5.0-py2.py3-none-any.whl\n",
            "Collecting inflection>=0.3.1\n",
            "  Downloading https://files.pythonhosted.org/packages/d5/35/a6eb45b4e2356fe688b21570864d4aa0d0a880ce387defe9c589112077f8/inflection-0.3.1.tar.gz\n",
            "Requirement already satisfied: numpy>=1.8 in /usr/local/lib/python3.6/dist-packages (from quandl) (1.17.5)\n",
            "Requirement already satisfied: more-itertools in /usr/local/lib/python3.6/dist-packages (from quandl) (8.2.0)\n",
            "Requirement already satisfied: python-dateutil in /usr/local/lib/python3.6/dist-packages (from quandl) (2.6.1)\n",
            "Requirement already satisfied: pandas>=0.14 in /usr/local/lib/python3.6/dist-packages (from quandl) (0.25.3)\n",
            "Requirement already satisfied: requests>=2.7.0 in /usr/local/lib/python3.6/dist-packages (from quandl) (2.21.0)\n",
            "Requirement already satisfied: six in /usr/local/lib/python3.6/dist-packages (from quandl) (1.12.0)\n",
            "Requirement already satisfied: pytz>=2017.2 in /usr/local/lib/python3.6/dist-packages (from pandas>=0.14->quandl) (2018.9)\n",
            "Requirement already satisfied: idna<2.9,>=2.5 in /usr/local/lib/python3.6/dist-packages (from requests>=2.7.0->quandl) (2.8)\n",
            "Requirement already satisfied: chardet<3.1.0,>=3.0.2 in /usr/local/lib/python3.6/dist-packages (from requests>=2.7.0->quandl) (3.0.4)\n",
            "Requirement already satisfied: certifi>=2017.4.17 in /usr/local/lib/python3.6/dist-packages (from requests>=2.7.0->quandl) (2019.11.28)\n",
            "Requirement already satisfied: urllib3<1.25,>=1.21.1 in /usr/local/lib/python3.6/dist-packages (from requests>=2.7.0->quandl) (1.24.3)\n",
            "Building wheels for collected packages: inflection\n",
            "  Building wheel for inflection (setup.py) ... \u001b[?25l\u001b[?25hdone\n",
            "  Created wheel for inflection: filename=inflection-0.3.1-cp36-none-any.whl size=6077 sha256=d6eade6cee51c37899c74e70d510c6daad0405bcf7e49ec3c1a596f419987625\n",
            "  Stored in directory: /root/.cache/pip/wheels/9f/5a/d3/6fc3bf6516d2a3eb7e18f9f28b472110b59325f3f258fe9211\n",
            "Successfully built inflection\n",
            "Installing collected packages: inflection, quandl\n",
            "Successfully installed inflection-0.3.1 quandl-3.5.0\n"
          ],
          "name": "stdout"
        }
      ]
    },
    {
      "cell_type": "code",
      "metadata": {
        "id": "LfBflq_qpRJ8",
        "colab_type": "code",
        "colab": {
          "base_uri": "https://localhost:8080/",
          "height": 277
        },
        "outputId": "c664ab46-1402-4986-f4a3-b0862664362c"
      },
      "source": [
        "#https://www.quandl.com/ miledisñael@gmail.com\tclassic sans complexité\n",
        "##get API key quandl: Uiy5ymTmYCizkhmwbnVv\n",
        "# Import the quandl package\n",
        "import quandl\n",
        "# Get the data from quandl\n",
        "data = quandl.get(\"WIKI/KO\", start_date=\"2016-01-01\", end_date=\"2018-01-01\", api_key=\"Uiy5ymTmYCizkhmwbnVv\")\n",
        "# Plot the close pr\n",
        "import matplotlib.pyplot as plt\n",
        "data.Close.plot()\n",
        "# Show the plot\n",
        "plt.show()"
      ],
      "execution_count": null,
      "outputs": [
        {
          "output_type": "display_data",
          "data": {
            "image/png": "[encoded data removed]",
            "text/plain": [
              "<Figure size 432x288 with 1 Axes>"
            ]
          },
          "metadata": {
            "tags": []
          }
        }
      ]
    },
    {
      "cell_type": "code",
      "metadata": {
        "id": "ax8iZZ5dpX00",
        "colab_type": "code",
        "colab": {
          "base_uri": "https://localhost:8080/",
          "height": 261
        },
        "outputId": "b8e5efd6-b722-4413-b787-6ccedee2e628"
      },
      "source": [
        "!pip install panda"
      ],
      "execution_count": null,
      "outputs": [
        {
          "output_type": "stream",
          "text": [
            "Collecting panda\n",
            "  Downloading https://files.pythonhosted.org/packages/79/03/74996420528fe488ce17c42b6400531c8067d7eb661c304fa3aa8fdad17c/panda-0.3.1.tar.gz\n",
            "Requirement already satisfied: setuptools in /usr/local/lib/python3.6/dist-packages (from panda) (45.1.0)\n",
            "Requirement already satisfied: requests in /usr/local/lib/python3.6/dist-packages (from panda) (2.21.0)\n",
            "Requirement already satisfied: chardet<3.1.0,>=3.0.2 in /usr/local/lib/python3.6/dist-packages (from requests->panda) (3.0.4)\n",
            "Requirement already satisfied: urllib3<1.25,>=1.21.1 in /usr/local/lib/python3.6/dist-packages (from requests->panda) (1.24.3)\n",
            "Requirement already satisfied: certifi>=2017.4.17 in /usr/local/lib/python3.6/dist-packages (from requests->panda) (2019.11.28)\n",
            "Requirement already satisfied: idna<2.9,>=2.5 in /usr/local/lib/python3.6/dist-packages (from requests->panda) (2.8)\n",
            "Building wheels for collected packages: panda\n",
            "  Building wheel for panda (setup.py) ... \u001b[?25l\u001b[?25hdone\n",
            "  Created wheel for panda: filename=panda-0.3.1-cp36-none-any.whl size=7260 sha256=af55930aba612ce8050e947ae91c5adada9d87ec1a937f507e864a83fe4a6c55\n",
            "  Stored in directory: /root/.cache/pip/wheels/c6/c8/45/06ed898b0bb401c1ff207dbb05b1587ff28860a236d98b1996\n",
            "Successfully built panda\n",
            "Installing collected packages: panda\n",
            "Successfully installed panda-0.3.1\n"
          ],
          "name": "stdout"
        }
      ]
    },
    {
      "cell_type": "code",
      "metadata": {
        "id": "pJGw7TN3peqU",
        "colab_type": "code",
        "colab": {}
      },
      "source": [
        "# Define the ticker list\n",
        "import pandas as pd\n",
        "tickers_list = [\"AAPL\", \"WMT\", \"IBM\", \"MU\", \"BA\", \"AXP\"]\n",
        "# Import pandas\n",
        "data = pd.DataFrame(columns=tickers_list)\n",
        "# Fetch the data\n",
        "import yfinance as yf\n"
      ],
      "execution_count": null,
      "outputs": []
    },
    {
      "cell_type": "code",
      "metadata": {
        "id": "K5QAiyB_qfZ4",
        "colab_type": "code",
        "colab": {
          "base_uri": "https://localhost:8080/",
          "height": 317
        },
        "outputId": "96bc398f-2d02-4e14-a5e5-20d9b7f67b91"
      },
      "source": [
        "for ticker in tickers_list:\n",
        " data[ticker] = yf.download(ticker, start_date=\"2000-01-01\", end_date=\"2018-01-01\")['Adj Close']\n",
        "# Print first 5 rows of the data\n",
        "data.head()"
      ],
      "execution_count": null,
      "outputs": [
        {
          "output_type": "stream",
          "text": [
            "[*********************100%***********************]  1 of 1 completed\n",
            "[*********************100%***********************]  1 of 1 completed\n",
            "[*********************100%***********************]  1 of 1 completed\n",
            "[*********************100%***********************]  1 of 1 completed\n",
            "[*********************100%***********************]  1 of 1 completed\n",
            "[*********************100%***********************]  1 of 1 completed\n"
          ],
          "name": "stdout"
        },
        {
          "output_type": "execute_result",
          "data": {
            "text/html": [
              "<div>\n",
              "<style scoped>\n",
              "    .dataframe tbody tr th:only-of-type {\n",
              "        vertical-align: middle;\n",
              "    }\n",
              "\n",
              "    .dataframe tbody tr th {\n",
              "        vertical-align: top;\n",
              "    }\n",
              "\n",
              "    .dataframe thead th {\n",
              "        text-align: right;\n",
              "    }\n",
              "</style>\n",
              "<table border=\"1\" class=\"dataframe\">\n",
              "  <thead>\n",
              "    <tr style=\"text-align: right;\">\n",
              "      <th></th>\n",
              "      <th>AAPL</th>\n",
              "      <th>WMT</th>\n",
              "      <th>IBM</th>\n",
              "      <th>MU</th>\n",
              "      <th>BA</th>\n",
              "      <th>AXP</th>\n",
              "    </tr>\n",
              "    <tr>\n",
              "      <th>Date</th>\n",
              "      <th></th>\n",
              "      <th></th>\n",
              "      <th></th>\n",
              "      <th></th>\n",
              "      <th></th>\n",
              "      <th></th>\n",
              "    </tr>\n",
              "  </thead>\n",
              "  <tbody>\n",
              "    <tr>\n",
              "      <th>1980-12-12</th>\n",
              "      <td>0.406782</td>\n",
              "      <td>0.077331</td>\n",
              "      <td>1.897786</td>\n",
              "      <td>NaN</td>\n",
              "      <td>1.672157</td>\n",
              "      <td>0.301197</td>\n",
              "    </tr>\n",
              "    <tr>\n",
              "      <th>1980-12-15</th>\n",
              "      <td>0.385558</td>\n",
              "      <td>0.076953</td>\n",
              "      <td>1.861706</td>\n",
              "      <td>NaN</td>\n",
              "      <td>1.683457</td>\n",
              "      <td>0.310809</td>\n",
              "    </tr>\n",
              "    <tr>\n",
              "      <th>1980-12-16</th>\n",
              "      <td>0.357260</td>\n",
              "      <td>0.075445</td>\n",
              "      <td>1.912217</td>\n",
              "      <td>NaN</td>\n",
              "      <td>1.677807</td>\n",
              "      <td>0.320422</td>\n",
              "    </tr>\n",
              "    <tr>\n",
              "      <th>1980-12-17</th>\n",
              "      <td>0.366103</td>\n",
              "      <td>0.075067</td>\n",
              "      <td>1.883353</td>\n",
              "      <td>NaN</td>\n",
              "      <td>1.734299</td>\n",
              "      <td>0.333239</td>\n",
              "    </tr>\n",
              "    <tr>\n",
              "      <th>1980-12-18</th>\n",
              "      <td>0.376715</td>\n",
              "      <td>0.076199</td>\n",
              "      <td>1.836449</td>\n",
              "      <td>NaN</td>\n",
              "      <td>1.739948</td>\n",
              "      <td>0.331103</td>\n",
              "    </tr>\n",
              "  </tbody>\n",
              "</table>\n",
              "</div>"
            ],
            "text/plain": [
              "                AAPL       WMT       IBM  MU        BA       AXP\n",
              "Date                                                            \n",
              "1980-12-12  0.406782  0.077331  1.897786 NaN  1.672157  0.301197\n",
              "1980-12-15  0.385558  0.076953  1.861706 NaN  1.683457  0.310809\n",
              "1980-12-16  0.357260  0.075445  1.912217 NaN  1.677807  0.320422\n",
              "1980-12-17  0.366103  0.075067  1.883353 NaN  1.734299  0.333239\n",
              "1980-12-18  0.376715  0.076199  1.836449 NaN  1.739948  0.331103"
            ]
          },
          "metadata": {
            "tags": []
          },
          "execution_count": 12
        }
      ]
    },
    {
      "cell_type": "code",
      "metadata": {
        "id": "h4eSpcV4Ti79",
        "colab_type": "code",
        "colab": {
          "base_uri": "https://localhost:8080/",
          "height": 268
        },
        "outputId": "eda8effd-9da6-4e96-b758-d9a77ce581a1"
      },
      "source": [
        "data.plot()\n",
        "plt.show()"
      ],
      "execution_count": null,
      "outputs": [
        {
          "output_type": "display_data",
          "data": {
            "image/png": "[encoded data removed]",
            "text/plain": [
              "<Figure size 432x288 with 1 Axes>"
            ]
          },
          "metadata": {
            "tags": []
          }
        }
      ]
    },
    {
      "cell_type": "code",
      "metadata": {
        "id": "t1YDeo1oUCpq",
        "colab_type": "code",
        "colab": {
          "base_uri": "https://localhost:8080/",
          "height": 196
        },
        "outputId": "88215ff2-2c93-4bab-f80e-1add85e355c3"
      },
      "source": [
        "data['AAPL'][1:10]"
      ],
      "execution_count": null,
      "outputs": [
        {
          "output_type": "execute_result",
          "data": {
            "text/plain": [
              "Date\n",
              "1980-12-15    0.385558\n",
              "1980-12-16    0.357260\n",
              "1980-12-17    0.366103\n",
              "1980-12-18    0.376715\n",
              "1980-12-19    0.399707\n",
              "1980-12-22    0.419162\n",
              "1980-12-23    0.436848\n",
              "1980-12-24    0.459840\n",
              "1980-12-26    0.502287\n",
              "Name: AAPL, dtype: float64"
            ]
          },
          "metadata": {
            "tags": []
          },
          "execution_count": 24
        }
      ]
    },
    {
      "cell_type": "code",
      "metadata": {
        "id": "PpuAuWb1Z3X_",
        "colab_type": "code",
        "colab": {
          "base_uri": "https://localhost:8080/",
          "height": 220
        },
        "outputId": "5f0a11bb-8b01-4a0e-9ecc-f050bdc114d6"
      },
      "source": [
        "x=data.head()\n",
        "x"
      ],
      "execution_count": null,
      "outputs": [
        {
          "output_type": "execute_result",
          "data": {
            "text/html": [
              "<div>\n",
              "<style scoped>\n",
              "    .dataframe tbody tr th:only-of-type {\n",
              "        vertical-align: middle;\n",
              "    }\n",
              "\n",
              "    .dataframe tbody tr th {\n",
              "        vertical-align: top;\n",
              "    }\n",
              "\n",
              "    .dataframe thead th {\n",
              "        text-align: right;\n",
              "    }\n",
              "</style>\n",
              "<table border=\"1\" class=\"dataframe\">\n",
              "  <thead>\n",
              "    <tr style=\"text-align: right;\">\n",
              "      <th></th>\n",
              "      <th>AAPL</th>\n",
              "      <th>WMT</th>\n",
              "      <th>IBM</th>\n",
              "      <th>MU</th>\n",
              "      <th>BA</th>\n",
              "      <th>AXP</th>\n",
              "    </tr>\n",
              "    <tr>\n",
              "      <th>Date</th>\n",
              "      <th></th>\n",
              "      <th></th>\n",
              "      <th></th>\n",
              "      <th></th>\n",
              "      <th></th>\n",
              "      <th></th>\n",
              "    </tr>\n",
              "  </thead>\n",
              "  <tbody>\n",
              "    <tr>\n",
              "      <th>1980-12-12</th>\n",
              "      <td>0.406782</td>\n",
              "      <td>0.077331</td>\n",
              "      <td>1.897786</td>\n",
              "      <td>NaN</td>\n",
              "      <td>1.672157</td>\n",
              "      <td>0.301197</td>\n",
              "    </tr>\n",
              "    <tr>\n",
              "      <th>1980-12-15</th>\n",
              "      <td>0.385558</td>\n",
              "      <td>0.076953</td>\n",
              "      <td>1.861706</td>\n",
              "      <td>NaN</td>\n",
              "      <td>1.683457</td>\n",
              "      <td>0.310809</td>\n",
              "    </tr>\n",
              "    <tr>\n",
              "      <th>1980-12-16</th>\n",
              "      <td>0.357260</td>\n",
              "      <td>0.075445</td>\n",
              "      <td>1.912217</td>\n",
              "      <td>NaN</td>\n",
              "      <td>1.677807</td>\n",
              "      <td>0.320422</td>\n",
              "    </tr>\n",
              "    <tr>\n",
              "      <th>1980-12-17</th>\n",
              "      <td>0.366103</td>\n",
              "      <td>0.075067</td>\n",
              "      <td>1.883353</td>\n",
              "      <td>NaN</td>\n",
              "      <td>1.734299</td>\n",
              "      <td>0.333239</td>\n",
              "    </tr>\n",
              "    <tr>\n",
              "      <th>1980-12-18</th>\n",
              "      <td>0.376715</td>\n",
              "      <td>0.076199</td>\n",
              "      <td>1.836449</td>\n",
              "      <td>NaN</td>\n",
              "      <td>1.739948</td>\n",
              "      <td>0.331103</td>\n",
              "    </tr>\n",
              "  </tbody>\n",
              "</table>\n",
              "</div>"
            ],
            "text/plain": [
              "                AAPL       WMT       IBM  MU        BA       AXP\n",
              "Date                                                            \n",
              "1980-12-12  0.406782  0.077331  1.897786 NaN  1.672157  0.301197\n",
              "1980-12-15  0.385558  0.076953  1.861706 NaN  1.683457  0.310809\n",
              "1980-12-16  0.357260  0.075445  1.912217 NaN  1.677807  0.320422\n",
              "1980-12-17  0.366103  0.075067  1.883353 NaN  1.734299  0.333239\n",
              "1980-12-18  0.376715  0.076199  1.836449 NaN  1.739948  0.331103"
            ]
          },
          "metadata": {
            "tags": []
          },
          "execution_count": 30
        }
      ]
    },
    {
      "cell_type": "code",
      "metadata": {
        "id": "xXRn7d7EaRBr",
        "colab_type": "code",
        "colab": {
          "base_uri": "https://localhost:8080/",
          "height": 131
        },
        "outputId": "93f712ec-d7d3-40e3-cf86-2228e104f150"
      },
      "source": [
        "x.all(0)"
      ],
      "execution_count": null,
      "outputs": [
        {
          "output_type": "execute_result",
          "data": {
            "text/plain": [
              "AAPL    True\n",
              "WMT     True\n",
              "IBM     True\n",
              "MU      True\n",
              "BA      True\n",
              "AXP     True\n",
              "dtype: bool"
            ]
          },
          "metadata": {
            "tags": []
          },
          "execution_count": 39
        }
      ]
    },
    {
      "cell_type": "code",
      "metadata": {
        "id": "70104L9jZUVh",
        "colab_type": "code",
        "colab": {
          "base_uri": "https://localhost:8080/",
          "height": 296
        },
        "outputId": "85064c60-93ac-43c0-be48-9ee38051fe9d"
      },
      "source": [
        "data[data.head()][1:10]"
      ],
      "execution_count": null,
      "outputs": [
        {
          "output_type": "error",
          "ename": "ValueError",
          "evalue": "ignored",
          "traceback": [
            "\u001b[0;31m---------------------------------------------------------------------------\u001b[0m",
            "\u001b[0;31mValueError\u001b[0m                                Traceback (most recent call last)",
            "\u001b[0;32m<ipython-input-29-4ad70bd6152c>\u001b[0m in \u001b[0;36m<module>\u001b[0;34m()\u001b[0m\n\u001b[0;32m----> 1\u001b[0;31m \u001b[0mdata\u001b[0m\u001b[0;34m[\u001b[0m\u001b[0mdata\u001b[0m\u001b[0;34m.\u001b[0m\u001b[0mhead\u001b[0m\u001b[0;34m(\u001b[0m\u001b[0;34m)\u001b[0m\u001b[0;34m]\u001b[0m\u001b[0;34m[\u001b[0m\u001b[0;36m1\u001b[0m\u001b[0;34m:\u001b[0m\u001b[0;36m10\u001b[0m\u001b[0;34m]\u001b[0m\u001b[0;34m\u001b[0m\u001b[0;34m\u001b[0m\u001b[0m\n\u001b[0m",
            "\u001b[0;32m/usr/local/lib/python3.6/dist-packages/pandas/core/frame.py\u001b[0m in \u001b[0;36m__getitem__\u001b[0;34m(self, key)\u001b[0m\n\u001b[1;32m   2980\u001b[0m         \u001b[0;31m# Do we have a (boolean) DataFrame?\u001b[0m\u001b[0;34m\u001b[0m\u001b[0;34m\u001b[0m\u001b[0;34m\u001b[0m\u001b[0m\n\u001b[1;32m   2981\u001b[0m         \u001b[0;32mif\u001b[0m \u001b[0misinstance\u001b[0m\u001b[0;34m(\u001b[0m\u001b[0mkey\u001b[0m\u001b[0;34m,\u001b[0m \u001b[0mDataFrame\u001b[0m\u001b[0;34m)\u001b[0m\u001b[0;34m:\u001b[0m\u001b[0;34m\u001b[0m\u001b[0;34m\u001b[0m\u001b[0m\n\u001b[0;32m-> 2982\u001b[0;31m             \u001b[0;32mreturn\u001b[0m \u001b[0mself\u001b[0m\u001b[0;34m.\u001b[0m\u001b[0m_getitem_frame\u001b[0m\u001b[0;34m(\u001b[0m\u001b[0mkey\u001b[0m\u001b[0;34m)\u001b[0m\u001b[0;34m\u001b[0m\u001b[0;34m\u001b[0m\u001b[0m\n\u001b[0m\u001b[1;32m   2983\u001b[0m \u001b[0;34m\u001b[0m\u001b[0m\n\u001b[1;32m   2984\u001b[0m         \u001b[0;31m# Do we have a (boolean) 1d indexer?\u001b[0m\u001b[0;34m\u001b[0m\u001b[0;34m\u001b[0m\u001b[0;34m\u001b[0m\u001b[0m\n",
            "\u001b[0;32m/usr/local/lib/python3.6/dist-packages/pandas/core/frame.py\u001b[0m in \u001b[0;36m_getitem_frame\u001b[0;34m(self, key)\u001b[0m\n\u001b[1;32m   3079\u001b[0m     \u001b[0;32mdef\u001b[0m \u001b[0m_getitem_frame\u001b[0m\u001b[0;34m(\u001b[0m\u001b[0mself\u001b[0m\u001b[0;34m,\u001b[0m \u001b[0mkey\u001b[0m\u001b[0;34m)\u001b[0m\u001b[0;34m:\u001b[0m\u001b[0;34m\u001b[0m\u001b[0;34m\u001b[0m\u001b[0m\n\u001b[1;32m   3080\u001b[0m         \u001b[0;32mif\u001b[0m \u001b[0mkey\u001b[0m\u001b[0;34m.\u001b[0m\u001b[0mvalues\u001b[0m\u001b[0;34m.\u001b[0m\u001b[0msize\u001b[0m \u001b[0;32mand\u001b[0m \u001b[0;32mnot\u001b[0m \u001b[0mis_bool_dtype\u001b[0m\u001b[0;34m(\u001b[0m\u001b[0mkey\u001b[0m\u001b[0;34m.\u001b[0m\u001b[0mvalues\u001b[0m\u001b[0;34m)\u001b[0m\u001b[0;34m:\u001b[0m\u001b[0;34m\u001b[0m\u001b[0;34m\u001b[0m\u001b[0m\n\u001b[0;32m-> 3081\u001b[0;31m             \u001b[0;32mraise\u001b[0m \u001b[0mValueError\u001b[0m\u001b[0;34m(\u001b[0m\u001b[0;34m\"Must pass DataFrame with boolean values only\"\u001b[0m\u001b[0;34m)\u001b[0m\u001b[0;34m\u001b[0m\u001b[0;34m\u001b[0m\u001b[0m\n\u001b[0m\u001b[1;32m   3082\u001b[0m         \u001b[0;32mreturn\u001b[0m \u001b[0mself\u001b[0m\u001b[0;34m.\u001b[0m\u001b[0mwhere\u001b[0m\u001b[0;34m(\u001b[0m\u001b[0mkey\u001b[0m\u001b[0;34m)\u001b[0m\u001b[0;34m\u001b[0m\u001b[0;34m\u001b[0m\u001b[0m\n\u001b[1;32m   3083\u001b[0m \u001b[0;34m\u001b[0m\u001b[0m\n",
            "\u001b[0;31mValueError\u001b[0m: Must pass DataFrame with boolean values only"
          ]
        }
      ]
    },
    {
      "cell_type": "markdown",
      "metadata": {
        "id": "JsyLuDHPBs5e",
        "colab_type": "text"
      },
      "source": [
        "###Classification actions mieux que les secteurs\n",
        "###predictions avec seulement qq actions\n"
      ]
    },
    {
      "cell_type": "code",
      "metadata": {
        "id": "dgX5v9v8sb-K",
        "colab_type": "code",
        "colab": {
          "base_uri": "https://localhost:8080/",
          "height": 61
        },
        "outputId": "5a6864b8-3787-4eb9-c713-c7b7746e8c79"
      },
      "source": [
        "import numpy as np\n",
        "%matplotlib inline\n",
        "import matplotlib.pylab as plt\n",
        "import os\n",
        "from time import time\n",
        "import shutil\n",
        "import tensorflow.keras as K\n"
      ],
      "execution_count": null,
      "outputs": [
        {
          "output_type": "display_data",
          "data": {
            "text/html": [
              "<p style=\"color: red;\">\n",
              "The default version of TensorFlow in Colab will soon switch to TensorFlow 2.x.<br>\n",
              "We recommend you <a href=\"https://www.tensorflow.org/guide/migrate\" target=\"_blank\">upgrade</a> now \n",
              "or ensure your notebook will continue to use TensorFlow 1.x via the <code>%tensorflow_version 1.x</code> magic:\n",
              "<a href=\"https://colab.research.google.com/notebooks/tensorflow_version.ipynb\" target=\"_blank\">more info</a>.</p>\n"
            ],
            "text/plain": [
              "<IPython.core.display.HTML object>"
            ]
          },
          "metadata": {
            "tags": []
          }
        }
      ]
    },
    {
      "cell_type": "code",
      "metadata": {
        "id": "D0b_Oh38R3ps",
        "colab_type": "code",
        "colab": {}
      },
      "source": [
        ""
      ],
      "execution_count": null,
      "outputs": []
    },
    {
      "cell_type": "markdown",
      "metadata": {
        "id": "svhOOoPxR3Ng",
        "colab_type": "text"
      },
      "source": [
        ""
      ]
    },
    {
      "cell_type": "code",
      "metadata": {
        "id": "bBplXkS_R4NP",
        "colab_type": "code",
        "colab": {
          "base_uri": "https://localhost:8080/",
          "height": 265
        },
        "outputId": "4aa801a7-5ed7-4d90-b8f7-6cbf8775e40e"
      },
      "source": [
        "# generate simple data with gaussian noise and fit increasingly complicated functions\n",
        "\n",
        "f = lambda x: -10+3*x-x**2+x**3 # f(x) = -10 + 3x - x^2 + x^3\n",
        "x_train = np.linspace(-5.0,5.0,5000)\n",
        "y_train = f(x_train)+ np.random.normal(loc=0.0, scale=5, size=x_train.size)\n",
        "\n",
        "x_train_norm = (x_train-x_train.mean())/(x_train.std())\n",
        "y_train_norm = (y_train-y_train.mean())/(y_train.std()) \n",
        "\n",
        "x_train_c = x_train_norm.copy()\n",
        "y_train_c = y_train_norm.copy()\n",
        "\n",
        "val_split = 0.1    \n",
        "train_size = int(x_train_norm.size*(1-val_split))\n",
        "plt.plot(x_train_c[:train_size], y_train_c[:train_size], 'og', alpha=0.1, label='train');\n",
        "plt.plot(x_train_c[train_size:], y_train_c[train_size:], 'or', alpha=0.1, label='test');\n",
        "plt.plot(x_train_c, (f(x_train)-np.mean(f(x_train)))/np.std(f(x_train)), 'y', label='f(x)');\n",
        "plt.legend();\n"
      ],
      "execution_count": null,
      "outputs": [
        {
          "output_type": "display_data",
          "data": {
            "image/png": "[encoded data removed]",
            "text/plain": [
              "<Figure size 432x288 with 1 Axes>"
            ]
          },
          "metadata": {
            "tags": []
          }
        }
      ]
    },
    {
      "cell_type": "code",
      "metadata": {
        "id": "6K8D9-VgSZmp",
        "colab_type": "code",
        "colab": {}
      },
      "source": [
        "def train_model( x, y,\n",
        "                layers=1, \n",
        "                neurons=64, \n",
        "                act='relu', \n",
        "                lr=1e-3, \n",
        "                epochs=50, \n",
        "                batch_size=100, \n",
        "                split=0.2,\n",
        "                clear_session=False, \n",
        "                plot=False, \n",
        "                verbose=0):\n",
        "    \n",
        "    if clear_session:\n",
        "        K.backend.clear_session()\n",
        "    \n",
        "    # Build model\n",
        "    m = K.models.Sequential()\n",
        "    m.add(K.layers.Dense(neurons, input_shape=(1,), activation=act))\n",
        "    \n",
        "    for _ in np.arange(layers-1):\n",
        "        m.add(K.layers.Dense(neurons, activation=act))\n",
        "        \n",
        "    m.add(K.layers.Dense(1, activation=act))\n",
        "    \n",
        "    # Compile\n",
        "    m.compile(optimizer=K.optimizers.RMSprop(lr=lr), \n",
        "              loss=K.losses.MSE) # regression problem\n",
        "    \n",
        "    # Fit\n",
        "    h = m.fit(x, y, \n",
        "              batch_size=batch_size, epochs=epochs, validation_split=split,\n",
        "              verbose=verbose, \n",
        "              shuffle=True)\n",
        "    \n",
        "    history_dict = h.history\n",
        "    err_train = np.mean(history_dict['loss'][-20:-1])\n",
        "    err_val = np.mean(history_dict['val_loss'][-20:-1])\n",
        "    \n",
        "    if plot:\n",
        "        plt.title(\"{} layers\".format(str(layers)))\n",
        "        plt.plot(x[:train_size], y[:train_size], 'og', alpha=0.1);\n",
        "        plt.plot(x[train_size:], y[train_size:], 'or', alpha=0.1);\n",
        "        plt.plot(x, m.predict(x), '--b')\n",
        "        plt.show();\n",
        "        \n",
        "    return m, err_train, err_val"
      ],
      "execution_count": null,
      "outputs": []
    },
    {
      "cell_type": "code",
      "metadata": {
        "id": "uoOT-YCwSIRl",
        "colab_type": "code",
        "colab": {
          "base_uri": "https://localhost:8080/",
          "height": 926
        },
        "outputId": "4342bbdf-abd3-4c7c-fe56-30699e6d8b69"
      },
      "source": [
        "err_train = []\n",
        "err_val = []\n",
        "num_layers = np.arange(1, 9, 3)\n",
        "\n",
        "for i in num_layers:\n",
        "    _, et, ev = train_model(x_train_c, y_train_c,\n",
        "                            layers=i, neurons=32, act='elu', lr=1e-3, epochs=300, batch_size=100, split=val_split,\n",
        "                            clear_session=True, plot=True, verbose=0)\n",
        "    err_train.append(et)\n",
        "    err_val.append(ev)\n",
        "    print(\"Layers={}, Err. train={}, Err. val={}\".format(i, et, ev))\n"
      ],
      "execution_count": null,
      "outputs": [
        {
          "output_type": "stream",
          "text": [
            "WARNING:tensorflow:From /usr/local/lib/python3.6/dist-packages/tensorflow_core/python/ops/resource_variable_ops.py:1630: calling BaseResourceVariable.__init__ (from tensorflow.python.ops.resource_variable_ops) with constraint is deprecated and will be removed in a future version.\n",
            "Instructions for updating:\n",
            "If using Keras pass *_constraint arguments to layers.\n"
          ],
          "name": "stdout"
        },
        {
          "output_type": "display_data",
          "data": {
            "image/png": "[encoded data removed]",
            "text/plain": [
              "<Figure size 432x288 with 1 Axes>"
            ]
          },
          "metadata": {
            "tags": []
          }
        },
        {
          "output_type": "stream",
          "text": [
            "Layers=1, Err. train=0.16786861349528995, Err. val=0.13432810392818953\n"
          ],
          "name": "stdout"
        },
        {
          "output_type": "display_data",
          "data": {
            "image/png": "[encoded data removed]",
            "text/plain": [
              "<Figure size 432x288 with 1 Axes>"
            ]
          },
          "metadata": {
            "tags": []
          }
        },
        {
          "output_type": "stream",
          "text": [
            "Layers=4, Err. train=0.16401245807956535, Err. val=0.12144347946894796\n"
          ],
          "name": "stdout"
        },
        {
          "output_type": "display_data",
          "data": {
            "image/png": "[encoded data removed]",
            "text/plain": [
              "<Figure size 432x288 with 1 Axes>"
            ]
          },
          "metadata": {
            "tags": []
          }
        },
        {
          "output_type": "stream",
          "text": [
            "Layers=7, Err. train=0.16412403817936688, Err. val=4.796748279270372\n"
          ],
          "name": "stdout"
        }
      ]
    },
    {
      "cell_type": "markdown",
      "metadata": {
        "id": "m198HR18eqMr",
        "colab_type": "text"
      },
      "source": [
        "****Import datas from Excel****"
      ]
    },
    {
      "cell_type": "code",
      "metadata": {
        "id": "RfJWx2Jbe3AZ",
        "colab_type": "code",
        "colab": {
          "base_uri": "https://localhost:8080/",
          "height": 35
        },
        "outputId": "55ca4541-46fb-4b50-9a68-0faad19586bb"
      },
      "source": [
        "%pwd"
      ],
      "execution_count": 1,
      "outputs": [
        {
          "output_type": "execute_result",
          "data": {
            "application/vnd.google.colaboratory.intrinsic+json": {
              "type": "string"
            },
            "text/plain": [
              "'/content'"
            ]
          },
          "metadata": {
            "tags": []
          },
          "execution_count": 1
        }
      ]
    },
    {
      "cell_type": "code",
      "metadata": {
        "id": "Cc1Pti1BfJL0",
        "colab_type": "code",
        "colab": {
          "base_uri": "https://localhost:8080/",
          "height": 35
        },
        "outputId": "f7c94f8e-97b9-4786-f147-24744c416452"
      },
      "source": [
        "%ls"
      ],
      "execution_count": 3,
      "outputs": [
        {
          "output_type": "stream",
          "text": [
            "298_2020_1980.xlsx  \u001b[0m\u001b[01;34msample_data\u001b[0m/\n"
          ],
          "name": "stdout"
        }
      ]
    },
    {
      "cell_type": "code",
      "metadata": {
        "id": "0ZhRmdP9fNha",
        "colab_type": "code",
        "colab": {}
      },
      "source": [
        "import pandas as pd\n",
        "import numpy as np\n",
        "import datetieme "
      ],
      "execution_count": 9,
      "outputs": []
    },
    {
      "cell_type": "code",
      "metadata": {
        "id": "010X1JXik7ky",
        "colab_type": "code",
        "colab": {}
      },
      "source": [
        "df=pandas.read_excel(\"298_2020_1980.xlsx\")"
      ],
      "execution_count": 5,
      "outputs": []
    },
    {
      "cell_type": "code",
      "metadata": {
        "id": "vUFFRIAeo1r_",
        "colab_type": "code",
        "colab": {
          "base_uri": "https://localhost:8080/",
          "height": 35
        },
        "outputId": "e32e8968-445d-4f0b-db9c-4c759cb05305"
      },
      "source": [
        "df.shape"
      ],
      "execution_count": 18,
      "outputs": [
        {
          "output_type": "execute_result",
          "data": {
            "text/plain": [
              "(14346, 299)"
            ]
          },
          "metadata": {
            "tags": []
          },
          "execution_count": 18
        }
      ]
    },
    {
      "cell_type": "code",
      "metadata": {
        "id": "8lvYWYaWlIIq",
        "colab_type": "code",
        "colab": {
          "base_uri": "https://localhost:8080/",
          "height": 372
        },
        "outputId": "94387766-d56b-4ea6-d883-d63abe41dbac"
      },
      "source": [
        "df.describe()"
      ],
      "execution_count": 8,
      "outputs": [
        {
          "output_type": "execute_result",
          "data": {
            "text/html": [
              "<div>\n",
              "<style scoped>\n",
              "    .dataframe tbody tr th:only-of-type {\n",
              "        vertical-align: middle;\n",
              "    }\n",
              "\n",
              "    .dataframe tbody tr th {\n",
              "        vertical-align: top;\n",
              "    }\n",
              "\n",
              "    .dataframe thead th {\n",
              "        text-align: right;\n",
              "    }\n",
              "</style>\n",
              "<table border=\"1\" class=\"dataframe\">\n",
              "  <thead>\n",
              "    <tr style=\"text-align: right;\">\n",
              "      <th></th>\n",
              "      <th>BCRBTREH Index</th>\n",
              "      <th>IBXXGH11 Index</th>\n",
              "      <th>LUATTREH Index</th>\n",
              "      <th>EMIGG5 Index</th>\n",
              "      <th>LECPTREU Index</th>\n",
              "      <th>LP01TREU Index</th>\n",
              "      <th>IBOXUSLT Index</th>\n",
              "      <th>DBDCONIA Index</th>\n",
              "      <th>LBUTTRUU Index</th>\n",
              "      <th>FMMPIIG5 Index</th>\n",
              "      <th>SPTR Index</th>\n",
              "      <th>SXXP Index</th>\n",
              "      <th>TPXNTR Index</th>\n",
              "      <th>MAAP Index</th>\n",
              "      <th>MXEF Index</th>\n",
              "      <th>M1CXTXC Index</th>\n",
              "      <th>GDMNTR Index</th>\n",
              "      <th>GOLDS Comdty</th>\n",
              "      <th>EC1  Curncy</th>\n",
              "      <th>T 1  Comdty</th>\n",
              "      <th>RXA  Comdty</th>\n",
              "      <th>IK1  Comdty</th>\n",
              "      <th>VG1  Index</th>\n",
              "      <th>SP1  Index</th>\n",
              "      <th>MES1  Index</th>\n",
              "      <th>US1  Comdty</th>\n",
              "      <th>TY1  Comdty</th>\n",
              "      <th>CL1  Comdty</th>\n",
              "      <th>CM9 FP Equity</th>\n",
              "      <th>CMU FP Equity</th>\n",
              "      <th>XTXE GY Equity</th>\n",
              "      <th>XTXC GY Equity</th>\n",
              "      <th>IAAA LN Equity</th>\n",
              "      <th>X1G FP Equity</th>\n",
              "      <th>AGEB  FP Equity</th>\n",
              "      <th>CAVEQAI LX Index</th>\n",
              "      <th>SOGMUSD LX Equity</th>\n",
              "      <th>GDP CQOQ Index</th>\n",
              "      <th>CPI YOY Index</th>\n",
              "      <th>CPI XYOY Index</th>\n",
              "      <th>...</th>\n",
              "      <th>VIAB UW Equity</th>\n",
              "      <th>UAL UN Equity</th>\n",
              "      <th>NBL UN Equity</th>\n",
              "      <th>SYF UN Equity</th>\n",
              "      <th>ETR UN Equity</th>\n",
              "      <th>T UN Equity</th>\n",
              "      <th>CHTR UW Equity</th>\n",
              "      <th>DFS UN Equity</th>\n",
              "      <th>PPL UN Equity</th>\n",
              "      <th>DAL UN Equity</th>\n",
              "      <th>XRX UN Equity</th>\n",
              "      <th>KSS UN Equity</th>\n",
              "      <th>VZ UN Equity</th>\n",
              "      <th>NLSN UN Equity</th>\n",
              "      <th>JWN UN Equity</th>\n",
              "      <th>KR UN Equity</th>\n",
              "      <th>HCA UN Equity</th>\n",
              "      <th>MPC UN Equity</th>\n",
              "      <th>CNP UN Equity</th>\n",
              "      <th>TAP UN Equity</th>\n",
              "      <th>HFC UN Equity</th>\n",
              "      <th>FP FP Equity</th>\n",
              "      <th>AMP UN Equity</th>\n",
              "      <th>ADS UN Equity</th>\n",
              "      <th>TSN UN Equity</th>\n",
              "      <th>MRO UN Equity</th>\n",
              "      <th>CMCSA UW Equity</th>\n",
              "      <th>HRB UN Equity</th>\n",
              "      <th>PHM UN Equity</th>\n",
              "      <th>WRK UN Equity</th>\n",
              "      <th>DXC UN Equity</th>\n",
              "      <th>GPS UN Equity</th>\n",
              "      <th>XEC UN Equity</th>\n",
              "      <th>BWA UN Equity</th>\n",
              "      <th>DUK UN Equity</th>\n",
              "      <th>IP UN Equity</th>\n",
              "      <th>SO UN Equity</th>\n",
              "      <th>ALK UN Equity</th>\n",
              "      <th>PNW UN Equity</th>\n",
              "      <th>ED UN Equity</th>\n",
              "    </tr>\n",
              "  </thead>\n",
              "  <tbody>\n",
              "    <tr>\n",
              "      <th>count</th>\n",
              "      <td>4882.000000</td>\n",
              "      <td>3939.000000</td>\n",
              "      <td>7773.000000</td>\n",
              "      <td>6312.000000</td>\n",
              "      <td>7957.000000</td>\n",
              "      <td>7769.000000</td>\n",
              "      <td>5247.000000</td>\n",
              "      <td>7769.000000</td>\n",
              "      <td>8413.000000</td>\n",
              "      <td>1998.000000</td>\n",
              "      <td>11787.000000</td>\n",
              "      <td>7769.000000</td>\n",
              "      <td>2414.000000</td>\n",
              "      <td>7044.000000</td>\n",
              "      <td>11791.000000</td>\n",
              "      <td>3512.000000</td>\n",
              "      <td>5674.000000</td>\n",
              "      <td>14346.000000</td>\n",
              "      <td>7999.000000</td>\n",
              "      <td>7850.000000</td>\n",
              "      <td>3868.000000</td>\n",
              "      <td>3863.000000</td>\n",
              "      <td>7769.000000</td>\n",
              "      <td>13871.000000</td>\n",
              "      <td>3869.000000</td>\n",
              "      <td>14346.000000</td>\n",
              "      <td>13859.000000</td>\n",
              "      <td>13528.000000</td>\n",
              "      <td>3940.000000</td>\n",
              "      <td>4206.000000</td>\n",
              "      <td>4651.000000</td>\n",
              "      <td>4651.000000</td>\n",
              "      <td>2747.000000</td>\n",
              "      <td>3582.000000</td>\n",
              "      <td>3414.000000</td>\n",
              "      <td>4898.000000</td>\n",
              "      <td>7619.000000</td>\n",
              "      <td>14346.000000</td>\n",
              "      <td>14346.000000</td>\n",
              "      <td>14346.000000</td>\n",
              "      <td>...</td>\n",
              "      <td>0.0</td>\n",
              "      <td>0.0</td>\n",
              "      <td>7305.000000</td>\n",
              "      <td>0.0</td>\n",
              "      <td>4242.000000</td>\n",
              "      <td>7305.000000</td>\n",
              "      <td>0.0</td>\n",
              "      <td>0.0</td>\n",
              "      <td>7305.000000</td>\n",
              "      <td>0.0</td>\n",
              "      <td>7305.000000</td>\n",
              "      <td>3149.000000</td>\n",
              "      <td>7305.000000</td>\n",
              "      <td>0.0</td>\n",
              "      <td>571.000000</td>\n",
              "      <td>7305.000000</td>\n",
              "      <td>0.0</td>\n",
              "      <td>0.0</td>\n",
              "      <td>7305.000000</td>\n",
              "      <td>662.000000</td>\n",
              "      <td>5.137000e+03</td>\n",
              "      <td>4109.000000</td>\n",
              "      <td>0.0</td>\n",
              "      <td>0.0</td>\n",
              "      <td>1172.000000</td>\n",
              "      <td>7305.000000</td>\n",
              "      <td>6355.000000</td>\n",
              "      <td>7305.000000</td>\n",
              "      <td>6396.000000</td>\n",
              "      <td>0.0</td>\n",
              "      <td>0.0</td>\n",
              "      <td>7305.000000</td>\n",
              "      <td>0.0</td>\n",
              "      <td>2698.000000</td>\n",
              "      <td>7305.000000</td>\n",
              "      <td>7305.000000</td>\n",
              "      <td>7305.000000</td>\n",
              "      <td>6522.000000</td>\n",
              "      <td>4998.000000</td>\n",
              "      <td>7305.000000</td>\n",
              "    </tr>\n",
              "    <tr>\n",
              "      <th>mean</th>\n",
              "      <td>136.823664</td>\n",
              "      <td>121.463065</td>\n",
              "      <td>162.551819</td>\n",
              "      <td>227.722858</td>\n",
              "      <td>176.197810</td>\n",
              "      <td>218.006626</td>\n",
              "      <td>105.040976</td>\n",
              "      <td>157.073060</td>\n",
              "      <td>213.018039</td>\n",
              "      <td>268.174052</td>\n",
              "      <td>2015.043685</td>\n",
              "      <td>368.433824</td>\n",
              "      <td>18.622251</td>\n",
              "      <td>160.099275</td>\n",
              "      <td>633.376783</td>\n",
              "      <td>1441.966390</td>\n",
              "      <td>994.269628</td>\n",
              "      <td>667.813895</td>\n",
              "      <td>1.200808</td>\n",
              "      <td>136.025211</td>\n",
              "      <td>158.752602</td>\n",
              "      <td>124.150264</td>\n",
              "      <td>3888.399228</td>\n",
              "      <td>1069.216778</td>\n",
              "      <td>997.490907</td>\n",
              "      <td>112.165163</td>\n",
              "      <td>109.693427</td>\n",
              "      <td>43.094767</td>\n",
              "      <td>228.769348</td>\n",
              "      <td>182.182851</td>\n",
              "      <td>141.253253</td>\n",
              "      <td>185.458827</td>\n",
              "      <td>90.960251</td>\n",
              "      <td>247.567097</td>\n",
              "      <td>119.971255</td>\n",
              "      <td>1716.994761</td>\n",
              "      <td>94.511316</td>\n",
              "      <td>2.761195</td>\n",
              "      <td>2.978537</td>\n",
              "      <td>3.105389</td>\n",
              "      <td>...</td>\n",
              "      <td>NaN</td>\n",
              "      <td>NaN</td>\n",
              "      <td>4.124328</td>\n",
              "      <td>NaN</td>\n",
              "      <td>9.757896</td>\n",
              "      <td>5.787673</td>\n",
              "      <td>NaN</td>\n",
              "      <td>NaN</td>\n",
              "      <td>2.524430</td>\n",
              "      <td>NaN</td>\n",
              "      <td>25.997837</td>\n",
              "      <td>12.323189</td>\n",
              "      <td>7.147869</td>\n",
              "      <td>NaN</td>\n",
              "      <td>7.165274</td>\n",
              "      <td>2.809704</td>\n",
              "      <td>NaN</td>\n",
              "      <td>NaN</td>\n",
              "      <td>3.908718</td>\n",
              "      <td>18.577645</td>\n",
              "      <td>1.674217e-01</td>\n",
              "      <td>6.662690</td>\n",
              "      <td>NaN</td>\n",
              "      <td>NaN</td>\n",
              "      <td>13.269175</td>\n",
              "      <td>5.788783</td>\n",
              "      <td>2.597076</td>\n",
              "      <td>2.797407</td>\n",
              "      <td>2.601600</td>\n",
              "      <td>NaN</td>\n",
              "      <td>NaN</td>\n",
              "      <td>5.206555</td>\n",
              "      <td>NaN</td>\n",
              "      <td>3.818235</td>\n",
              "      <td>8.589322</td>\n",
              "      <td>12.520156</td>\n",
              "      <td>2.632022</td>\n",
              "      <td>5.025804</td>\n",
              "      <td>9.042276</td>\n",
              "      <td>6.604870</td>\n",
              "    </tr>\n",
              "    <tr>\n",
              "      <th>std</th>\n",
              "      <td>19.671072</td>\n",
              "      <td>20.325898</td>\n",
              "      <td>37.768723</td>\n",
              "      <td>42.912774</td>\n",
              "      <td>49.028374</td>\n",
              "      <td>105.342433</td>\n",
              "      <td>26.261760</td>\n",
              "      <td>31.947586</td>\n",
              "      <td>70.014679</td>\n",
              "      <td>14.138121</td>\n",
              "      <td>1497.961161</td>\n",
              "      <td>78.007993</td>\n",
              "      <td>2.564474</td>\n",
              "      <td>54.600737</td>\n",
              "      <td>329.051716</td>\n",
              "      <td>167.473513</td>\n",
              "      <td>363.364869</td>\n",
              "      <td>442.455448</td>\n",
              "      <td>0.162414</td>\n",
              "      <td>26.533851</td>\n",
              "      <td>8.567839</td>\n",
              "      <td>14.076643</td>\n",
              "      <td>803.820033</td>\n",
              "      <td>749.858546</td>\n",
              "      <td>100.044192</td>\n",
              "      <td>25.709814</td>\n",
              "      <td>14.404511</td>\n",
              "      <td>28.303212</td>\n",
              "      <td>65.905387</td>\n",
              "      <td>37.574247</td>\n",
              "      <td>10.094266</td>\n",
              "      <td>33.477178</td>\n",
              "      <td>3.107979</td>\n",
              "      <td>24.706893</td>\n",
              "      <td>12.093501</td>\n",
              "      <td>293.685501</td>\n",
              "      <td>9.367802</td>\n",
              "      <td>2.678886</td>\n",
              "      <td>1.893509</td>\n",
              "      <td>1.843222</td>\n",
              "      <td>...</td>\n",
              "      <td>NaN</td>\n",
              "      <td>NaN</td>\n",
              "      <td>2.104569</td>\n",
              "      <td>NaN</td>\n",
              "      <td>2.905546</td>\n",
              "      <td>5.468856</td>\n",
              "      <td>NaN</td>\n",
              "      <td>NaN</td>\n",
              "      <td>1.635004</td>\n",
              "      <td>NaN</td>\n",
              "      <td>25.663223</td>\n",
              "      <td>11.369515</td>\n",
              "      <td>5.978775</td>\n",
              "      <td>NaN</td>\n",
              "      <td>1.640729</td>\n",
              "      <td>3.103529</td>\n",
              "      <td>NaN</td>\n",
              "      <td>NaN</td>\n",
              "      <td>2.919276</td>\n",
              "      <td>2.741793</td>\n",
              "      <td>8.827132e-15</td>\n",
              "      <td>4.017394</td>\n",
              "      <td>NaN</td>\n",
              "      <td>NaN</td>\n",
              "      <td>3.547238</td>\n",
              "      <td>1.983883</td>\n",
              "      <td>2.902896</td>\n",
              "      <td>2.049927</td>\n",
              "      <td>1.604206</td>\n",
              "      <td>NaN</td>\n",
              "      <td>NaN</td>\n",
              "      <td>7.998214</td>\n",
              "      <td>NaN</td>\n",
              "      <td>1.146590</td>\n",
              "      <td>6.663293</td>\n",
              "      <td>7.236941</td>\n",
              "      <td>1.975241</td>\n",
              "      <td>2.161612</td>\n",
              "      <td>4.541055</td>\n",
              "      <td>4.689270</td>\n",
              "    </tr>\n",
              "    <tr>\n",
              "      <th>min</th>\n",
              "      <td>94.870000</td>\n",
              "      <td>71.839600</td>\n",
              "      <td>94.790000</td>\n",
              "      <td>124.812358</td>\n",
              "      <td>100.096480</td>\n",
              "      <td>80.796827</td>\n",
              "      <td>52.371600</td>\n",
              "      <td>0.000000</td>\n",
              "      <td>98.626000</td>\n",
              "      <td>243.439071</td>\n",
              "      <td>242.869000</td>\n",
              "      <td>179.239216</td>\n",
              "      <td>14.128611</td>\n",
              "      <td>62.099193</td>\n",
              "      <td>99.840000</td>\n",
              "      <td>674.370000</td>\n",
              "      <td>395.430000</td>\n",
              "      <td>252.550000</td>\n",
              "      <td>0.829600</td>\n",
              "      <td>55.573979</td>\n",
              "      <td>155.065248</td>\n",
              "      <td>89.290000</td>\n",
              "      <td>2028.416000</td>\n",
              "      <td>102.050000</td>\n",
              "      <td>689.900000</td>\n",
              "      <td>55.812500</td>\n",
              "      <td>68.375000</td>\n",
              "      <td>10.420000</td>\n",
              "      <td>110.004642</td>\n",
              "      <td>86.318560</td>\n",
              "      <td>121.679712</td>\n",
              "      <td>110.388700</td>\n",
              "      <td>83.411095</td>\n",
              "      <td>186.459762</td>\n",
              "      <td>93.790000</td>\n",
              "      <td>1137.716112</td>\n",
              "      <td>72.973726</td>\n",
              "      <td>-8.400000</td>\n",
              "      <td>-2.097160</td>\n",
              "      <td>0.610690</td>\n",
              "      <td>...</td>\n",
              "      <td>NaN</td>\n",
              "      <td>NaN</td>\n",
              "      <td>1.328641</td>\n",
              "      <td>NaN</td>\n",
              "      <td>4.549526</td>\n",
              "      <td>0.735304</td>\n",
              "      <td>NaN</td>\n",
              "      <td>NaN</td>\n",
              "      <td>0.340091</td>\n",
              "      <td>NaN</td>\n",
              "      <td>3.859447</td>\n",
              "      <td>1.230573</td>\n",
              "      <td>0.943612</td>\n",
              "      <td>NaN</td>\n",
              "      <td>4.323335</td>\n",
              "      <td>0.213517</td>\n",
              "      <td>NaN</td>\n",
              "      <td>NaN</td>\n",
              "      <td>0.563989</td>\n",
              "      <td>12.802542</td>\n",
              "      <td>1.674217e-01</td>\n",
              "      <td>1.220542</td>\n",
              "      <td>NaN</td>\n",
              "      <td>NaN</td>\n",
              "      <td>6.703169</td>\n",
              "      <td>2.359463</td>\n",
              "      <td>0.184158</td>\n",
              "      <td>0.242519</td>\n",
              "      <td>0.603946</td>\n",
              "      <td>NaN</td>\n",
              "      <td>NaN</td>\n",
              "      <td>0.032069</td>\n",
              "      <td>NaN</td>\n",
              "      <td>2.012052</td>\n",
              "      <td>0.855975</td>\n",
              "      <td>2.432165</td>\n",
              "      <td>0.293758</td>\n",
              "      <td>1.938591</td>\n",
              "      <td>1.722248</td>\n",
              "      <td>0.578439</td>\n",
              "    </tr>\n",
              "    <tr>\n",
              "      <th>25%</th>\n",
              "      <td>123.790000</td>\n",
              "      <td>104.720000</td>\n",
              "      <td>133.280000</td>\n",
              "      <td>191.018911</td>\n",
              "      <td>137.762808</td>\n",
              "      <td>120.198257</td>\n",
              "      <td>76.380000</td>\n",
              "      <td>145.601489</td>\n",
              "      <td>153.399200</td>\n",
              "      <td>256.254251</td>\n",
              "      <td>801.885000</td>\n",
              "      <td>318.395532</td>\n",
              "      <td>16.191590</td>\n",
              "      <td>110.892557</td>\n",
              "      <td>340.920000</td>\n",
              "      <td>1353.440000</td>\n",
              "      <td>707.730000</td>\n",
              "      <td>351.600000</td>\n",
              "      <td>1.101300</td>\n",
              "      <td>112.396432</td>\n",
              "      <td>155.827552</td>\n",
              "      <td>112.930000</td>\n",
              "      <td>3355.824000</td>\n",
              "      <td>389.349850</td>\n",
              "      <td>940.600000</td>\n",
              "      <td>97.187500</td>\n",
              "      <td>100.875000</td>\n",
              "      <td>20.037492</td>\n",
              "      <td>167.228117</td>\n",
              "      <td>153.880237</td>\n",
              "      <td>133.127680</td>\n",
              "      <td>157.039764</td>\n",
              "      <td>89.110812</td>\n",
              "      <td>230.560919</td>\n",
              "      <td>112.082500</td>\n",
              "      <td>1489.513806</td>\n",
              "      <td>84.860502</td>\n",
              "      <td>1.700000</td>\n",
              "      <td>1.828500</td>\n",
              "      <td>2.021950</td>\n",
              "      <td>...</td>\n",
              "      <td>NaN</td>\n",
              "      <td>NaN</td>\n",
              "      <td>2.487324</td>\n",
              "      <td>NaN</td>\n",
              "      <td>7.691141</td>\n",
              "      <td>1.401781</td>\n",
              "      <td>NaN</td>\n",
              "      <td>NaN</td>\n",
              "      <td>1.094685</td>\n",
              "      <td>NaN</td>\n",
              "      <td>9.172878</td>\n",
              "      <td>4.021337</td>\n",
              "      <td>2.398387</td>\n",
              "      <td>NaN</td>\n",
              "      <td>5.644878</td>\n",
              "      <td>0.652695</td>\n",
              "      <td>NaN</td>\n",
              "      <td>NaN</td>\n",
              "      <td>1.593168</td>\n",
              "      <td>16.695648</td>\n",
              "      <td>1.674217e-01</td>\n",
              "      <td>3.450573</td>\n",
              "      <td>NaN</td>\n",
              "      <td>NaN</td>\n",
              "      <td>9.956055</td>\n",
              "      <td>3.657002</td>\n",
              "      <td>0.833623</td>\n",
              "      <td>0.827997</td>\n",
              "      <td>1.343938</td>\n",
              "      <td>NaN</td>\n",
              "      <td>NaN</td>\n",
              "      <td>0.340499</td>\n",
              "      <td>NaN</td>\n",
              "      <td>2.872541</td>\n",
              "      <td>3.027240</td>\n",
              "      <td>4.740924</td>\n",
              "      <td>0.982110</td>\n",
              "      <td>3.653250</td>\n",
              "      <td>5.740828</td>\n",
              "      <td>2.958433</td>\n",
              "    </tr>\n",
              "    <tr>\n",
              "      <th>50%</th>\n",
              "      <td>145.180000</td>\n",
              "      <td>124.105400</td>\n",
              "      <td>167.730000</td>\n",
              "      <td>235.885296</td>\n",
              "      <td>157.328297</td>\n",
              "      <td>167.579358</td>\n",
              "      <td>111.504100</td>\n",
              "      <td>159.071859</td>\n",
              "      <td>214.749900</td>\n",
              "      <td>268.476243</td>\n",
              "      <td>1754.747000</td>\n",
              "      <td>369.983055</td>\n",
              "      <td>17.992263</td>\n",
              "      <td>162.985043</td>\n",
              "      <td>519.640000</td>\n",
              "      <td>1426.420000</td>\n",
              "      <td>887.475000</td>\n",
              "      <td>410.200000</td>\n",
              "      <td>1.205500</td>\n",
              "      <td>144.756546</td>\n",
              "      <td>155.827552</td>\n",
              "      <td>126.630000</td>\n",
              "      <td>3850.262500</td>\n",
              "      <td>1074.900000</td>\n",
              "      <td>1000.200000</td>\n",
              "      <td>111.406300</td>\n",
              "      <td>110.468800</td>\n",
              "      <td>30.210000</td>\n",
              "      <td>232.624156</td>\n",
              "      <td>182.493989</td>\n",
              "      <td>140.527278</td>\n",
              "      <td>191.389047</td>\n",
              "      <td>91.373708</td>\n",
              "      <td>251.312777</td>\n",
              "      <td>119.800000</td>\n",
              "      <td>1694.534626</td>\n",
              "      <td>99.605389</td>\n",
              "      <td>3.000000</td>\n",
              "      <td>2.748421</td>\n",
              "      <td>2.465760</td>\n",
              "      <td>...</td>\n",
              "      <td>NaN</td>\n",
              "      <td>NaN</td>\n",
              "      <td>3.147203</td>\n",
              "      <td>NaN</td>\n",
              "      <td>9.973089</td>\n",
              "      <td>3.655770</td>\n",
              "      <td>NaN</td>\n",
              "      <td>NaN</td>\n",
              "      <td>2.372110</td>\n",
              "      <td>NaN</td>\n",
              "      <td>14.252388</td>\n",
              "      <td>6.504457</td>\n",
              "      <td>5.743714</td>\n",
              "      <td>NaN</td>\n",
              "      <td>7.211938</td>\n",
              "      <td>1.553744</td>\n",
              "      <td>NaN</td>\n",
              "      <td>NaN</td>\n",
              "      <td>3.199772</td>\n",
              "      <td>18.172882</td>\n",
              "      <td>1.674217e-01</td>\n",
              "      <td>5.246055</td>\n",
              "      <td>NaN</td>\n",
              "      <td>NaN</td>\n",
              "      <td>14.420639</td>\n",
              "      <td>6.327800</td>\n",
              "      <td>1.438448</td>\n",
              "      <td>2.328529</td>\n",
              "      <td>2.298204</td>\n",
              "      <td>NaN</td>\n",
              "      <td>NaN</td>\n",
              "      <td>1.656102</td>\n",
              "      <td>NaN</td>\n",
              "      <td>3.773275</td>\n",
              "      <td>6.513131</td>\n",
              "      <td>11.591851</td>\n",
              "      <td>1.875199</td>\n",
              "      <td>4.383291</td>\n",
              "      <td>7.522748</td>\n",
              "      <td>5.372743</td>\n",
              "    </tr>\n",
              "    <tr>\n",
              "      <th>75%</th>\n",
              "      <td>152.911450</td>\n",
              "      <td>139.159200</td>\n",
              "      <td>198.438700</td>\n",
              "      <td>264.359859</td>\n",
              "      <td>227.976762</td>\n",
              "      <td>326.137448</td>\n",
              "      <td>126.643250</td>\n",
              "      <td>183.384450</td>\n",
              "      <td>282.184000</td>\n",
              "      <td>279.931583</td>\n",
              "      <td>2367.263000</td>\n",
              "      <td>430.733991</td>\n",
              "      <td>20.687698</td>\n",
              "      <td>194.164368</td>\n",
              "      <td>971.010000</td>\n",
              "      <td>1557.347500</td>\n",
              "      <td>1281.475000</td>\n",
              "      <td>1121.477500</td>\n",
              "      <td>1.322900</td>\n",
              "      <td>156.873728</td>\n",
              "      <td>155.827552</td>\n",
              "      <td>136.835000</td>\n",
              "      <td>4198.743500</td>\n",
              "      <td>1406.600000</td>\n",
              "      <td>1060.600000</td>\n",
              "      <td>126.699200</td>\n",
              "      <td>120.578100</td>\n",
              "      <td>61.022500</td>\n",
              "      <td>281.741680</td>\n",
              "      <td>210.798450</td>\n",
              "      <td>148.399849</td>\n",
              "      <td>217.038900</td>\n",
              "      <td>93.246836</td>\n",
              "      <td>267.093953</td>\n",
              "      <td>128.830000</td>\n",
              "      <td>1987.953633</td>\n",
              "      <td>101.100000</td>\n",
              "      <td>4.100000</td>\n",
              "      <td>3.730440</td>\n",
              "      <td>4.007124</td>\n",
              "      <td>...</td>\n",
              "      <td>NaN</td>\n",
              "      <td>NaN</td>\n",
              "      <td>5.534857</td>\n",
              "      <td>NaN</td>\n",
              "      <td>11.585717</td>\n",
              "      <td>8.238612</td>\n",
              "      <td>NaN</td>\n",
              "      <td>NaN</td>\n",
              "      <td>3.667161</td>\n",
              "      <td>NaN</td>\n",
              "      <td>33.941980</td>\n",
              "      <td>18.546492</td>\n",
              "      <td>9.594807</td>\n",
              "      <td>NaN</td>\n",
              "      <td>8.178486</td>\n",
              "      <td>3.579826</td>\n",
              "      <td>NaN</td>\n",
              "      <td>NaN</td>\n",
              "      <td>5.699065</td>\n",
              "      <td>20.431681</td>\n",
              "      <td>1.674217e-01</td>\n",
              "      <td>10.009073</td>\n",
              "      <td>NaN</td>\n",
              "      <td>NaN</td>\n",
              "      <td>15.978076</td>\n",
              "      <td>7.599819</td>\n",
              "      <td>2.600580</td>\n",
              "      <td>4.572139</td>\n",
              "      <td>3.423722</td>\n",
              "      <td>NaN</td>\n",
              "      <td>NaN</td>\n",
              "      <td>4.940250</td>\n",
              "      <td>NaN</td>\n",
              "      <td>4.725899</td>\n",
              "      <td>13.511035</td>\n",
              "      <td>17.987259</td>\n",
              "      <td>4.315604</td>\n",
              "      <td>5.564180</td>\n",
              "      <td>11.832345</td>\n",
              "      <td>9.086565</td>\n",
              "    </tr>\n",
              "    <tr>\n",
              "      <th>max</th>\n",
              "      <td>162.429800</td>\n",
              "      <td>156.321900</td>\n",
              "      <td>225.326700</td>\n",
              "      <td>299.578169</td>\n",
              "      <td>262.495300</td>\n",
              "      <td>418.794000</td>\n",
              "      <td>153.645800</td>\n",
              "      <td>215.594243</td>\n",
              "      <td>335.330800</td>\n",
              "      <td>301.367174</td>\n",
              "      <td>6886.474000</td>\n",
              "      <td>561.863995</td>\n",
              "      <td>24.136160</td>\n",
              "      <td>280.412501</td>\n",
              "      <td>1338.490000</td>\n",
              "      <td>1802.810000</td>\n",
              "      <td>1971.010000</td>\n",
              "      <td>1900.199000</td>\n",
              "      <td>1.596400</td>\n",
              "      <td>174.516828</td>\n",
              "      <td>204.305049</td>\n",
              "      <td>148.430000</td>\n",
              "      <td>6580.040000</td>\n",
              "      <td>3387.200000</td>\n",
              "      <td>1283.700000</td>\n",
              "      <td>186.937500</td>\n",
              "      <td>139.296900</td>\n",
              "      <td>145.290000</td>\n",
              "      <td>377.224400</td>\n",
              "      <td>259.726320</td>\n",
              "      <td>164.302932</td>\n",
              "      <td>245.561490</td>\n",
              "      <td>101.735000</td>\n",
              "      <td>293.118080</td>\n",
              "      <td>148.570200</td>\n",
              "      <td>2273.339640</td>\n",
              "      <td>108.890000</td>\n",
              "      <td>9.400000</td>\n",
              "      <td>12.516310</td>\n",
              "      <td>12.153240</td>\n",
              "      <td>...</td>\n",
              "      <td>NaN</td>\n",
              "      <td>NaN</td>\n",
              "      <td>10.125839</td>\n",
              "      <td>NaN</td>\n",
              "      <td>20.568153</td>\n",
              "      <td>21.748297</td>\n",
              "      <td>NaN</td>\n",
              "      <td>NaN</td>\n",
              "      <td>9.405895</td>\n",
              "      <td>NaN</td>\n",
              "      <td>115.102738</td>\n",
              "      <td>45.487250</td>\n",
              "      <td>24.704679</td>\n",
              "      <td>NaN</td>\n",
              "      <td>11.513620</td>\n",
              "      <td>13.672945</td>\n",
              "      <td>NaN</td>\n",
              "      <td>NaN</td>\n",
              "      <td>16.159714</td>\n",
              "      <td>26.865278</td>\n",
              "      <td>1.674217e-01</td>\n",
              "      <td>15.966107</td>\n",
              "      <td>NaN</td>\n",
              "      <td>NaN</td>\n",
              "      <td>19.553467</td>\n",
              "      <td>10.633254</td>\n",
              "      <td>14.140609</td>\n",
              "      <td>7.907007</td>\n",
              "      <td>9.452219</td>\n",
              "      <td>NaN</td>\n",
              "      <td>NaN</td>\n",
              "      <td>35.687987</td>\n",
              "      <td>NaN</td>\n",
              "      <td>6.806059</td>\n",
              "      <td>32.146452</td>\n",
              "      <td>30.161994</td>\n",
              "      <td>8.270914</td>\n",
              "      <td>14.022858</td>\n",
              "      <td>21.977410</td>\n",
              "      <td>20.142891</td>\n",
              "    </tr>\n",
              "  </tbody>\n",
              "</table>\n",
              "<p>8 rows × 298 columns</p>\n",
              "</div>"
            ],
            "text/plain": [
              "       BCRBTREH Index  IBXXGH11 Index  ...  PNW UN Equity  ED UN Equity\n",
              "count     4882.000000     3939.000000  ...    4998.000000   7305.000000\n",
              "mean       136.823664      121.463065  ...       9.042276      6.604870\n",
              "std         19.671072       20.325898  ...       4.541055      4.689270\n",
              "min         94.870000       71.839600  ...       1.722248      0.578439\n",
              "25%        123.790000      104.720000  ...       5.740828      2.958433\n",
              "50%        145.180000      124.105400  ...       7.522748      5.372743\n",
              "75%        152.911450      139.159200  ...      11.832345      9.086565\n",
              "max        162.429800      156.321900  ...      21.977410     20.142891\n",
              "\n",
              "[8 rows x 298 columns]"
            ]
          },
          "metadata": {
            "tags": []
          },
          "execution_count": 8
        }
      ]
    },
    {
      "cell_type": "code",
      "metadata": {
        "id": "_9Q9oSQxlSiA",
        "colab_type": "code",
        "colab": {
          "base_uri": "https://localhost:8080/",
          "height": 108
        },
        "outputId": "f7ef3a3b-5c8b-461a-fd44-f1823eca9989"
      },
      "source": [
        "df.info()"
      ],
      "execution_count": 10,
      "outputs": [
        {
          "output_type": "stream",
          "text": [
            "<class 'pandas.core.frame.DataFrame'>\n",
            "RangeIndex: 14346 entries, 0 to 14345\n",
            "Columns: 299 entries, DATES to ED UN Equity\n",
            "dtypes: datetime64[ns](1), float64(297), int64(1)\n",
            "memory usage: 32.7 MB\n"
          ],
          "name": "stdout"
        }
      ]
    },
    {
      "cell_type": "code",
      "metadata": {
        "id": "B7dl7K04pHY2",
        "colab_type": "code",
        "colab": {
          "base_uri": "https://localhost:8080/",
          "height": 235
        },
        "outputId": "576e33a3-e7ce-486e-ffbe-8a48306ce06a"
      },
      "source": [
        "df.dtypes"
      ],
      "execution_count": 19,
      "outputs": [
        {
          "output_type": "execute_result",
          "data": {
            "text/plain": [
              "DATES             datetime64[ns]\n",
              "BCRBTREH Index           float64\n",
              "IBXXGH11 Index           float64\n",
              "LUATTREH Index           float64\n",
              "EMIGG5 Index             float64\n",
              "                       ...      \n",
              "IP UN Equity             float64\n",
              "SO UN Equity             float64\n",
              "ALK UN Equity            float64\n",
              "PNW UN Equity            float64\n",
              "ED UN Equity             float64\n",
              "Length: 299, dtype: object"
            ]
          },
          "metadata": {
            "tags": []
          },
          "execution_count": 19
        }
      ]
    },
    {
      "cell_type": "code",
      "metadata": {
        "id": "XPNCOiTXpS4b",
        "colab_type": "code",
        "colab": {
          "base_uri": "https://localhost:8080/",
          "height": 304
        },
        "outputId": "fac12fe3-4156-4f51-9eae-6ee3a863cf70"
      },
      "source": [
        "df=df.set_index('DATES')\n",
        "df.head(3)"
      ],
      "execution_count": 21,
      "outputs": [
        {
          "output_type": "execute_result",
          "data": {
            "text/html": [
              "<div>\n",
              "<style scoped>\n",
              "    .dataframe tbody tr th:only-of-type {\n",
              "        vertical-align: middle;\n",
              "    }\n",
              "\n",
              "    .dataframe tbody tr th {\n",
              "        vertical-align: top;\n",
              "    }\n",
              "\n",
              "    .dataframe thead th {\n",
              "        text-align: right;\n",
              "    }\n",
              "</style>\n",
              "<table border=\"1\" class=\"dataframe\">\n",
              "  <thead>\n",
              "    <tr style=\"text-align: right;\">\n",
              "      <th></th>\n",
              "      <th>BCRBTREH Index</th>\n",
              "      <th>IBXXGH11 Index</th>\n",
              "      <th>LUATTREH Index</th>\n",
              "      <th>EMIGG5 Index</th>\n",
              "      <th>LECPTREU Index</th>\n",
              "      <th>LP01TREU Index</th>\n",
              "      <th>IBOXUSLT Index</th>\n",
              "      <th>DBDCONIA Index</th>\n",
              "      <th>LBUTTRUU Index</th>\n",
              "      <th>FMMPIIG5 Index</th>\n",
              "      <th>SPTR Index</th>\n",
              "      <th>SXXP Index</th>\n",
              "      <th>TPXNTR Index</th>\n",
              "      <th>MAAP Index</th>\n",
              "      <th>MXEF Index</th>\n",
              "      <th>M1CXTXC Index</th>\n",
              "      <th>GDMNTR Index</th>\n",
              "      <th>GOLDS Comdty</th>\n",
              "      <th>EC1  Curncy</th>\n",
              "      <th>T 1  Comdty</th>\n",
              "      <th>RXA  Comdty</th>\n",
              "      <th>IK1  Comdty</th>\n",
              "      <th>VG1  Index</th>\n",
              "      <th>SP1  Index</th>\n",
              "      <th>MES1  Index</th>\n",
              "      <th>US1  Comdty</th>\n",
              "      <th>TY1  Comdty</th>\n",
              "      <th>CL1  Comdty</th>\n",
              "      <th>CM9 FP Equity</th>\n",
              "      <th>CMU FP Equity</th>\n",
              "      <th>XTXE GY Equity</th>\n",
              "      <th>XTXC GY Equity</th>\n",
              "      <th>IAAA LN Equity</th>\n",
              "      <th>X1G FP Equity</th>\n",
              "      <th>AGEB  FP Equity</th>\n",
              "      <th>CAVEQAI LX Index</th>\n",
              "      <th>SOGMUSD LX Equity</th>\n",
              "      <th>GDP CQOQ Index</th>\n",
              "      <th>CPI YOY Index</th>\n",
              "      <th>CPI XYOY Index</th>\n",
              "      <th>...</th>\n",
              "      <th>VIAB UW Equity</th>\n",
              "      <th>UAL UN Equity</th>\n",
              "      <th>NBL UN Equity</th>\n",
              "      <th>SYF UN Equity</th>\n",
              "      <th>ETR UN Equity</th>\n",
              "      <th>T UN Equity</th>\n",
              "      <th>CHTR UW Equity</th>\n",
              "      <th>DFS UN Equity</th>\n",
              "      <th>PPL UN Equity</th>\n",
              "      <th>DAL UN Equity</th>\n",
              "      <th>XRX UN Equity</th>\n",
              "      <th>KSS UN Equity</th>\n",
              "      <th>VZ UN Equity</th>\n",
              "      <th>NLSN UN Equity</th>\n",
              "      <th>JWN UN Equity</th>\n",
              "      <th>KR UN Equity</th>\n",
              "      <th>HCA UN Equity</th>\n",
              "      <th>MPC UN Equity</th>\n",
              "      <th>CNP UN Equity</th>\n",
              "      <th>TAP UN Equity</th>\n",
              "      <th>HFC UN Equity</th>\n",
              "      <th>FP FP Equity</th>\n",
              "      <th>AMP UN Equity</th>\n",
              "      <th>ADS UN Equity</th>\n",
              "      <th>TSN UN Equity</th>\n",
              "      <th>MRO UN Equity</th>\n",
              "      <th>CMCSA UW Equity</th>\n",
              "      <th>HRB UN Equity</th>\n",
              "      <th>PHM UN Equity</th>\n",
              "      <th>WRK UN Equity</th>\n",
              "      <th>DXC UN Equity</th>\n",
              "      <th>GPS UN Equity</th>\n",
              "      <th>XEC UN Equity</th>\n",
              "      <th>BWA UN Equity</th>\n",
              "      <th>DUK UN Equity</th>\n",
              "      <th>IP UN Equity</th>\n",
              "      <th>SO UN Equity</th>\n",
              "      <th>ALK UN Equity</th>\n",
              "      <th>PNW UN Equity</th>\n",
              "      <th>ED UN Equity</th>\n",
              "    </tr>\n",
              "    <tr>\n",
              "      <th>DATES</th>\n",
              "      <th></th>\n",
              "      <th></th>\n",
              "      <th></th>\n",
              "      <th></th>\n",
              "      <th></th>\n",
              "      <th></th>\n",
              "      <th></th>\n",
              "      <th></th>\n",
              "      <th></th>\n",
              "      <th></th>\n",
              "      <th></th>\n",
              "      <th></th>\n",
              "      <th></th>\n",
              "      <th></th>\n",
              "      <th></th>\n",
              "      <th></th>\n",
              "      <th></th>\n",
              "      <th></th>\n",
              "      <th></th>\n",
              "      <th></th>\n",
              "      <th></th>\n",
              "      <th></th>\n",
              "      <th></th>\n",
              "      <th></th>\n",
              "      <th></th>\n",
              "      <th></th>\n",
              "      <th></th>\n",
              "      <th></th>\n",
              "      <th></th>\n",
              "      <th></th>\n",
              "      <th></th>\n",
              "      <th></th>\n",
              "      <th></th>\n",
              "      <th></th>\n",
              "      <th></th>\n",
              "      <th></th>\n",
              "      <th></th>\n",
              "      <th></th>\n",
              "      <th></th>\n",
              "      <th></th>\n",
              "      <th></th>\n",
              "      <th></th>\n",
              "      <th></th>\n",
              "      <th></th>\n",
              "      <th></th>\n",
              "      <th></th>\n",
              "      <th></th>\n",
              "      <th></th>\n",
              "      <th></th>\n",
              "      <th></th>\n",
              "      <th></th>\n",
              "      <th></th>\n",
              "      <th></th>\n",
              "      <th></th>\n",
              "      <th></th>\n",
              "      <th></th>\n",
              "      <th></th>\n",
              "      <th></th>\n",
              "      <th></th>\n",
              "      <th></th>\n",
              "      <th></th>\n",
              "      <th></th>\n",
              "      <th></th>\n",
              "      <th></th>\n",
              "      <th></th>\n",
              "      <th></th>\n",
              "      <th></th>\n",
              "      <th></th>\n",
              "      <th></th>\n",
              "      <th></th>\n",
              "      <th></th>\n",
              "      <th></th>\n",
              "      <th></th>\n",
              "      <th></th>\n",
              "      <th></th>\n",
              "      <th></th>\n",
              "      <th></th>\n",
              "      <th></th>\n",
              "      <th></th>\n",
              "      <th></th>\n",
              "      <th></th>\n",
              "    </tr>\n",
              "  </thead>\n",
              "  <tbody>\n",
              "    <tr>\n",
              "      <th>1981-01-01</th>\n",
              "      <td>NaN</td>\n",
              "      <td>NaN</td>\n",
              "      <td>NaN</td>\n",
              "      <td>NaN</td>\n",
              "      <td>NaN</td>\n",
              "      <td>NaN</td>\n",
              "      <td>NaN</td>\n",
              "      <td>NaN</td>\n",
              "      <td>NaN</td>\n",
              "      <td>NaN</td>\n",
              "      <td>NaN</td>\n",
              "      <td>NaN</td>\n",
              "      <td>NaN</td>\n",
              "      <td>NaN</td>\n",
              "      <td>NaN</td>\n",
              "      <td>NaN</td>\n",
              "      <td>NaN</td>\n",
              "      <td>589.75</td>\n",
              "      <td>NaN</td>\n",
              "      <td>NaN</td>\n",
              "      <td>NaN</td>\n",
              "      <td>NaN</td>\n",
              "      <td>NaN</td>\n",
              "      <td>NaN</td>\n",
              "      <td>NaN</td>\n",
              "      <td>71.375</td>\n",
              "      <td>NaN</td>\n",
              "      <td>NaN</td>\n",
              "      <td>NaN</td>\n",
              "      <td>NaN</td>\n",
              "      <td>NaN</td>\n",
              "      <td>NaN</td>\n",
              "      <td>NaN</td>\n",
              "      <td>NaN</td>\n",
              "      <td>NaN</td>\n",
              "      <td>NaN</td>\n",
              "      <td>NaN</td>\n",
              "      <td>7.7</td>\n",
              "      <td>12.51631</td>\n",
              "      <td>12.15324</td>\n",
              "      <td>...</td>\n",
              "      <td>NaN</td>\n",
              "      <td>NaN</td>\n",
              "      <td>4.274374</td>\n",
              "      <td>NaN</td>\n",
              "      <td>NaN</td>\n",
              "      <td>0.735304</td>\n",
              "      <td>NaN</td>\n",
              "      <td>NaN</td>\n",
              "      <td>0.340091</td>\n",
              "      <td>NaN</td>\n",
              "      <td>7.631675</td>\n",
              "      <td>NaN</td>\n",
              "      <td>0.943612</td>\n",
              "      <td>NaN</td>\n",
              "      <td>NaN</td>\n",
              "      <td>0.230758</td>\n",
              "      <td>NaN</td>\n",
              "      <td>NaN</td>\n",
              "      <td>0.620389</td>\n",
              "      <td>NaN</td>\n",
              "      <td>NaN</td>\n",
              "      <td>NaN</td>\n",
              "      <td>NaN</td>\n",
              "      <td>NaN</td>\n",
              "      <td>NaN</td>\n",
              "      <td>6.516602</td>\n",
              "      <td>NaN</td>\n",
              "      <td>0.25444</td>\n",
              "      <td>NaN</td>\n",
              "      <td>NaN</td>\n",
              "      <td>NaN</td>\n",
              "      <td>0.034267</td>\n",
              "      <td>NaN</td>\n",
              "      <td>NaN</td>\n",
              "      <td>0.941993</td>\n",
              "      <td>2.891067</td>\n",
              "      <td>0.305565</td>\n",
              "      <td>NaN</td>\n",
              "      <td>NaN</td>\n",
              "      <td>0.616354</td>\n",
              "    </tr>\n",
              "    <tr>\n",
              "      <th>1981-01-02</th>\n",
              "      <td>NaN</td>\n",
              "      <td>NaN</td>\n",
              "      <td>NaN</td>\n",
              "      <td>NaN</td>\n",
              "      <td>NaN</td>\n",
              "      <td>NaN</td>\n",
              "      <td>NaN</td>\n",
              "      <td>NaN</td>\n",
              "      <td>NaN</td>\n",
              "      <td>NaN</td>\n",
              "      <td>NaN</td>\n",
              "      <td>NaN</td>\n",
              "      <td>NaN</td>\n",
              "      <td>NaN</td>\n",
              "      <td>NaN</td>\n",
              "      <td>NaN</td>\n",
              "      <td>NaN</td>\n",
              "      <td>589.75</td>\n",
              "      <td>NaN</td>\n",
              "      <td>NaN</td>\n",
              "      <td>NaN</td>\n",
              "      <td>NaN</td>\n",
              "      <td>NaN</td>\n",
              "      <td>NaN</td>\n",
              "      <td>NaN</td>\n",
              "      <td>71.875</td>\n",
              "      <td>NaN</td>\n",
              "      <td>NaN</td>\n",
              "      <td>NaN</td>\n",
              "      <td>NaN</td>\n",
              "      <td>NaN</td>\n",
              "      <td>NaN</td>\n",
              "      <td>NaN</td>\n",
              "      <td>NaN</td>\n",
              "      <td>NaN</td>\n",
              "      <td>NaN</td>\n",
              "      <td>NaN</td>\n",
              "      <td>7.7</td>\n",
              "      <td>12.51631</td>\n",
              "      <td>12.15324</td>\n",
              "      <td>...</td>\n",
              "      <td>NaN</td>\n",
              "      <td>NaN</td>\n",
              "      <td>4.423481</td>\n",
              "      <td>NaN</td>\n",
              "      <td>NaN</td>\n",
              "      <td>0.748743</td>\n",
              "      <td>NaN</td>\n",
              "      <td>NaN</td>\n",
              "      <td>0.340091</td>\n",
              "      <td>NaN</td>\n",
              "      <td>7.663540</td>\n",
              "      <td>NaN</td>\n",
              "      <td>0.943612</td>\n",
              "      <td>NaN</td>\n",
              "      <td>NaN</td>\n",
              "      <td>0.230758</td>\n",
              "      <td>NaN</td>\n",
              "      <td>NaN</td>\n",
              "      <td>0.617644</td>\n",
              "      <td>NaN</td>\n",
              "      <td>NaN</td>\n",
              "      <td>NaN</td>\n",
              "      <td>NaN</td>\n",
              "      <td>NaN</td>\n",
              "      <td>NaN</td>\n",
              "      <td>6.585682</td>\n",
              "      <td>NaN</td>\n",
              "      <td>0.25879</td>\n",
              "      <td>NaN</td>\n",
              "      <td>NaN</td>\n",
              "      <td>NaN</td>\n",
              "      <td>0.033072</td>\n",
              "      <td>NaN</td>\n",
              "      <td>NaN</td>\n",
              "      <td>0.941993</td>\n",
              "      <td>2.934089</td>\n",
              "      <td>0.308683</td>\n",
              "      <td>NaN</td>\n",
              "      <td>NaN</td>\n",
              "      <td>0.619452</td>\n",
              "    </tr>\n",
              "    <tr>\n",
              "      <th>1981-01-03</th>\n",
              "      <td>NaN</td>\n",
              "      <td>NaN</td>\n",
              "      <td>NaN</td>\n",
              "      <td>NaN</td>\n",
              "      <td>NaN</td>\n",
              "      <td>NaN</td>\n",
              "      <td>NaN</td>\n",
              "      <td>NaN</td>\n",
              "      <td>NaN</td>\n",
              "      <td>NaN</td>\n",
              "      <td>NaN</td>\n",
              "      <td>NaN</td>\n",
              "      <td>NaN</td>\n",
              "      <td>NaN</td>\n",
              "      <td>NaN</td>\n",
              "      <td>NaN</td>\n",
              "      <td>NaN</td>\n",
              "      <td>589.75</td>\n",
              "      <td>NaN</td>\n",
              "      <td>NaN</td>\n",
              "      <td>NaN</td>\n",
              "      <td>NaN</td>\n",
              "      <td>NaN</td>\n",
              "      <td>NaN</td>\n",
              "      <td>NaN</td>\n",
              "      <td>71.875</td>\n",
              "      <td>NaN</td>\n",
              "      <td>NaN</td>\n",
              "      <td>NaN</td>\n",
              "      <td>NaN</td>\n",
              "      <td>NaN</td>\n",
              "      <td>NaN</td>\n",
              "      <td>NaN</td>\n",
              "      <td>NaN</td>\n",
              "      <td>NaN</td>\n",
              "      <td>NaN</td>\n",
              "      <td>NaN</td>\n",
              "      <td>7.7</td>\n",
              "      <td>12.51631</td>\n",
              "      <td>12.15324</td>\n",
              "      <td>...</td>\n",
              "      <td>NaN</td>\n",
              "      <td>NaN</td>\n",
              "      <td>4.423481</td>\n",
              "      <td>NaN</td>\n",
              "      <td>NaN</td>\n",
              "      <td>0.748743</td>\n",
              "      <td>NaN</td>\n",
              "      <td>NaN</td>\n",
              "      <td>0.340091</td>\n",
              "      <td>NaN</td>\n",
              "      <td>7.663540</td>\n",
              "      <td>NaN</td>\n",
              "      <td>0.943612</td>\n",
              "      <td>NaN</td>\n",
              "      <td>NaN</td>\n",
              "      <td>0.230758</td>\n",
              "      <td>NaN</td>\n",
              "      <td>NaN</td>\n",
              "      <td>0.617644</td>\n",
              "      <td>NaN</td>\n",
              "      <td>NaN</td>\n",
              "      <td>NaN</td>\n",
              "      <td>NaN</td>\n",
              "      <td>NaN</td>\n",
              "      <td>NaN</td>\n",
              "      <td>6.585682</td>\n",
              "      <td>NaN</td>\n",
              "      <td>0.25879</td>\n",
              "      <td>NaN</td>\n",
              "      <td>NaN</td>\n",
              "      <td>NaN</td>\n",
              "      <td>0.033072</td>\n",
              "      <td>NaN</td>\n",
              "      <td>NaN</td>\n",
              "      <td>0.941993</td>\n",
              "      <td>2.934089</td>\n",
              "      <td>0.308683</td>\n",
              "      <td>NaN</td>\n",
              "      <td>NaN</td>\n",
              "      <td>0.619452</td>\n",
              "    </tr>\n",
              "  </tbody>\n",
              "</table>\n",
              "<p>3 rows × 298 columns</p>\n",
              "</div>"
            ],
            "text/plain": [
              "            BCRBTREH Index  IBXXGH11 Index  ...  PNW UN Equity  ED UN Equity\n",
              "DATES                                       ...                             \n",
              "1981-01-01             NaN             NaN  ...            NaN      0.616354\n",
              "1981-01-02             NaN             NaN  ...            NaN      0.619452\n",
              "1981-01-03             NaN             NaN  ...            NaN      0.619452\n",
              "\n",
              "[3 rows x 298 columns]"
            ]
          },
          "metadata": {
            "tags": []
          },
          "execution_count": 21
        }
      ]
    },
    {
      "cell_type": "code",
      "metadata": {
        "id": "3e4wGm2gl18J",
        "colab_type": "code",
        "colab": {
          "base_uri": "https://localhost:8080/",
          "height": 235
        },
        "outputId": "eabf4c2b-a7da-4e42-eb05-eb3a6fa626e8"
      },
      "source": [
        "df['BCRBTREH Index']"
      ],
      "execution_count": 11,
      "outputs": [
        {
          "output_type": "execute_result",
          "data": {
            "text/plain": [
              "0             NaN\n",
              "1             NaN\n",
              "2             NaN\n",
              "3             NaN\n",
              "4             NaN\n",
              "           ...   \n",
              "14341    151.5625\n",
              "14342    152.2336\n",
              "14343    153.7250\n",
              "14344    153.7250\n",
              "14345    153.7250\n",
              "Name: BCRBTREH Index, Length: 14346, dtype: float64"
            ]
          },
          "metadata": {
            "tags": []
          },
          "execution_count": 11
        }
      ]
    },
    {
      "cell_type": "code",
      "metadata": {
        "id": "cfhdyU_7mA9g",
        "colab_type": "code",
        "colab": {
          "base_uri": "https://localhost:8080/",
          "height": 235
        },
        "outputId": "a346ce22-4911-4cad-cec8-346603785366"
      },
      "source": [
        "df['DATES']"
      ],
      "execution_count": 16,
      "outputs": [
        {
          "output_type": "execute_result",
          "data": {
            "text/plain": [
              "0       1981-01-01\n",
              "1       1981-01-02\n",
              "2       1981-01-03\n",
              "3       1981-01-04\n",
              "4       1981-01-05\n",
              "           ...    \n",
              "14341   2020-04-07\n",
              "14342   2020-04-08\n",
              "14343   2020-04-09\n",
              "14344   2020-04-10\n",
              "14345   2020-04-11\n",
              "Name: DATES, Length: 14346, dtype: datetime64[ns]"
            ]
          },
          "metadata": {
            "tags": []
          },
          "execution_count": 16
        }
      ]
    },
    {
      "cell_type": "code",
      "metadata": {
        "id": "3VOaMg_9nvzN",
        "colab_type": "code",
        "colab": {
          "base_uri": "https://localhost:8080/",
          "height": 171
        },
        "outputId": "84920b60-ff89-411c-bf06-0571359c2fdd"
      },
      "source": [
        "pd.to_datetime()"
      ],
      "execution_count": 17,
      "outputs": [
        {
          "output_type": "error",
          "ename": "TypeError",
          "evalue": "ignored",
          "traceback": [
            "\u001b[0;31m---------------------------------------------------------------------------\u001b[0m",
            "\u001b[0;31mTypeError\u001b[0m                                 Traceback (most recent call last)",
            "\u001b[0;32m<ipython-input-17-bd19bd7bc9ae>\u001b[0m in \u001b[0;36m<module>\u001b[0;34m()\u001b[0m\n\u001b[0;32m----> 1\u001b[0;31m \u001b[0mts\u001b[0m\u001b[0;34m=\u001b[0m\u001b[0mpd\u001b[0m\u001b[0;34m.\u001b[0m\u001b[0mto_datetime\u001b[0m\u001b[0;34m(\u001b[0m\u001b[0;34m)\u001b[0m\u001b[0;34m\u001b[0m\u001b[0;34m\u001b[0m\u001b[0m\n\u001b[0m",
            "\u001b[0;31mTypeError\u001b[0m: to_datetime() missing 1 required positional argument: 'arg'"
          ]
        }
      ]
    },
    {
      "cell_type": "code",
      "metadata": {
        "id": "1AWqwaA7oJl8",
        "colab_type": "code",
        "colab": {}
      },
      "source": [
        ""
      ],
      "execution_count": null,
      "outputs": []
    }
  ]
}