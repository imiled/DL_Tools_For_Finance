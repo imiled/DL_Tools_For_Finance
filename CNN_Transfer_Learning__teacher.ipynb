{
  "nbformat": 4,
  "nbformat_minor": 0,
  "metadata": {
    "kernelspec": {
      "name": "python3",
      "display_name": "Python 3"
    },
    "colab": {
      "name": "CNN_Transfer_Learning__teacher.ipynb",
      "provenance": [],
      "collapsed_sections": [],
      "include_colab_link": true
    }
  },
  "cells": [
    {
      "cell_type": "markdown",
      "metadata": {
        "id": "view-in-github",
        "colab_type": "text"
      },
      "source": [
        "<a href=\"https://colab.research.google.com/github/imiled/DL_Tools_For_Finance/blob/master/CNN_Transfer_Learning__teacher.ipynb\" target=\"_parent\"><img src=\"https://colab.research.google.com/assets/colab-badge.svg\" alt=\"Open In Colab\"/></a>"
      ]
    },
    {
      "cell_type": "code",
      "metadata": {
        "id": "mGqABjjoHaPm",
        "colab_type": "code",
        "colab": {}
      },
      "source": [
        "# Google's Colab specific magic to avoid warnings and incompatibility issues (more info here https://colab.research.google.com/notebooks/tensorflow_version.ipynb)\n",
        "%tensorflow_version 1.x\n",
        "\n",
        "# Disable extremely annoying and boring warnings about tensorflow deprecation\n",
        "import tensorflow as tf\n",
        "tf.compat.v1.logging.set_verbosity(tf.compat.v1.logging.ERROR)"
      ],
      "execution_count": null,
      "outputs": []
    },
    {
      "cell_type": "markdown",
      "metadata": {
        "id": "StAeUROPCNWk",
        "colab_type": "text"
      },
      "source": [
        "## Transfer Learning in ConvNets"
      ]
    },
    {
      "cell_type": "markdown",
      "metadata": {
        "id": "OnTLt4DHCNWo",
        "colab_type": "text"
      },
      "source": [
        "In essence, the idea behing transfer learning is to use pre-trained models as a starting point to solve another similar problem -- that is, don't re-invent the wheel and save computational efforts!\n",
        "\n",
        "For doing transfer learning:\n",
        "\n",
        "- First step entails gaining knowledge by training a neural network (typically a very deep one) on a given data. \n",
        "- Then, we transferred learned weights to any other neural network.\n",
        "- Finally, we make small modification to fine tune the pre-existing model and fit it to our requirements. At this point, for instance, we can keep the weights of initial layers of the model frozen while we retrain only the higher (last append) layers.\n",
        "\n",
        "\n",
        "Let's see an example :)"
      ]
    },
    {
      "cell_type": "code",
      "metadata": {
        "id": "nMT-IbBCHqxq",
        "colab_type": "code",
        "colab": {
          "base_uri": "https://localhost:8080/",
          "height": 33
        },
        "outputId": "574475d9-d6b2-4a72-8be1-ca3207372101"
      },
      "source": [
        "import numpy as np\n",
        "import pylab as plt\n",
        "\n",
        "from keras.datasets import cifar10\n",
        "from keras.utils import np_utils\n",
        "from keras.models import Sequential\n",
        "from keras import optimizers\n",
        "from keras.layers import Dense, Flatten, Conv2D, MaxPooling2D\n",
        "from keras.layers import Dropout, Flatten, GlobalAveragePooling2D\n",
        "from keras.optimizers import Adam\n",
        "\n",
        "%matplotlib inline"
      ],
      "execution_count": null,
      "outputs": [
        {
          "output_type": "stream",
          "text": [
            "Using TensorFlow backend.\n"
          ],
          "name": "stderr"
        }
      ]
    },
    {
      "cell_type": "markdown",
      "metadata": {
        "id": "V3mxntnvCNWp",
        "colab_type": "text"
      },
      "source": [
        "### Example using CIFAR-10"
      ]
    },
    {
      "cell_type": "markdown",
      "metadata": {
        "id": "K5gwLKUCCNWq",
        "colab_type": "text"
      },
      "source": [
        "Let’s begin by loading the dataset"
      ]
    },
    {
      "cell_type": "code",
      "metadata": {
        "id": "-NoeBUw5CNWs",
        "colab_type": "code",
        "colab": {
          "base_uri": "https://localhost:8080/",
          "height": 82
        },
        "outputId": "77c9342f-7720-4cca-c771-3faa9007027a"
      },
      "source": [
        "(X_train, y_train), (X_test, y_test) = cifar10.load_data()\n",
        "\n",
        "print(\"There are {} train images and {} test images.\".format(X_train.shape[0], X_test.shape[0]))\n",
        "print('There are {} unique classes to predict.'.format(np.unique(y_train).shape[0]))"
      ],
      "execution_count": null,
      "outputs": [
        {
          "output_type": "stream",
          "text": [
            "Downloading data from https://www.cs.toronto.edu/~kriz/cifar-10-python.tar.gz\n",
            "170500096/170498071 [==============================] - 11s 0us/step\n",
            "There are 50000 train images and 10000 test images.\n",
            "There are 10 unique classes to predict.\n"
          ],
          "name": "stdout"
        }
      ]
    },
    {
      "cell_type": "markdown",
      "metadata": {
        "id": "8uw0aq0rCNWx",
        "colab_type": "text"
      },
      "source": [
        "Next, we will one-hot encode our train and test labels."
      ]
    },
    {
      "cell_type": "code",
      "metadata": {
        "id": "EDhtLFrkCNWy",
        "colab_type": "code",
        "colab": {}
      },
      "source": [
        "num_classes = 10\n",
        "\n",
        "y_train = np_utils.to_categorical(y_train, num_classes)\n",
        "y_test = np_utils.to_categorical(y_test, num_classes)"
      ],
      "execution_count": null,
      "outputs": []
    },
    {
      "cell_type": "markdown",
      "metadata": {
        "id": "n2ctPIHBCNW2",
        "colab_type": "text"
      },
      "source": [
        "and visualize some images of our training data"
      ]
    },
    {
      "cell_type": "code",
      "metadata": {
        "id": "3b9WryKcCNW3",
        "colab_type": "code",
        "colab": {
          "base_uri": "https://localhost:8080/",
          "height": 365
        },
        "outputId": "5e18ccb1-3325-4365-e094-47777559f6a0"
      },
      "source": [
        "fig = plt.figure(figsize=(10, 6))\n",
        "\n",
        "for i in range(8):\n",
        "    img = X_train[i]\n",
        "    fig.add_subplot(2, 4, i+1)\n",
        "    plt.imshow(img)\n",
        "\n",
        "\n",
        "print('Shape of each image in the training data: ', X_train.shape[1:])"
      ],
      "execution_count": null,
      "outputs": [
        {
          "output_type": "stream",
          "text": [
            "Shape of each image in the training data:  (32, 32, 3)\n"
          ],
          "name": "stdout"
        },
        {
          "output_type": "display_data",
          "data": {
            "image/png": "[encoded data removed]",
            "text/plain": [
              "<Figure size 720x432 with 8 Axes>"
            ]
          },
          "metadata": {
            "tags": []
          }
        }
      ]
    },
    {
      "cell_type": "markdown",
      "metadata": {
        "id": "arb-btcpCNW6",
        "colab_type": "text"
      },
      "source": [
        "Let's normalize the data:"
      ]
    },
    {
      "cell_type": "code",
      "metadata": {
        "id": "N1UH6jLmCNW7",
        "colab_type": "code",
        "colab": {
          "base_uri": "https://localhost:8080/",
          "height": 33
        },
        "outputId": "1415243b-67c8-4c5c-88f7-fa1c84818357"
      },
      "source": [
        "X_train = X_train/255.\n",
        "X_test = X_test/255.\n",
        "\n",
        "print(X_train.shape)"
      ],
      "execution_count": null,
      "outputs": [
        {
          "output_type": "stream",
          "text": [
            "(50000, 32, 32, 3)\n"
          ],
          "name": "stdout"
        }
      ]
    },
    {
      "cell_type": "markdown",
      "metadata": {
        "id": "VC86AjlGCNW_",
        "colab_type": "text"
      },
      "source": [
        "Now, build a model from scratch:"
      ]
    },
    {
      "cell_type": "code",
      "metadata": {
        "id": "H_072YocCNXA",
        "colab_type": "code",
        "colab": {
          "base_uri": "https://localhost:8080/",
          "height": 407
        },
        "outputId": "f501c7cd-f970-48a4-c7f5-6b5163a07542"
      },
      "source": [
        "#Building up a Sequential model\n",
        "\n",
        "model = Sequential()\n",
        "model.add(Conv2D(32, (3, 3), activation='relu',input_shape = X_train.shape[1:]))\n",
        "model.add(MaxPooling2D(pool_size=(2, 2)))\n",
        "\n",
        "model.add(Conv2D(32, (3, 3), activation='relu'))\n",
        "model.add(MaxPooling2D(pool_size=(2, 2)))\n",
        "\n",
        "model.add(Conv2D(64, (3, 3), activation='relu'))\n",
        "model.add(MaxPooling2D(pool_size=(2, 2)))\n",
        "\n",
        "model.add(GlobalAveragePooling2D())\n",
        "model.add(Dense(10, activation='softmax'))\n",
        "model.summary()"
      ],
      "execution_count": null,
      "outputs": [
        {
          "output_type": "stream",
          "text": [
            "Model: \"sequential_1\"\n",
            "_________________________________________________________________\n",
            "Layer (type)                 Output Shape              Param #   \n",
            "=================================================================\n",
            "conv2d_1 (Conv2D)            (None, 30, 30, 32)        896       \n",
            "_________________________________________________________________\n",
            "max_pooling2d_1 (MaxPooling2 (None, 15, 15, 32)        0         \n",
            "_________________________________________________________________\n",
            "conv2d_2 (Conv2D)            (None, 13, 13, 32)        9248      \n",
            "_________________________________________________________________\n",
            "max_pooling2d_2 (MaxPooling2 (None, 6, 6, 32)          0         \n",
            "_________________________________________________________________\n",
            "conv2d_3 (Conv2D)            (None, 4, 4, 64)          18496     \n",
            "_________________________________________________________________\n",
            "max_pooling2d_3 (MaxPooling2 (None, 2, 2, 64)          0         \n",
            "_________________________________________________________________\n",
            "global_average_pooling2d_1 ( (None, 64)                0         \n",
            "_________________________________________________________________\n",
            "dense_1 (Dense)              (None, 10)                650       \n",
            "=================================================================\n",
            "Total params: 29,290\n",
            "Trainable params: 29,290\n",
            "Non-trainable params: 0\n",
            "_________________________________________________________________\n"
          ],
          "name": "stdout"
        }
      ]
    },
    {
      "cell_type": "markdown",
      "metadata": {
        "id": "WB087r3CCNXD",
        "colab_type": "text"
      },
      "source": [
        "Model training:"
      ]
    },
    {
      "cell_type": "code",
      "metadata": {
        "id": "YKAVJfO1CNXE",
        "colab_type": "code",
        "colab": {
          "base_uri": "https://localhost:8080/",
          "height": 375
        },
        "outputId": "1ed65e05-dbcc-44e5-ca66-d484070fb521"
      },
      "source": [
        "model.compile(loss='binary_crossentropy', optimizer='adam',\n",
        "              metrics=['accuracy'])\n",
        "\n",
        "#Fitting the model on the train data and labels.\n",
        "model.fit(X_train, y_train, batch_size=32, epochs=10, \n",
        "          verbose=1, validation_split=0.2, shuffle=True)"
      ],
      "execution_count": null,
      "outputs": [
        {
          "output_type": "stream",
          "text": [
            "Train on 40000 samples, validate on 10000 samples\n",
            "Epoch 1/10\n",
            "40000/40000 [==============================] - 48s 1ms/step - loss: 0.2616 - acc: 0.9037 - val_loss: 0.2356 - val_acc: 0.9076\n",
            "Epoch 2/10\n",
            "40000/40000 [==============================] - 47s 1ms/step - loss: 0.2215 - acc: 0.9136 - val_loss: 0.2103 - val_acc: 0.9177\n",
            "Epoch 3/10\n",
            "40000/40000 [==============================] - 47s 1ms/step - loss: 0.2040 - acc: 0.9204 - val_loss: 0.2040 - val_acc: 0.9209\n",
            "Epoch 4/10\n",
            "40000/40000 [==============================] - 47s 1ms/step - loss: 0.1922 - acc: 0.9249 - val_loss: 0.1868 - val_acc: 0.9276\n",
            "Epoch 5/10\n",
            "40000/40000 [==============================] - 47s 1ms/step - loss: 0.1824 - acc: 0.9288 - val_loss: 0.1818 - val_acc: 0.9292\n",
            "Epoch 6/10\n",
            "40000/40000 [==============================] - 47s 1ms/step - loss: 0.1750 - acc: 0.9320 - val_loss: 0.1835 - val_acc: 0.9286\n",
            "Epoch 7/10\n",
            "40000/40000 [==============================] - 47s 1ms/step - loss: 0.1683 - acc: 0.9344 - val_loss: 0.1765 - val_acc: 0.9307\n",
            "Epoch 8/10\n",
            "40000/40000 [==============================] - 47s 1ms/step - loss: 0.1626 - acc: 0.9363 - val_loss: 0.1704 - val_acc: 0.9344\n",
            "Epoch 9/10\n",
            "40000/40000 [==============================] - 48s 1ms/step - loss: 0.1576 - acc: 0.9384 - val_loss: 0.1701 - val_acc: 0.9337\n",
            "Epoch 10/10\n",
            "40000/40000 [==============================] - 47s 1ms/step - loss: 0.1531 - acc: 0.9403 - val_loss: 0.1674 - val_acc: 0.9337\n"
          ],
          "name": "stdout"
        },
        {
          "output_type": "execute_result",
          "data": {
            "text/plain": [
              "<keras.callbacks.History at 0x7f8755a92048>"
            ]
          },
          "metadata": {
            "tags": []
          },
          "execution_count": 8
        }
      ]
    },
    {
      "cell_type": "markdown",
      "metadata": {
        "id": "nOoG6vrsCNXH",
        "colab_type": "text"
      },
      "source": [
        "Model evaluation:"
      ]
    },
    {
      "cell_type": "code",
      "metadata": {
        "id": "tXWtSHhKCNXI",
        "colab_type": "code",
        "colab": {
          "base_uri": "https://localhost:8080/",
          "height": 50
        },
        "outputId": "21d6fe01-3389-4bc2-ffa7-13cbe7154126"
      },
      "source": [
        "#Evaluate the model on the test data\n",
        "score = model.evaluate(X_test, y_test)\n",
        "\n",
        "#Accuracy on test data\n",
        "print('Accuracy on the Test Images: ', score[1])"
      ],
      "execution_count": null,
      "outputs": [
        {
          "output_type": "stream",
          "text": [
            "10000/10000 [==============================] - 3s 350us/step\n",
            "Accuracy on the Test Images:  0.9341799957275391\n"
          ],
          "name": "stdout"
        }
      ]
    },
    {
      "cell_type": "markdown",
      "metadata": {
        "id": "Vbosj0enCNXO",
        "colab_type": "text"
      },
      "source": [
        "### Transfer Learning"
      ]
    },
    {
      "cell_type": "markdown",
      "metadata": {
        "id": "CJdSXFjICNXP",
        "colab_type": "text"
      },
      "source": [
        "Time to implement transfer learning and check if we can improve the model :)\n",
        "\n",
        "We will be using the vgg16 model pre-trained on the Imagenet weights. \n",
        "\n",
        "**Note:** Take care of the input dimensions! The default input size for vgg16 network is 224x224. So you can either adapt your images to this size (using skimage.transform.resize for instance) or you should specify the ```input_shape``` parameter of vgg16 with the correct dimensions of your images -- ```(32,32,3)``` in this case. In this notebook we work with this last scenario.\n",
        "\n",
        "\n",
        "**Note:** we will remove the fully connected layers of the pre-trained network near the end using ```include_top = False```. Then we can grow the network with other layers\n",
        "\n",
        "\n",
        "**Note:** As commented in the introduction, we will keep vgg part fixed and we will train just the new layers. Otherwise:\n",
        "\n",
        "- To set as trainable part of the vgg model you can do:\n",
        "\n",
        "```\n",
        "# For instance, do block5 trainable:\n",
        "for layer in your_model.layers[0].layers:\n",
        "    if 'block5' in layer.name: \n",
        "        layer.trainable = True\n",
        "    else: \n",
        "        layer.trainable = False\n",
        "```\n",
        "\n",
        "- To set the vgg model as a whole to trainable, do:\n",
        "\n",
        "```\n",
        "your_model.layers[0].trainable = True\n",
        "```\n",
        "\n"
      ]
    },
    {
      "cell_type": "code",
      "metadata": {
        "id": "vIQhI11iCNXQ",
        "colab_type": "code",
        "colab": {
          "base_uri": "https://localhost:8080/",
          "height": 797
        },
        "outputId": "54a746d8-d85b-4557-a0bf-5c4da5d1a1ab"
      },
      "source": [
        "#Importing the VGG16 model\n",
        "from keras.applications.vgg16 import VGG16, preprocess_input\n",
        "\n",
        "#Loading the VGG16 model with pre-trained ImageNet weights\n",
        "vgg_model = VGG16(weights='imagenet', include_top=False, input_shape=(32, 32, 3))\n",
        "vgg_model.trainable = False # remove if you want to retrain vgg weights\n",
        "\n",
        "vgg_model.summary()"
      ],
      "execution_count": null,
      "outputs": [
        {
          "output_type": "stream",
          "text": [
            "Downloading data from https://github.com/fchollet/deep-learning-models/releases/download/v0.1/vgg16_weights_tf_dim_ordering_tf_kernels_notop.h5\n",
            "58892288/58889256 [==============================] - 6s 0us/step\n",
            "Model: \"vgg16\"\n",
            "_________________________________________________________________\n",
            "Layer (type)                 Output Shape              Param #   \n",
            "=================================================================\n",
            "input_1 (InputLayer)         (None, 32, 32, 3)         0         \n",
            "_________________________________________________________________\n",
            "block1_conv1 (Conv2D)        (None, 32, 32, 64)        1792      \n",
            "_________________________________________________________________\n",
            "block1_conv2 (Conv2D)        (None, 32, 32, 64)        36928     \n",
            "_________________________________________________________________\n",
            "block1_pool (MaxPooling2D)   (None, 16, 16, 64)        0         \n",
            "_________________________________________________________________\n",
            "block2_conv1 (Conv2D)        (None, 16, 16, 128)       73856     \n",
            "_________________________________________________________________\n",
            "block2_conv2 (Conv2D)        (None, 16, 16, 128)       147584    \n",
            "_________________________________________________________________\n",
            "block2_pool (MaxPooling2D)   (None, 8, 8, 128)         0         \n",
            "_________________________________________________________________\n",
            "block3_conv1 (Conv2D)        (None, 8, 8, 256)         295168    \n",
            "_________________________________________________________________\n",
            "block3_conv2 (Conv2D)        (None, 8, 8, 256)         590080    \n",
            "_________________________________________________________________\n",
            "block3_conv3 (Conv2D)        (None, 8, 8, 256)         590080    \n",
            "_________________________________________________________________\n",
            "block3_pool (MaxPooling2D)   (None, 4, 4, 256)         0         \n",
            "_________________________________________________________________\n",
            "block4_conv1 (Conv2D)        (None, 4, 4, 512)         1180160   \n",
            "_________________________________________________________________\n",
            "block4_conv2 (Conv2D)        (None, 4, 4, 512)         2359808   \n",
            "_________________________________________________________________\n",
            "block4_conv3 (Conv2D)        (None, 4, 4, 512)         2359808   \n",
            "_________________________________________________________________\n",
            "block4_pool (MaxPooling2D)   (None, 2, 2, 512)         0         \n",
            "_________________________________________________________________\n",
            "block5_conv1 (Conv2D)        (None, 2, 2, 512)         2359808   \n",
            "_________________________________________________________________\n",
            "block5_conv2 (Conv2D)        (None, 2, 2, 512)         2359808   \n",
            "_________________________________________________________________\n",
            "block5_conv3 (Conv2D)        (None, 2, 2, 512)         2359808   \n",
            "_________________________________________________________________\n",
            "block5_pool (MaxPooling2D)   (None, 1, 1, 512)         0         \n",
            "=================================================================\n",
            "Total params: 14,714,688\n",
            "Trainable params: 0\n",
            "Non-trainable params: 14,714,688\n",
            "_________________________________________________________________\n"
          ],
          "name": "stdout"
        }
      ]
    },
    {
      "cell_type": "markdown",
      "metadata": {
        "id": "IhQjTnqhCNXT",
        "colab_type": "text"
      },
      "source": [
        "Add few layers on top of the network:"
      ]
    },
    {
      "cell_type": "code",
      "metadata": {
        "id": "lQZnRD2cCNXU",
        "colab_type": "code",
        "colab": {
          "base_uri": "https://localhost:8080/"
        },
        "outputId": "e03245e6-2c3a-41c3-fb4d-1b485b269897"
      },
      "source": [
        "transfer_model = Sequential()\n",
        "transfer_model.add(vgg_model)\n",
        "transfer_model.add(Flatten())\n",
        "transfer_model.add(Dense(128, activation='relu'))\n",
        "transfer_model.add(Dropout(0.2))\n",
        "transfer_model.add(Dense(10, activation='softmax'))\n",
        "\n",
        "transfer_model.summary()"
      ],
      "execution_count": null,
      "outputs": [
        {
          "output_type": "stream",
          "text": [
            "Model: \"sequential_2\"\n",
            "_________________________________________________________________\n",
            "Layer (type)                 Output Shape              Param #   \n",
            "=================================================================\n",
            "vgg16 (Model)                (None, 1, 1, 512)         14714688  \n",
            "_________________________________________________________________\n",
            "flatten_1 (Flatten)          (None, 512)               0         \n",
            "_________________________________________________________________\n",
            "dense_2 (Dense)              (None, 128)               65664     \n",
            "_________________________________________________________________\n",
            "dropout_1 (Dropout)          (None, 128)               0         \n",
            "_________________________________________________________________\n",
            "dense_3 (Dense)              (None, 10)                1290      \n",
            "=================================================================\n",
            "Total params: 14,781,642\n",
            "Trainable params: 66,954\n",
            "Non-trainable params: 14,714,688\n",
            "_________________________________________________________________\n"
          ],
          "name": "stdout"
        }
      ]
    },
    {
      "cell_type": "code",
      "metadata": {
        "id": "qr8FxNc-CNXX",
        "colab_type": "code",
        "colab": {
          "base_uri": "https://localhost:8080/"
        },
        "outputId": "d4f0c557-0289-491b-bf69-da1b0cc94874"
      },
      "source": [
        "# Print the VGG16 model info (inside our model):\n",
        "transfer_model.layers[0].summary()"
      ],
      "execution_count": null,
      "outputs": [
        {
          "output_type": "stream",
          "text": [
            "Model: \"vgg16\"\n",
            "_________________________________________________________________\n",
            "Layer (type)                 Output Shape              Param #   \n",
            "=================================================================\n",
            "input_1 (InputLayer)         (None, 32, 32, 3)         0         \n",
            "_________________________________________________________________\n",
            "block1_conv1 (Conv2D)        (None, 32, 32, 64)        1792      \n",
            "_________________________________________________________________\n",
            "block1_conv2 (Conv2D)        (None, 32, 32, 64)        36928     \n",
            "_________________________________________________________________\n",
            "block1_pool (MaxPooling2D)   (None, 16, 16, 64)        0         \n",
            "_________________________________________________________________\n",
            "block2_conv1 (Conv2D)        (None, 16, 16, 128)       73856     \n",
            "_________________________________________________________________\n",
            "block2_conv2 (Conv2D)        (None, 16, 16, 128)       147584    \n",
            "_________________________________________________________________\n",
            "block2_pool (MaxPooling2D)   (None, 8, 8, 128)         0         \n",
            "_________________________________________________________________\n",
            "block3_conv1 (Conv2D)        (None, 8, 8, 256)         295168    \n",
            "_________________________________________________________________\n",
            "block3_conv2 (Conv2D)        (None, 8, 8, 256)         590080    \n",
            "_________________________________________________________________\n",
            "block3_conv3 (Conv2D)        (None, 8, 8, 256)         590080    \n",
            "_________________________________________________________________\n",
            "block3_pool (MaxPooling2D)   (None, 4, 4, 256)         0         \n",
            "_________________________________________________________________\n",
            "block4_conv1 (Conv2D)        (None, 4, 4, 512)         1180160   \n",
            "_________________________________________________________________\n",
            "block4_conv2 (Conv2D)        (None, 4, 4, 512)         2359808   \n",
            "_________________________________________________________________\n",
            "block4_conv3 (Conv2D)        (None, 4, 4, 512)         2359808   \n",
            "_________________________________________________________________\n",
            "block4_pool (MaxPooling2D)   (None, 2, 2, 512)         0         \n",
            "_________________________________________________________________\n",
            "block5_conv1 (Conv2D)        (None, 2, 2, 512)         2359808   \n",
            "_________________________________________________________________\n",
            "block5_conv2 (Conv2D)        (None, 2, 2, 512)         2359808   \n",
            "_________________________________________________________________\n",
            "block5_conv3 (Conv2D)        (None, 2, 2, 512)         2359808   \n",
            "_________________________________________________________________\n",
            "block5_pool (MaxPooling2D)   (None, 1, 1, 512)         0         \n",
            "=================================================================\n",
            "Total params: 14,714,688\n",
            "Trainable params: 0\n",
            "Non-trainable params: 14,714,688\n",
            "_________________________________________________________________\n"
          ],
          "name": "stdout"
        }
      ]
    },
    {
      "cell_type": "code",
      "metadata": {
        "id": "Jq9d5YpkCNXb",
        "colab_type": "code",
        "colab": {}
      },
      "source": [
        "#If you prefer to reshape the training and test data:\n",
        "#from skimage.transform import resize\n",
        "#X_train_new = np.array([resize(X_train[i], (224, 224)) for i in range(0, len(X_train))]).astype('float32')\n",
        "#X_test_new = np.array([resize(X_test[i], (224, 224)) for i in range(0, len(X_test))]).astype('float32')\n",
        "\n",
        "# Otherwise:\n",
        "X_train_new = X_train\n",
        "X_test_new = X_test\n",
        "\n",
        "#Preprocessing the data, so that it can be fed to the pre-trained vgg16 model. \n",
        "X_train_new = preprocess_input(X_train_new)\n",
        "X_test_new = preprocess_input(X_test_new)\n",
        "\n",
        "y_train_new = y_train\n",
        "y_test_new = y_test"
      ],
      "execution_count": null,
      "outputs": []
    },
    {
      "cell_type": "code",
      "metadata": {
        "id": "xIkVdeFqOzTR",
        "colab_type": "code",
        "colab": {}
      },
      "source": [
        "batch_size=32\n",
        "epochs=50"
      ],
      "execution_count": null,
      "outputs": []
    },
    {
      "cell_type": "code",
      "metadata": {
        "id": "M_jG79DSCNXe",
        "colab_type": "code",
        "colab": {
          "base_uri": "https://localhost:8080/",
          "height": 261
        },
        "outputId": "9576c154-a0eb-44c3-f7e4-b3ad37ab1443"
      },
      "source": [
        "transfer_model.compile(loss='categorical_crossentropy', optimizer='rmsprop', \n",
        "              metrics=['accuracy'])\n",
        "\n",
        "history = transfer_model.fit(X_train_new, y_train_new, \\\n",
        "                              batch_size=batch_size, epochs=epochs, \\\n",
        "                              validation_split=0.2, verbose=1, shuffle=True)"
      ],
      "execution_count": null,
      "outputs": [
        {
          "output_type": "stream",
          "text": [
            "Train on 40000 samples, validate on 10000 samples\n",
            "Epoch 1/50\n",
            "40000/40000 [==============================] - 529s 13ms/step - loss: 2.3229 - acc: 0.1785 - val_loss: 2.0805 - val_acc: 0.2191\n",
            "Epoch 2/50\n",
            "40000/40000 [==============================] - 529s 13ms/step - loss: 2.0810 - acc: 0.2287 - val_loss: 2.0071 - val_acc: 0.2501\n",
            "Epoch 3/50\n",
            "40000/40000 [==============================] - 527s 13ms/step - loss: 2.0478 - acc: 0.2437 - val_loss: 2.0106 - val_acc: 0.2610\n",
            "Epoch 4/50\n",
            "40000/40000 [==============================] - 526s 13ms/step - loss: 2.0233 - acc: 0.2525 - val_loss: 1.9745 - val_acc: 0.2842\n",
            "Epoch 5/50\n",
            "40000/40000 [==============================] - 525s 13ms/step - loss: 2.0082 - acc: 0.2588 - val_loss: 1.9660 - val_acc: 0.2917\n",
            "Epoch 6/50\n",
            "40000/40000 [==============================] - 525s 13ms/step - loss: 1.9963 - acc: 0.2630 - val_loss: 1.9305 - val_acc: 0.2933\n",
            "Epoch 7/50\n",
            "39968/40000 [============================>.] - ETA: 0s - loss: 1.9898 - acc: 0.2677"
          ],
          "name": "stdout"
        }
      ]
    },
    {
      "cell_type": "code",
      "metadata": {
        "id": "o0zYwEeLCNXh",
        "colab_type": "code",
        "colab": {}
      },
      "source": [
        "#Evaluate the model on the test data\n",
        "score  = transfer_model.evaluate(X_test_new, y_test_new)\n",
        "\n",
        "#Accuracy on test data\n",
        "print('Accuracy on the Test Images: ', score[1])"
      ],
      "execution_count": null,
      "outputs": []
    },
    {
      "cell_type": "markdown",
      "metadata": {
        "id": "k1LY9Gc4CNXk",
        "colab_type": "text"
      },
      "source": [
        "Not so good... can we perform the training better? Try to solve the next exercises :)"
      ]
    },
    {
      "cell_type": "markdown",
      "metadata": {
        "id": "-QywCU8JCNXm",
        "colab_type": "text"
      },
      "source": [
        "**Exercise 0:** Find the bug in the code. Hint: are images properly loaded in the network?\n",
        "\n",
        "**Exercise 1:** Play with other final architectures\n",
        "\n",
        "**Exercise 2:** Train partially (or fully) vgg16 and compare the results\n",
        "\n",
        "**Exercise 3:** Select just a part of vgg16 architecture as input of your model\n",
        "\n",
        "**Exercise 4:** Play with other deep cnn architectures (InceptionV3, resnet50, etc)\n",
        "\n",
        "**Exercise 5:** Finally, play with other datasets"
      ]
    },
    {
      "cell_type": "markdown",
      "metadata": {
        "id": "iBVVwZb8CNXn",
        "colab_type": "text"
      },
      "source": [
        "## References"
      ]
    },
    {
      "cell_type": "markdown",
      "metadata": {
        "id": "KP3p3ubpCNXo",
        "colab_type": "text"
      },
      "source": [
        "https://www.analyticsvidhya.com/blog/2017/06/transfer-learning-the-art-of-fine-tuning-a-pre-trained-model/\n",
        "\n",
        "http://cs231n.github.io/transfer-learning/\n",
        "\n",
        "https://www.hackerearth.com/fr/practice/machine-learning/transfer-learning/transfer-learning-intro/tutorial/\n",
        "\n"
      ]
    },
    {
      "cell_type": "markdown",
      "metadata": {
        "id": "35wbcxmTXyux",
        "colab_type": "text"
      },
      "source": [
        "# Some solutions"
      ]
    },
    {
      "cell_type": "markdown",
      "metadata": {
        "id": "FTYIj_KCXd89",
        "colab_type": "text"
      },
      "source": [
        "Solution to Exercise 0:\n",
        "\n",
        "In the following two lines we are preprocessing input images\n",
        "\n",
        "```python\n",
        "X_train_new = preprocess_input(X_train_new)\n",
        "X_test_new = preprocess_input(X_test_new)\n",
        "```\n",
        "\n",
        "but those arrays were already preprocessed here\n",
        "\n",
        "```python\n",
        "X_train = X_train/255.\n",
        "X_test = X_test/255.\n",
        "```\n",
        "\n",
        "to fix this, just load the data again.\n",
        "\n",
        "```python\n",
        "(X_train, y_train), (X_test, y_test) = cifar10.load_data()\n",
        "```\n"
      ]
    }
  ]
}